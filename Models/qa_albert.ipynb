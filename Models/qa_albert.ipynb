{
 "cells": [
  {
   "cell_type": "code",
   "execution_count": 1,
   "id": "bd64c8c3-91ea-4f0e-8802-00684195a825",
   "metadata": {},
   "outputs": [],
   "source": [
    "from datasets import load_dataset, load_metric, ClassLabel, Sequence\n",
    "import random\n",
    "import pandas as pd\n",
    "from IPython.display import display, HTML\n",
    "from transformers import AutoTokenizer\n",
    "import transformers\n",
    "from transformers import AutoModelForQuestionAnswering, TrainingArguments, Trainer\n",
    "from transformers import default_data_collator"
   ]
  },
  {
   "cell_type": "code",
   "execution_count": 2,
   "id": "b22772a2-70cf-4549-8104-b7245a4a4d8a",
   "metadata": {},
   "outputs": [],
   "source": [
    "squad_v2 = False\n",
    "model_checkpoint = \"albert-base-v2\"\n",
    "batch_size = 16"
   ]
  },
  {
   "cell_type": "code",
   "execution_count": 3,
   "id": "7088e63b-f508-45ab-9f36-81eb037e6326",
   "metadata": {},
   "outputs": [
    {
     "name": "stderr",
     "output_type": "stream",
     "text": [
      "Reusing dataset squad (C:\\Users\\Firat\\.cache\\huggingface\\datasets\\squad\\plain_text\\1.0.0\\d6ec3ceb99ca480ce37cdd35555d6cb2511d223b9150cce08a837ef62ffea453)\n"
     ]
    },
    {
     "data": {
      "application/vnd.jupyter.widget-view+json": {
       "model_id": "559342fcceac473d82036854fe7b5137",
       "version_major": 2,
       "version_minor": 0
      },
      "text/plain": [
       "  0%|          | 0/2 [00:00<?, ?it/s]"
      ]
     },
     "metadata": {},
     "output_type": "display_data"
    }
   ],
   "source": [
    "datasets = load_dataset(\"squad_v2\" if squad_v2 else \"squad\")"
   ]
  },
  {
   "cell_type": "code",
   "execution_count": 4,
   "id": "f2f91291-282e-47e1-95bd-d2ece93d01af",
   "metadata": {},
   "outputs": [
    {
     "data": {
      "text/plain": [
       "DatasetDict({\n",
       "    train: Dataset({\n",
       "        features: ['id', 'title', 'context', 'question', 'answers'],\n",
       "        num_rows: 87599\n",
       "    })\n",
       "    validation: Dataset({\n",
       "        features: ['id', 'title', 'context', 'question', 'answers'],\n",
       "        num_rows: 10570\n",
       "    })\n",
       "})"
      ]
     },
     "execution_count": 4,
     "metadata": {},
     "output_type": "execute_result"
    }
   ],
   "source": [
    "datasets"
   ]
  },
  {
   "cell_type": "code",
   "execution_count": 5,
   "id": "02317eb6-3b4e-4fb2-96e9-1bdec2ef5518",
   "metadata": {},
   "outputs": [],
   "source": [
    "def show_random_elements(dataset, num_examples=5):\n",
    "    assert num_examples <= len(dataset), \"Can't pick more elements than there are in the dataset.\"\n",
    "    picks = []\n",
    "    for _ in range(num_examples):\n",
    "        pick = random.randint(0, len(dataset)-1)\n",
    "        while pick in picks:\n",
    "            pick = random.randint(0, len(dataset)-1)\n",
    "        picks.append(pick)\n",
    "    \n",
    "    df = pd.DataFrame(dataset[picks])\n",
    "    for column, typ in dataset.features.items():\n",
    "        if isinstance(typ, ClassLabel):\n",
    "            df[column] = df[column].transform(lambda i: typ.names[i])\n",
    "        elif isinstance(typ, Sequence) and isinstance(typ.feature, ClassLabel):\n",
    "            df[column] = df[column].transform(lambda x: [typ.feature.names[i] for i in x])\n",
    "    display(HTML(df.to_html()))"
   ]
  },
  {
   "cell_type": "code",
   "execution_count": 6,
   "id": "a9a373fa-26ec-4454-a13a-f2ffaef5a350",
   "metadata": {},
   "outputs": [
    {
     "data": {
      "text/html": [
       "<table border=\"1\" class=\"dataframe\">\n",
       "  <thead>\n",
       "    <tr style=\"text-align: right;\">\n",
       "      <th></th>\n",
       "      <th>id</th>\n",
       "      <th>title</th>\n",
       "      <th>context</th>\n",
       "      <th>question</th>\n",
       "      <th>answers</th>\n",
       "    </tr>\n",
       "  </thead>\n",
       "  <tbody>\n",
       "    <tr>\n",
       "      <th>0</th>\n",
       "      <td>5727e0dbff5b5019007d975f</td>\n",
       "      <td>Gramophone_record</td>\n",
       "      <td>The \"orange peel\" effect on vinyl records is caused by worn molds. Rather than having the proper mirror-like finish, the surface of the record will have a texture that looks like orange peel. This introduces noise into the record, particularly in the lower frequency range. With direct metal mastering (DMM), the master disc is cut on a copper-coated disc, which can also have a minor \"orange peel\" effect on the disc itself. As this \"orange peel\" originates in the master rather than being introduced in the pressing stage, there is no ill effect as there is no physical distortion of the groove.</td>\n",
       "      <td>What is the expected finish of a vinyl record?</td>\n",
       "      <td>{'text': ['mirror-like'], 'answer_start': [97]}</td>\n",
       "    </tr>\n",
       "    <tr>\n",
       "      <th>1</th>\n",
       "      <td>56e0d133231d4119001ac3dd</td>\n",
       "      <td>Web_browser</td>\n",
       "      <td>This process begins when the user inputs a Uniform Resource Locator (URL), for example http://en.wikipedia.org/, into the browser. The prefix of the URL, the Uniform Resource Identifier or URI, determines how the URL will be interpreted. The most commonly used kind of URI starts with http: and identifies a resource to be retrieved over the Hypertext Transfer Protocol (HTTP). Many browsers also support a variety of other prefixes, such as https: for HTTPS, ftp: for the File Transfer Protocol, and file: for local files. Prefixes that the web browser cannot directly handle are often handed off to another application entirely. For example, mailto: URIs are usually passed to the user's default e-mail application, and news: URIs are passed to the user's default newsgroup reader.</td>\n",
       "      <td>What is the determining factor in how a URL will be interpreted?</td>\n",
       "      <td>{'text': ['The prefix of the URL'], 'answer_start': [131]}</td>\n",
       "    </tr>\n",
       "    <tr>\n",
       "      <th>2</th>\n",
       "      <td>56d99dcfdc89441400fdb608</td>\n",
       "      <td>Dog</td>\n",
       "      <td>The coats of domestic dogs are of two varieties: \"double\" being common with dogs (as well as wolves) originating from colder climates, made up of a coarse guard hair and a soft down hair, or \"single\", with the topcoat only.</td>\n",
       "      <td>What is the more common coat for dogs from colder climates?</td>\n",
       "      <td>{'text': ['double'], 'answer_start': [50]}</td>\n",
       "    </tr>\n",
       "  </tbody>\n",
       "</table>"
      ],
      "text/plain": [
       "<IPython.core.display.HTML object>"
      ]
     },
     "metadata": {},
     "output_type": "display_data"
    }
   ],
   "source": [
    "show_random_elements(datasets[\"train\"],num_examples=3)"
   ]
  },
  {
   "cell_type": "code",
   "execution_count": 7,
   "id": "331c2d7b-1809-404e-b339-8a1b0aef4cbf",
   "metadata": {},
   "outputs": [
    {
     "data": {
      "application/vnd.jupyter.widget-view+json": {
       "model_id": "26127d08dd864909b46ce00a30b36795",
       "version_major": 2,
       "version_minor": 0
      },
      "text/plain": [
       "Downloading:   0%|          | 0.00/684 [00:00<?, ?B/s]"
      ]
     },
     "metadata": {},
     "output_type": "display_data"
    },
    {
     "data": {
      "application/vnd.jupyter.widget-view+json": {
       "model_id": "e01bcffa1e294aafa5bb7ab8a1de5aca",
       "version_major": 2,
       "version_minor": 0
      },
      "text/plain": [
       "Downloading:   0%|          | 0.00/742k [00:00<?, ?B/s]"
      ]
     },
     "metadata": {},
     "output_type": "display_data"
    },
    {
     "data": {
      "application/vnd.jupyter.widget-view+json": {
       "model_id": "dd4772f002e1401ba67ddba1341af886",
       "version_major": 2,
       "version_minor": 0
      },
      "text/plain": [
       "Downloading:   0%|          | 0.00/1.25M [00:00<?, ?B/s]"
      ]
     },
     "metadata": {},
     "output_type": "display_data"
    }
   ],
   "source": [
    "tokenizer = AutoTokenizer.from_pretrained(model_checkpoint)\n",
    "#tokenizer = RobertaTokenizer.from_pretrained(\"roberta-base\")  ROBERTA?"
   ]
  },
  {
   "cell_type": "code",
   "execution_count": 8,
   "id": "0719ffd2-81bb-4531-a6aa-f428e54a7533",
   "metadata": {},
   "outputs": [
    {
     "data": {
      "text/plain": [
       "{'input_ids': [2, 98, 25, 154, 204, 60, 3, 51, 204, 25, 10993, 1385, 108, 9, 3], 'token_type_ids': [0, 0, 0, 0, 0, 0, 0, 1, 1, 1, 1, 1, 1, 1, 1], 'attention_mask': [1, 1, 1, 1, 1, 1, 1, 1, 1, 1, 1, 1, 1, 1, 1]}"
      ]
     },
     "execution_count": 8,
     "metadata": {},
     "output_type": "execute_result"
    }
   ],
   "source": [
    "tokenizer(\"What is your name?\", \"My name is Sylvain.\")"
   ]
  },
  {
   "cell_type": "code",
   "execution_count": 9,
   "id": "51dc7726-8ba7-4d8b-a819-45d84d0608c0",
   "metadata": {},
   "outputs": [],
   "source": [
    "max_length = 384 # The maximum length of a feature (question and context)\n",
    "doc_stride = 128 # The authorized overlap between two part of the context when splitting it is needed."
   ]
  },
  {
   "cell_type": "code",
   "execution_count": 10,
   "id": "090db9ad-29c6-4dda-ba95-d61408adb1a7",
   "metadata": {},
   "outputs": [],
   "source": [
    "for i, example in enumerate(datasets[\"train\"]):\n",
    "    if len(tokenizer(example[\"question\"], example[\"context\"])[\"input_ids\"]) > 384:\n",
    "        break\n",
    "example = datasets[\"train\"][i]"
   ]
  },
  {
   "cell_type": "code",
   "execution_count": 11,
   "id": "d5b6691a-8a1e-4008-878d-3537cd2759d4",
   "metadata": {},
   "outputs": [
    {
     "data": {
      "text/plain": [
       "384"
      ]
     },
     "execution_count": 11,
     "metadata": {},
     "output_type": "execute_result"
    }
   ],
   "source": [
    "len(tokenizer(example[\"question\"], example[\"context\"], max_length=max_length, truncation=\"only_second\")[\"input_ids\"])"
   ]
  },
  {
   "cell_type": "code",
   "execution_count": 12,
   "id": "ddef8c38-0755-4a2d-9657-fa58c43d091a",
   "metadata": {},
   "outputs": [],
   "source": [
    "tokenized_example = tokenizer(\n",
    "    example[\"question\"],\n",
    "    example[\"context\"],\n",
    "    max_length=max_length,\n",
    "    truncation=\"only_second\",\n",
    "    return_overflowing_tokens=True,\n",
    "    stride=doc_stride\n",
    ")"
   ]
  },
  {
   "cell_type": "code",
   "execution_count": 13,
   "id": "1b4f2a16-e117-4b64-b08c-7f0e9c401bed",
   "metadata": {},
   "outputs": [
    {
     "data": {
      "text/plain": [
       "[384, 157]"
      ]
     },
     "execution_count": 13,
     "metadata": {},
     "output_type": "execute_result"
    }
   ],
   "source": [
    "[len(x) for x in tokenized_example[\"input_ids\"]]"
   ]
  },
  {
   "cell_type": "code",
   "execution_count": 14,
   "id": "d520c19e-72f0-46fc-b923-e1fdf0adfa1c",
   "metadata": {},
   "outputs": [
    {
     "name": "stdout",
     "output_type": "stream",
     "text": [
      "[CLS] how many wins does the notre dame men's basketball team have?[SEP] the men's basketball team has over 1,600 wins, one of only 12 schools who have reached that mark, and have appeared in 28 ncaa tournaments. former player austin carr holds the record for most points scored in a single game of the tournament with 61. although the team has never won the ncaa tournament, they were named by the helms athletic foundation as national champions twice. the team has orchestrated a number of upsets of number one ranked teams, the most notable of which was ending ucla's record 88-game winning streak in 1974. the team has beaten an additional eight number-one teams, and those nine wins rank second, to ucla's 10, all-time in wins against the top team. the team plays in newly renovated purcell pavilion (within the edmund p. joyce center), which reopened for the beginning of the 2009–2010 season. the team is coached by mike brey, who, as of the 2014–15 season, his fifteenth at notre dame, has achieved a 332-165 record. in 2009 they were invited to the nit, where they advanced to the semifinals but were beaten by penn state who went on and beat baylor in the championship. the 2010–11 team concluded its regular season ranked number seven in the country, with a record of 25–5, brey's fifth straight 20-win season, and a second-place finish in the big east. during the 2014-15 season, the team went 32-6 and won the acc conference tournament, later advancing to the elite 8, where the fighting irish lost on a missed buzzer-beater against then undefeated kentucky. led by nba draft picks jerian grant and pat connaughton, the fighting irish beat the eventual national champion duke blue devils twice during the season. the 32 wins were[SEP]\n",
      "[CLS] how many wins does the notre dame men's basketball team have?[SEP] the championship. the 2010–11 team concluded its regular season ranked number seven in the country, with a record of 25–5, brey's fifth straight 20-win season, and a second-place finish in the big east. during the 2014-15 season, the team went 32-6 and won the acc conference tournament, later advancing to the elite 8, where the fighting irish lost on a missed buzzer-beater against then undefeated kentucky. led by nba draft picks jerian grant and pat connaughton, the fighting irish beat the eventual national champion duke blue devils twice during the season. the 32 wins were the most by the fighting irish team since 1908-09.[SEP]\n"
     ]
    }
   ],
   "source": [
    "for x in tokenized_example[\"input_ids\"][:2]:\n",
    "    print(tokenizer.decode(x))"
   ]
  },
  {
   "cell_type": "code",
   "execution_count": 15,
   "id": "0b28cd3b-70c9-4ba7-b921-a9365f5b5348",
   "metadata": {},
   "outputs": [
    {
     "name": "stdout",
     "output_type": "stream",
     "text": [
      "[(0, 0), (0, 3), (4, 8), (9, 13), (14, 18), (19, 22), (23, 28), (29, 33), (34, 37), (37, 38), (38, 39), (40, 50), (51, 55), (56, 60), (60, 61), (0, 0), (0, 3), (4, 7), (7, 8), (8, 9), (10, 20), (21, 25), (26, 29), (30, 34), (35, 36), (35, 40), (41, 45), (45, 46), (47, 50), (51, 53), (54, 58), (59, 61), (62, 69), (70, 73), (74, 78), (79, 86), (87, 91), (92, 96), (96, 97), (98, 101), (102, 106), (107, 115), (116, 118), (119, 121), (122, 126), (127, 138), (138, 139), (140, 146), (147, 153), (154, 160), (161, 165), (166, 171), (172, 175), (176, 182), (183, 186), (187, 191), (192, 198), (199, 205), (206, 208), (209, 210), (211, 217), (218, 222), (223, 225), (226, 229), (230, 240), (241, 245), (246, 248), (248, 249), (250, 258), (259, 262), (263, 267), (268, 271), (272, 277), (278, 281), (282, 285), (286, 290), (291, 301), (301, 302), (303, 307), (308, 312), (313, 318), (319, 321), (322, 325), (326, 330), (330, 331), (332, 340), (341, 351), (352, 354), (355, 363), (364, 373), (374, 379), (379, 380), (381, 384), (385, 389), (390, 393), (394, 406), (407, 408), (409, 415), (416, 418), (419, 424)]\n"
     ]
    }
   ],
   "source": [
    "tokenized_example = tokenizer(\n",
    "    example[\"question\"],\n",
    "    example[\"context\"],\n",
    "    max_length=max_length,\n",
    "    truncation=\"only_second\",\n",
    "    return_overflowing_tokens=True,\n",
    "    return_offsets_mapping=True,\n",
    "    stride=doc_stride\n",
    ")\n",
    "print(tokenized_example[\"offset_mapping\"][0][:100])"
   ]
  },
  {
   "cell_type": "code",
   "execution_count": 16,
   "id": "3477a505-93d2-4841-9de6-3b8ec46a18cd",
   "metadata": {},
   "outputs": [
    {
     "name": "stdout",
     "output_type": "stream",
     "text": [
      "▁how How\n"
     ]
    }
   ],
   "source": [
    "first_token_id = tokenized_example[\"input_ids\"][0][1]\n",
    "offsets = tokenized_example[\"offset_mapping\"][0][1]\n",
    "print(tokenizer.convert_ids_to_tokens([first_token_id])[0], example[\"question\"][offsets[0]:offsets[1]])"
   ]
  },
  {
   "cell_type": "code",
   "execution_count": 17,
   "id": "98e794c6-d0c6-4eef-9a28-a6f8a3de822f",
   "metadata": {},
   "outputs": [
    {
     "name": "stdout",
     "output_type": "stream",
     "text": [
      "[None, 0, 0, 0, 0, 0, 0, 0, 0, 0, 0, 0, 0, 0, 0, None, 1, 1, 1, 1, 1, 1, 1, 1, 1, 1, 1, 1, 1, 1, 1, 1, 1, 1, 1, 1, 1, 1, 1, 1, 1, 1, 1, 1, 1, 1, 1, 1, 1, 1, 1, 1, 1, 1, 1, 1, 1, 1, 1, 1, 1, 1, 1, 1, 1, 1, 1, 1, 1, 1, 1, 1, 1, 1, 1, 1, 1, 1, 1, 1, 1, 1, 1, 1, 1, 1, 1, 1, 1, 1, 1, 1, 1, 1, 1, 1, 1, 1, 1, 1, 1, 1, 1, 1, 1, 1, 1, 1, 1, 1, 1, 1, 1, 1, 1, 1, 1, 1, 1, 1, 1, 1, 1, 1, 1, 1, 1, 1, 1, 1, 1, 1, 1, 1, 1, 1, 1, 1, 1, 1, 1, 1, 1, 1, 1, 1, 1, 1, 1, 1, 1, 1, 1, 1, 1, 1, 1, 1, 1, 1, 1, 1, 1, 1, 1, 1, 1, 1, 1, 1, 1, 1, 1, 1, 1, 1, 1, 1, 1, 1, 1, 1, 1, 1, 1, 1, 1, 1, 1, 1, 1, 1, 1, 1, 1, 1, 1, 1, 1, 1, 1, 1, 1, 1, 1, 1, 1, 1, 1, 1, 1, 1, 1, 1, 1, 1, 1, 1, 1, 1, 1, 1, 1, 1, 1, 1, 1, 1, 1, 1, 1, 1, 1, 1, 1, 1, 1, 1, 1, 1, 1, 1, 1, 1, 1, 1, 1, 1, 1, 1, 1, 1, 1, 1, 1, 1, 1, 1, 1, 1, 1, 1, 1, 1, 1, 1, 1, 1, 1, 1, 1, 1, 1, 1, 1, 1, 1, 1, 1, 1, 1, 1, 1, 1, 1, 1, 1, 1, 1, 1, 1, 1, 1, 1, 1, 1, 1, 1, 1, 1, 1, 1, 1, 1, 1, 1, 1, 1, 1, 1, 1, 1, 1, 1, 1, 1, 1, 1, 1, 1, 1, 1, 1, 1, 1, 1, 1, 1, 1, 1, 1, 1, 1, 1, 1, 1, 1, 1, 1, 1, 1, 1, 1, 1, 1, 1, 1, 1, 1, 1, 1, 1, 1, 1, 1, 1, 1, 1, 1, 1, 1, 1, 1, 1, 1, 1, 1, 1, 1, 1, 1, 1, 1, 1, 1, 1, 1, 1, 1, 1, 1, 1, 1, None]\n"
     ]
    }
   ],
   "source": [
    "sequence_ids = tokenized_example.sequence_ids()\n",
    "print(sequence_ids)"
   ]
  },
  {
   "cell_type": "code",
   "execution_count": 18,
   "id": "378b89af-6197-484a-a51c-81dee2b54b58",
   "metadata": {},
   "outputs": [
    {
     "name": "stdout",
     "output_type": "stream",
     "text": [
      "23 25\n"
     ]
    }
   ],
   "source": [
    "answers = example[\"answers\"]\n",
    "start_char = answers[\"answer_start\"][0]\n",
    "end_char = start_char + len(answers[\"text\"][0])\n",
    "\n",
    "# Start token index of the current span in the text.\n",
    "token_start_index = 0\n",
    "while sequence_ids[token_start_index] != 1:\n",
    "    token_start_index += 1\n",
    "\n",
    "# End token index of the current span in the text.\n",
    "token_end_index = len(tokenized_example[\"input_ids\"][0]) - 1\n",
    "while sequence_ids[token_end_index] != 1:\n",
    "    token_end_index -= 1\n",
    "\n",
    "# Detect if the answer is out of the span (in which case this feature is labeled with the CLS index).\n",
    "offsets = tokenized_example[\"offset_mapping\"][0]\n",
    "if (offsets[token_start_index][0] <= start_char and offsets[token_end_index][1] >= end_char):\n",
    "    # Move the token_start_index and token_end_index to the two ends of the answer.\n",
    "    # Note: we could go after the last offset if the answer is the last word (edge case).\n",
    "    while token_start_index < len(offsets) and offsets[token_start_index][0] <= start_char:\n",
    "        token_start_index += 1\n",
    "    start_position = token_start_index - 1\n",
    "    while offsets[token_end_index][1] >= end_char:\n",
    "        token_end_index -= 1\n",
    "    end_position = token_end_index + 1\n",
    "    print(start_position, end_position)\n",
    "else:\n",
    "    print(\"The answer is not in this feature.\")"
   ]
  },
  {
   "cell_type": "code",
   "execution_count": 19,
   "id": "bff26c5b-c268-4a9b-be6c-3a95de1eb871",
   "metadata": {},
   "outputs": [
    {
     "name": "stdout",
     "output_type": "stream",
     "text": [
      "over 1,600\n",
      "over 1,600\n"
     ]
    }
   ],
   "source": [
    "print(tokenizer.decode(tokenized_example[\"input_ids\"][0][start_position: end_position+1]))\n",
    "print(answers[\"text\"][0])"
   ]
  },
  {
   "cell_type": "code",
   "execution_count": 20,
   "id": "8a7508de-d0db-4155-96a1-99b4e7a4c33c",
   "metadata": {},
   "outputs": [],
   "source": [
    "pad_on_right = tokenizer.padding_side == \"right\""
   ]
  },
  {
   "cell_type": "code",
   "execution_count": 21,
   "id": "e15e0d1d-8da4-40c6-96b2-da6a77489c46",
   "metadata": {},
   "outputs": [],
   "source": [
    "def prepare_train_features(examples):\n",
    "    # Some of the questions have lots of whitespace on the left, which is not useful and will make the\n",
    "    # truncation of the context fail (the tokenized question will take a lots of space). So we remove that\n",
    "    # left whitespace\n",
    "    examples[\"question\"] = [q.lstrip() for q in examples[\"question\"]]\n",
    "\n",
    "    # Tokenize our examples with truncation and padding, but keep the overflows using a stride. This results\n",
    "    # in one example possible giving several features when a context is long, each of those features having a\n",
    "    # context that overlaps a bit the context of the previous feature.\n",
    "    tokenized_examples = tokenizer(\n",
    "        examples[\"question\" if pad_on_right else \"context\"],\n",
    "        examples[\"context\" if pad_on_right else \"question\"],\n",
    "        truncation=\"only_second\" if pad_on_right else \"only_first\",\n",
    "        max_length=max_length,\n",
    "        stride=doc_stride,\n",
    "        return_overflowing_tokens=True,\n",
    "        return_offsets_mapping=True,\n",
    "        padding=\"max_length\",\n",
    "    )\n",
    "\n",
    "    # Since one example might give us several features if it has a long context, we need a map from a feature to\n",
    "    # its corresponding example. This key gives us just that.\n",
    "    sample_mapping = tokenized_examples.pop(\"overflow_to_sample_mapping\")\n",
    "    # The offset mappings will give us a map from token to character position in the original context. This will\n",
    "    # help us compute the start_positions and end_positions.\n",
    "    offset_mapping = tokenized_examples.pop(\"offset_mapping\")\n",
    "\n",
    "    # Let's label those examples!\n",
    "    tokenized_examples[\"start_positions\"] = []\n",
    "    tokenized_examples[\"end_positions\"] = []\n",
    "\n",
    "    for i, offsets in enumerate(offset_mapping):\n",
    "        # We will label impossible answers with the index of the CLS token.\n",
    "        input_ids = tokenized_examples[\"input_ids\"][i]\n",
    "        cls_index = input_ids.index(tokenizer.cls_token_id)\n",
    "\n",
    "        # Grab the sequence corresponding to that example (to know what is the context and what is the question).\n",
    "        sequence_ids = tokenized_examples.sequence_ids(i)\n",
    "\n",
    "        # One example can give several spans, this is the index of the example containing this span of text.\n",
    "        sample_index = sample_mapping[i]\n",
    "        answers = examples[\"answers\"][sample_index]\n",
    "        # If no answers are given, set the cls_index as answer.\n",
    "        if len(answers[\"answer_start\"]) == 0:\n",
    "            tokenized_examples[\"start_positions\"].append(cls_index)\n",
    "            tokenized_examples[\"end_positions\"].append(cls_index)\n",
    "        else:\n",
    "            # Start/end character index of the answer in the text.\n",
    "            start_char = answers[\"answer_start\"][0]\n",
    "            end_char = start_char + len(answers[\"text\"][0])\n",
    "\n",
    "            # Start token index of the current span in the text.\n",
    "            token_start_index = 0\n",
    "            while sequence_ids[token_start_index] != (1 if pad_on_right else 0):\n",
    "                token_start_index += 1\n",
    "\n",
    "            # End token index of the current span in the text.\n",
    "            token_end_index = len(input_ids) - 1\n",
    "            while sequence_ids[token_end_index] != (1 if pad_on_right else 0):\n",
    "                token_end_index -= 1\n",
    "\n",
    "            # Detect if the answer is out of the span (in which case this feature is labeled with the CLS index).\n",
    "            if not (offsets[token_start_index][0] <= start_char and offsets[token_end_index][1] >= end_char):\n",
    "                tokenized_examples[\"start_positions\"].append(cls_index)\n",
    "                tokenized_examples[\"end_positions\"].append(cls_index)\n",
    "            else:\n",
    "                # Otherwise move the token_start_index and token_end_index to the two ends of the answer.\n",
    "                # Note: we could go after the last offset if the answer is the last word (edge case).\n",
    "                while token_start_index < len(offsets) and offsets[token_start_index][0] <= start_char:\n",
    "                    token_start_index += 1\n",
    "                tokenized_examples[\"start_positions\"].append(token_start_index - 1)\n",
    "                while offsets[token_end_index][1] >= end_char:\n",
    "                    token_end_index -= 1\n",
    "                tokenized_examples[\"end_positions\"].append(token_end_index + 1)\n",
    "\n",
    "    return tokenized_examples"
   ]
  },
  {
   "cell_type": "code",
   "execution_count": 22,
   "id": "3c491d03-b685-4d7d-82ea-ff3fd3fd801e",
   "metadata": {},
   "outputs": [],
   "source": [
    "features = prepare_train_features(datasets['train'][:5])"
   ]
  },
  {
   "cell_type": "code",
   "execution_count": 23,
   "id": "1c0e825a-74cb-4ef1-a8b3-8e5493d940e9",
   "metadata": {},
   "outputs": [
    {
     "data": {
      "application/vnd.jupyter.widget-view+json": {
       "model_id": "f36d2e92bcf94a1ba99150a66a7d048a",
       "version_major": 2,
       "version_minor": 0
      },
      "text/plain": [
       "  0%|          | 0/88 [00:00<?, ?ba/s]"
      ]
     },
     "metadata": {},
     "output_type": "display_data"
    },
    {
     "data": {
      "application/vnd.jupyter.widget-view+json": {
       "model_id": "31e2895eabd046caa8387b41d87365c9",
       "version_major": 2,
       "version_minor": 0
      },
      "text/plain": [
       "  0%|          | 0/11 [00:00<?, ?ba/s]"
      ]
     },
     "metadata": {},
     "output_type": "display_data"
    }
   ],
   "source": [
    "tokenized_datasets = datasets.map(prepare_train_features, batched=True, remove_columns=datasets[\"train\"].column_names)"
   ]
  },
  {
   "cell_type": "markdown",
   "id": "d5c0f158-09c1-4e8f-a118-e24667de40e9",
   "metadata": {},
   "source": [
    "## Fine Tuning"
   ]
  },
  {
   "cell_type": "code",
   "execution_count": 24,
   "id": "1bb1b9f5-93be-40dd-bd6d-522759758e94",
   "metadata": {},
   "outputs": [
    {
     "data": {
      "application/vnd.jupyter.widget-view+json": {
       "model_id": "0b10e1f21ba348209d0d3322c7adc35d",
       "version_major": 2,
       "version_minor": 0
      },
      "text/plain": [
       "Downloading:   0%|          | 0.00/45.2M [00:00<?, ?B/s]"
      ]
     },
     "metadata": {},
     "output_type": "display_data"
    },
    {
     "name": "stderr",
     "output_type": "stream",
     "text": [
      "Some weights of the model checkpoint at albert-base-v2 were not used when initializing AlbertForQuestionAnswering: ['predictions.decoder.bias', 'predictions.dense.weight', 'predictions.LayerNorm.weight', 'predictions.bias', 'predictions.LayerNorm.bias', 'predictions.decoder.weight', 'predictions.dense.bias']\n",
      "- This IS expected if you are initializing AlbertForQuestionAnswering from the checkpoint of a model trained on another task or with another architecture (e.g. initializing a BertForSequenceClassification model from a BertForPreTraining model).\n",
      "- This IS NOT expected if you are initializing AlbertForQuestionAnswering from the checkpoint of a model that you expect to be exactly identical (initializing a BertForSequenceClassification model from a BertForSequenceClassification model).\n",
      "Some weights of AlbertForQuestionAnswering were not initialized from the model checkpoint at albert-base-v2 and are newly initialized: ['qa_outputs.bias', 'qa_outputs.weight']\n",
      "You should probably TRAIN this model on a down-stream task to be able to use it for predictions and inference.\n"
     ]
    }
   ],
   "source": [
    "model = AutoModelForQuestionAnswering.from_pretrained(model_checkpoint)"
   ]
  },
  {
   "cell_type": "code",
   "execution_count": 25,
   "id": "07158c44-ef37-4f6b-bd32-26f74c5fda53",
   "metadata": {},
   "outputs": [],
   "source": [
    "model_name = model_checkpoint.split(\"/\")[-1]\n",
    "args = TrainingArguments(\n",
    "    f\"{model_name}-finetuned-squad\",\n",
    "    evaluation_strategy = \"epoch\",\n",
    "    learning_rate=2e-5,\n",
    "    per_device_train_batch_size=batch_size,\n",
    "    per_device_eval_batch_size=batch_size,\n",
    "    num_train_epochs=3,\n",
    "    weight_decay=0.01,\n",
    "    push_to_hub=True,\n",
    ")"
   ]
  },
  {
   "cell_type": "code",
   "execution_count": 26,
   "id": "9931e7aa-0941-44c5-8dbd-3d5adc0f24fb",
   "metadata": {},
   "outputs": [],
   "source": [
    "data_collator = default_data_collator"
   ]
  },
  {
   "cell_type": "code",
   "execution_count": 27,
   "id": "e2a29eb9-d303-427d-89b1-552cdf0995e5",
   "metadata": {},
   "outputs": [
    {
     "data": {
      "application/vnd.jupyter.widget-view+json": {
       "model_id": "b7d40ccfd2a44f1fa80544d876c5ec96",
       "version_major": 2,
       "version_minor": 0
      },
      "text/plain": [
       "VBox(children=(HTML(value='<center>\\n<img src=https://huggingface.co/front/assets/huggingface_logo-noborder.sv…"
      ]
     },
     "metadata": {},
     "output_type": "display_data"
    }
   ],
   "source": [
    "from huggingface_hub import notebook_login\n",
    "\n",
    "notebook_login()"
   ]
  },
  {
   "cell_type": "code",
   "execution_count": 28,
   "id": "fb5e62a2-1e0c-4661-ac2e-05f356a0ce0e",
   "metadata": {},
   "outputs": [
    {
     "data": {
      "text/plain": [
       "'cuda:0'"
      ]
     },
     "execution_count": 28,
     "metadata": {},
     "output_type": "execute_result"
    }
   ],
   "source": [
    "import torch\n",
    "device = \"cuda:0\" if torch.cuda.is_available() else \"cpu\"\n",
    "device"
   ]
  },
  {
   "cell_type": "code",
   "execution_count": 29,
   "id": "0e2f487f-7d80-4197-a992-fd5c176236d3",
   "metadata": {},
   "outputs": [],
   "source": [
    "torch.cuda.empty_cache()"
   ]
  },
  {
   "cell_type": "code",
   "execution_count": 30,
   "id": "671d9527-74c2-4c36-8950-96c77baf4760",
   "metadata": {},
   "outputs": [
    {
     "name": "stderr",
     "output_type": "stream",
     "text": [
      "Cloning https://huggingface.co/Firat/albert-base-v2-finetuned-squad into local empty directory.\n"
     ]
    }
   ],
   "source": [
    "trainer = Trainer(\n",
    "    model.to(device),\n",
    "    args,\n",
    "    train_dataset=tokenized_datasets[\"train\"],\n",
    "    eval_dataset=tokenized_datasets[\"validation\"],\n",
    "    data_collator=data_collator,\n",
    "    tokenizer=tokenizer,\n",
    ")"
   ]
  },
  {
   "cell_type": "code",
   "execution_count": 31,
   "id": "a39ba988-3be5-4b40-a34b-3ea3236a5844",
   "metadata": {},
   "outputs": [
    {
     "name": "stderr",
     "output_type": "stream",
     "text": [
      "***** Running training *****\n",
      "  Num examples = 88638\n",
      "  Num Epochs = 3\n",
      "  Instantaneous batch size per device = 16\n",
      "  Total train batch size (w. parallel, distributed & accumulation) = 16\n",
      "  Gradient Accumulation steps = 1\n",
      "  Total optimization steps = 16620\n"
     ]
    },
    {
     "data": {
      "text/html": [
       "\n",
       "    <div>\n",
       "      \n",
       "      <progress value='16620' max='16620' style='width:300px; height:20px; vertical-align: middle;'></progress>\n",
       "      [16620/16620 2:49:20, Epoch 3/3]\n",
       "    </div>\n",
       "    <table border=\"1\" class=\"dataframe\">\n",
       "  <thead>\n",
       "    <tr style=\"text-align: left;\">\n",
       "      <th>Epoch</th>\n",
       "      <th>Training Loss</th>\n",
       "      <th>Validation Loss</th>\n",
       "    </tr>\n",
       "  </thead>\n",
       "  <tbody>\n",
       "    <tr>\n",
       "      <td>1</td>\n",
       "      <td>0.858400</td>\n",
       "      <td>0.905579</td>\n",
       "    </tr>\n",
       "    <tr>\n",
       "      <td>2</td>\n",
       "      <td>0.647300</td>\n",
       "      <td>0.897532</td>\n",
       "    </tr>\n",
       "    <tr>\n",
       "      <td>3</td>\n",
       "      <td>0.480100</td>\n",
       "      <td>0.990118</td>\n",
       "    </tr>\n",
       "  </tbody>\n",
       "</table><p>"
      ],
      "text/plain": [
       "<IPython.core.display.HTML object>"
      ]
     },
     "metadata": {},
     "output_type": "display_data"
    },
    {
     "name": "stderr",
     "output_type": "stream",
     "text": [
      "Saving model checkpoint to albert-base-v2-finetuned-squad\\checkpoint-500\n",
      "Configuration saved in albert-base-v2-finetuned-squad\\checkpoint-500\\config.json\n",
      "Model weights saved in albert-base-v2-finetuned-squad\\checkpoint-500\\pytorch_model.bin\n",
      "tokenizer config file saved in albert-base-v2-finetuned-squad\\checkpoint-500\\tokenizer_config.json\n",
      "Special tokens file saved in albert-base-v2-finetuned-squad\\checkpoint-500\\special_tokens_map.json\n",
      "tokenizer config file saved in albert-base-v2-finetuned-squad\\tokenizer_config.json\n",
      "Special tokens file saved in albert-base-v2-finetuned-squad\\special_tokens_map.json\n",
      "Saving model checkpoint to albert-base-v2-finetuned-squad\\checkpoint-1000\n",
      "Configuration saved in albert-base-v2-finetuned-squad\\checkpoint-1000\\config.json\n",
      "Model weights saved in albert-base-v2-finetuned-squad\\checkpoint-1000\\pytorch_model.bin\n",
      "tokenizer config file saved in albert-base-v2-finetuned-squad\\checkpoint-1000\\tokenizer_config.json\n",
      "Special tokens file saved in albert-base-v2-finetuned-squad\\checkpoint-1000\\special_tokens_map.json\n",
      "tokenizer config file saved in albert-base-v2-finetuned-squad\\tokenizer_config.json\n",
      "Special tokens file saved in albert-base-v2-finetuned-squad\\special_tokens_map.json\n",
      "Saving model checkpoint to albert-base-v2-finetuned-squad\\checkpoint-1500\n",
      "Configuration saved in albert-base-v2-finetuned-squad\\checkpoint-1500\\config.json\n",
      "Model weights saved in albert-base-v2-finetuned-squad\\checkpoint-1500\\pytorch_model.bin\n",
      "tokenizer config file saved in albert-base-v2-finetuned-squad\\checkpoint-1500\\tokenizer_config.json\n",
      "Special tokens file saved in albert-base-v2-finetuned-squad\\checkpoint-1500\\special_tokens_map.json\n",
      "tokenizer config file saved in albert-base-v2-finetuned-squad\\tokenizer_config.json\n",
      "Special tokens file saved in albert-base-v2-finetuned-squad\\special_tokens_map.json\n",
      "Saving model checkpoint to albert-base-v2-finetuned-squad\\checkpoint-2000\n",
      "Configuration saved in albert-base-v2-finetuned-squad\\checkpoint-2000\\config.json\n",
      "Model weights saved in albert-base-v2-finetuned-squad\\checkpoint-2000\\pytorch_model.bin\n",
      "tokenizer config file saved in albert-base-v2-finetuned-squad\\checkpoint-2000\\tokenizer_config.json\n",
      "Special tokens file saved in albert-base-v2-finetuned-squad\\checkpoint-2000\\special_tokens_map.json\n",
      "tokenizer config file saved in albert-base-v2-finetuned-squad\\tokenizer_config.json\n",
      "Special tokens file saved in albert-base-v2-finetuned-squad\\special_tokens_map.json\n",
      "Saving model checkpoint to albert-base-v2-finetuned-squad\\checkpoint-2500\n",
      "Configuration saved in albert-base-v2-finetuned-squad\\checkpoint-2500\\config.json\n",
      "Model weights saved in albert-base-v2-finetuned-squad\\checkpoint-2500\\pytorch_model.bin\n",
      "tokenizer config file saved in albert-base-v2-finetuned-squad\\checkpoint-2500\\tokenizer_config.json\n",
      "Special tokens file saved in albert-base-v2-finetuned-squad\\checkpoint-2500\\special_tokens_map.json\n",
      "tokenizer config file saved in albert-base-v2-finetuned-squad\\tokenizer_config.json\n",
      "Special tokens file saved in albert-base-v2-finetuned-squad\\special_tokens_map.json\n",
      "Saving model checkpoint to albert-base-v2-finetuned-squad\\checkpoint-3000\n",
      "Configuration saved in albert-base-v2-finetuned-squad\\checkpoint-3000\\config.json\n",
      "Model weights saved in albert-base-v2-finetuned-squad\\checkpoint-3000\\pytorch_model.bin\n",
      "tokenizer config file saved in albert-base-v2-finetuned-squad\\checkpoint-3000\\tokenizer_config.json\n",
      "Special tokens file saved in albert-base-v2-finetuned-squad\\checkpoint-3000\\special_tokens_map.json\n",
      "tokenizer config file saved in albert-base-v2-finetuned-squad\\tokenizer_config.json\n",
      "Special tokens file saved in albert-base-v2-finetuned-squad\\special_tokens_map.json\n",
      "Saving model checkpoint to albert-base-v2-finetuned-squad\\checkpoint-3500\n",
      "Configuration saved in albert-base-v2-finetuned-squad\\checkpoint-3500\\config.json\n",
      "Model weights saved in albert-base-v2-finetuned-squad\\checkpoint-3500\\pytorch_model.bin\n",
      "tokenizer config file saved in albert-base-v2-finetuned-squad\\checkpoint-3500\\tokenizer_config.json\n",
      "Special tokens file saved in albert-base-v2-finetuned-squad\\checkpoint-3500\\special_tokens_map.json\n",
      "tokenizer config file saved in albert-base-v2-finetuned-squad\\tokenizer_config.json\n",
      "Special tokens file saved in albert-base-v2-finetuned-squad\\special_tokens_map.json\n",
      "Saving model checkpoint to albert-base-v2-finetuned-squad\\checkpoint-4000\n",
      "Configuration saved in albert-base-v2-finetuned-squad\\checkpoint-4000\\config.json\n",
      "Model weights saved in albert-base-v2-finetuned-squad\\checkpoint-4000\\pytorch_model.bin\n",
      "tokenizer config file saved in albert-base-v2-finetuned-squad\\checkpoint-4000\\tokenizer_config.json\n",
      "Special tokens file saved in albert-base-v2-finetuned-squad\\checkpoint-4000\\special_tokens_map.json\n",
      "tokenizer config file saved in albert-base-v2-finetuned-squad\\tokenizer_config.json\n",
      "Special tokens file saved in albert-base-v2-finetuned-squad\\special_tokens_map.json\n",
      "Saving model checkpoint to albert-base-v2-finetuned-squad\\checkpoint-4500\n",
      "Configuration saved in albert-base-v2-finetuned-squad\\checkpoint-4500\\config.json\n",
      "Model weights saved in albert-base-v2-finetuned-squad\\checkpoint-4500\\pytorch_model.bin\n",
      "tokenizer config file saved in albert-base-v2-finetuned-squad\\checkpoint-4500\\tokenizer_config.json\n",
      "Special tokens file saved in albert-base-v2-finetuned-squad\\checkpoint-4500\\special_tokens_map.json\n",
      "tokenizer config file saved in albert-base-v2-finetuned-squad\\tokenizer_config.json\n",
      "Special tokens file saved in albert-base-v2-finetuned-squad\\special_tokens_map.json\n",
      "Saving model checkpoint to albert-base-v2-finetuned-squad\\checkpoint-5000\n",
      "Configuration saved in albert-base-v2-finetuned-squad\\checkpoint-5000\\config.json\n",
      "Model weights saved in albert-base-v2-finetuned-squad\\checkpoint-5000\\pytorch_model.bin\n",
      "tokenizer config file saved in albert-base-v2-finetuned-squad\\checkpoint-5000\\tokenizer_config.json\n",
      "Special tokens file saved in albert-base-v2-finetuned-squad\\checkpoint-5000\\special_tokens_map.json\n",
      "tokenizer config file saved in albert-base-v2-finetuned-squad\\tokenizer_config.json\n",
      "Special tokens file saved in albert-base-v2-finetuned-squad\\special_tokens_map.json\n",
      "Saving model checkpoint to albert-base-v2-finetuned-squad\\checkpoint-5500\n",
      "Configuration saved in albert-base-v2-finetuned-squad\\checkpoint-5500\\config.json\n",
      "Model weights saved in albert-base-v2-finetuned-squad\\checkpoint-5500\\pytorch_model.bin\n",
      "tokenizer config file saved in albert-base-v2-finetuned-squad\\checkpoint-5500\\tokenizer_config.json\n",
      "Special tokens file saved in albert-base-v2-finetuned-squad\\checkpoint-5500\\special_tokens_map.json\n",
      "tokenizer config file saved in albert-base-v2-finetuned-squad\\tokenizer_config.json\n",
      "Special tokens file saved in albert-base-v2-finetuned-squad\\special_tokens_map.json\n",
      "***** Running Evaluation *****\n",
      "  Num examples = 10808\n",
      "  Batch size = 16\n",
      "Saving model checkpoint to albert-base-v2-finetuned-squad\\checkpoint-6000\n",
      "Configuration saved in albert-base-v2-finetuned-squad\\checkpoint-6000\\config.json\n",
      "Model weights saved in albert-base-v2-finetuned-squad\\checkpoint-6000\\pytorch_model.bin\n",
      "tokenizer config file saved in albert-base-v2-finetuned-squad\\checkpoint-6000\\tokenizer_config.json\n",
      "Special tokens file saved in albert-base-v2-finetuned-squad\\checkpoint-6000\\special_tokens_map.json\n",
      "tokenizer config file saved in albert-base-v2-finetuned-squad\\tokenizer_config.json\n",
      "Special tokens file saved in albert-base-v2-finetuned-squad\\special_tokens_map.json\n",
      "Saving model checkpoint to albert-base-v2-finetuned-squad\\checkpoint-6500\n",
      "Configuration saved in albert-base-v2-finetuned-squad\\checkpoint-6500\\config.json\n",
      "Model weights saved in albert-base-v2-finetuned-squad\\checkpoint-6500\\pytorch_model.bin\n",
      "tokenizer config file saved in albert-base-v2-finetuned-squad\\checkpoint-6500\\tokenizer_config.json\n",
      "Special tokens file saved in albert-base-v2-finetuned-squad\\checkpoint-6500\\special_tokens_map.json\n",
      "tokenizer config file saved in albert-base-v2-finetuned-squad\\tokenizer_config.json\n",
      "Special tokens file saved in albert-base-v2-finetuned-squad\\special_tokens_map.json\n",
      "Saving model checkpoint to albert-base-v2-finetuned-squad\\checkpoint-7000\n",
      "Configuration saved in albert-base-v2-finetuned-squad\\checkpoint-7000\\config.json\n",
      "Model weights saved in albert-base-v2-finetuned-squad\\checkpoint-7000\\pytorch_model.bin\n",
      "tokenizer config file saved in albert-base-v2-finetuned-squad\\checkpoint-7000\\tokenizer_config.json\n",
      "Special tokens file saved in albert-base-v2-finetuned-squad\\checkpoint-7000\\special_tokens_map.json\n",
      "tokenizer config file saved in albert-base-v2-finetuned-squad\\tokenizer_config.json\n",
      "Special tokens file saved in albert-base-v2-finetuned-squad\\special_tokens_map.json\n",
      "Saving model checkpoint to albert-base-v2-finetuned-squad\\checkpoint-7500\n",
      "Configuration saved in albert-base-v2-finetuned-squad\\checkpoint-7500\\config.json\n",
      "Model weights saved in albert-base-v2-finetuned-squad\\checkpoint-7500\\pytorch_model.bin\n",
      "tokenizer config file saved in albert-base-v2-finetuned-squad\\checkpoint-7500\\tokenizer_config.json\n",
      "Special tokens file saved in albert-base-v2-finetuned-squad\\checkpoint-7500\\special_tokens_map.json\n",
      "tokenizer config file saved in albert-base-v2-finetuned-squad\\tokenizer_config.json\n",
      "Special tokens file saved in albert-base-v2-finetuned-squad\\special_tokens_map.json\n",
      "Saving model checkpoint to albert-base-v2-finetuned-squad\\checkpoint-8000\n",
      "Configuration saved in albert-base-v2-finetuned-squad\\checkpoint-8000\\config.json\n",
      "Model weights saved in albert-base-v2-finetuned-squad\\checkpoint-8000\\pytorch_model.bin\n",
      "tokenizer config file saved in albert-base-v2-finetuned-squad\\checkpoint-8000\\tokenizer_config.json\n",
      "Special tokens file saved in albert-base-v2-finetuned-squad\\checkpoint-8000\\special_tokens_map.json\n",
      "tokenizer config file saved in albert-base-v2-finetuned-squad\\tokenizer_config.json\n",
      "Special tokens file saved in albert-base-v2-finetuned-squad\\special_tokens_map.json\n",
      "Saving model checkpoint to albert-base-v2-finetuned-squad\\checkpoint-8500\n",
      "Configuration saved in albert-base-v2-finetuned-squad\\checkpoint-8500\\config.json\n",
      "Model weights saved in albert-base-v2-finetuned-squad\\checkpoint-8500\\pytorch_model.bin\n",
      "tokenizer config file saved in albert-base-v2-finetuned-squad\\checkpoint-8500\\tokenizer_config.json\n",
      "Special tokens file saved in albert-base-v2-finetuned-squad\\checkpoint-8500\\special_tokens_map.json\n",
      "tokenizer config file saved in albert-base-v2-finetuned-squad\\tokenizer_config.json\n",
      "Special tokens file saved in albert-base-v2-finetuned-squad\\special_tokens_map.json\n",
      "Saving model checkpoint to albert-base-v2-finetuned-squad\\checkpoint-9000\n",
      "Configuration saved in albert-base-v2-finetuned-squad\\checkpoint-9000\\config.json\n",
      "Model weights saved in albert-base-v2-finetuned-squad\\checkpoint-9000\\pytorch_model.bin\n",
      "tokenizer config file saved in albert-base-v2-finetuned-squad\\checkpoint-9000\\tokenizer_config.json\n",
      "Special tokens file saved in albert-base-v2-finetuned-squad\\checkpoint-9000\\special_tokens_map.json\n",
      "tokenizer config file saved in albert-base-v2-finetuned-squad\\tokenizer_config.json\n",
      "Special tokens file saved in albert-base-v2-finetuned-squad\\special_tokens_map.json\n",
      "Saving model checkpoint to albert-base-v2-finetuned-squad\\checkpoint-9500\n",
      "Configuration saved in albert-base-v2-finetuned-squad\\checkpoint-9500\\config.json\n",
      "Model weights saved in albert-base-v2-finetuned-squad\\checkpoint-9500\\pytorch_model.bin\n",
      "tokenizer config file saved in albert-base-v2-finetuned-squad\\checkpoint-9500\\tokenizer_config.json\n",
      "Special tokens file saved in albert-base-v2-finetuned-squad\\checkpoint-9500\\special_tokens_map.json\n",
      "tokenizer config file saved in albert-base-v2-finetuned-squad\\tokenizer_config.json\n",
      "Special tokens file saved in albert-base-v2-finetuned-squad\\special_tokens_map.json\n",
      "Saving model checkpoint to albert-base-v2-finetuned-squad\\checkpoint-10000\n",
      "Configuration saved in albert-base-v2-finetuned-squad\\checkpoint-10000\\config.json\n",
      "Model weights saved in albert-base-v2-finetuned-squad\\checkpoint-10000\\pytorch_model.bin\n",
      "tokenizer config file saved in albert-base-v2-finetuned-squad\\checkpoint-10000\\tokenizer_config.json\n",
      "Special tokens file saved in albert-base-v2-finetuned-squad\\checkpoint-10000\\special_tokens_map.json\n",
      "tokenizer config file saved in albert-base-v2-finetuned-squad\\tokenizer_config.json\n",
      "Special tokens file saved in albert-base-v2-finetuned-squad\\special_tokens_map.json\n",
      "Saving model checkpoint to albert-base-v2-finetuned-squad\\checkpoint-10500\n",
      "Configuration saved in albert-base-v2-finetuned-squad\\checkpoint-10500\\config.json\n",
      "Model weights saved in albert-base-v2-finetuned-squad\\checkpoint-10500\\pytorch_model.bin\n",
      "tokenizer config file saved in albert-base-v2-finetuned-squad\\checkpoint-10500\\tokenizer_config.json\n",
      "Special tokens file saved in albert-base-v2-finetuned-squad\\checkpoint-10500\\special_tokens_map.json\n",
      "tokenizer config file saved in albert-base-v2-finetuned-squad\\tokenizer_config.json\n",
      "Special tokens file saved in albert-base-v2-finetuned-squad\\special_tokens_map.json\n",
      "Several commits (2) will be pushed upstream.\n",
      "Saving model checkpoint to albert-base-v2-finetuned-squad\\checkpoint-11000\n",
      "Configuration saved in albert-base-v2-finetuned-squad\\checkpoint-11000\\config.json\n",
      "Model weights saved in albert-base-v2-finetuned-squad\\checkpoint-11000\\pytorch_model.bin\n",
      "tokenizer config file saved in albert-base-v2-finetuned-squad\\checkpoint-11000\\tokenizer_config.json\n",
      "Special tokens file saved in albert-base-v2-finetuned-squad\\checkpoint-11000\\special_tokens_map.json\n",
      "tokenizer config file saved in albert-base-v2-finetuned-squad\\tokenizer_config.json\n",
      "Special tokens file saved in albert-base-v2-finetuned-squad\\special_tokens_map.json\n",
      "***** Running Evaluation *****\n",
      "  Num examples = 10808\n",
      "  Batch size = 16\n",
      "Saving model checkpoint to albert-base-v2-finetuned-squad\\checkpoint-11500\n",
      "Configuration saved in albert-base-v2-finetuned-squad\\checkpoint-11500\\config.json\n",
      "Model weights saved in albert-base-v2-finetuned-squad\\checkpoint-11500\\pytorch_model.bin\n",
      "tokenizer config file saved in albert-base-v2-finetuned-squad\\checkpoint-11500\\tokenizer_config.json\n",
      "Special tokens file saved in albert-base-v2-finetuned-squad\\checkpoint-11500\\special_tokens_map.json\n",
      "tokenizer config file saved in albert-base-v2-finetuned-squad\\tokenizer_config.json\n",
      "Special tokens file saved in albert-base-v2-finetuned-squad\\special_tokens_map.json\n",
      "Saving model checkpoint to albert-base-v2-finetuned-squad\\checkpoint-12000\n",
      "Configuration saved in albert-base-v2-finetuned-squad\\checkpoint-12000\\config.json\n",
      "Model weights saved in albert-base-v2-finetuned-squad\\checkpoint-12000\\pytorch_model.bin\n",
      "tokenizer config file saved in albert-base-v2-finetuned-squad\\checkpoint-12000\\tokenizer_config.json\n",
      "Special tokens file saved in albert-base-v2-finetuned-squad\\checkpoint-12000\\special_tokens_map.json\n",
      "tokenizer config file saved in albert-base-v2-finetuned-squad\\tokenizer_config.json\n",
      "Special tokens file saved in albert-base-v2-finetuned-squad\\special_tokens_map.json\n",
      "Saving model checkpoint to albert-base-v2-finetuned-squad\\checkpoint-12500\n",
      "Configuration saved in albert-base-v2-finetuned-squad\\checkpoint-12500\\config.json\n",
      "Model weights saved in albert-base-v2-finetuned-squad\\checkpoint-12500\\pytorch_model.bin\n",
      "tokenizer config file saved in albert-base-v2-finetuned-squad\\checkpoint-12500\\tokenizer_config.json\n",
      "Special tokens file saved in albert-base-v2-finetuned-squad\\checkpoint-12500\\special_tokens_map.json\n",
      "tokenizer config file saved in albert-base-v2-finetuned-squad\\tokenizer_config.json\n",
      "Special tokens file saved in albert-base-v2-finetuned-squad\\special_tokens_map.json\n",
      "Saving model checkpoint to albert-base-v2-finetuned-squad\\checkpoint-13000\n",
      "Configuration saved in albert-base-v2-finetuned-squad\\checkpoint-13000\\config.json\n",
      "Model weights saved in albert-base-v2-finetuned-squad\\checkpoint-13000\\pytorch_model.bin\n",
      "tokenizer config file saved in albert-base-v2-finetuned-squad\\checkpoint-13000\\tokenizer_config.json\n",
      "Special tokens file saved in albert-base-v2-finetuned-squad\\checkpoint-13000\\special_tokens_map.json\n",
      "tokenizer config file saved in albert-base-v2-finetuned-squad\\tokenizer_config.json\n",
      "Special tokens file saved in albert-base-v2-finetuned-squad\\special_tokens_map.json\n",
      "Saving model checkpoint to albert-base-v2-finetuned-squad\\checkpoint-13500\n",
      "Configuration saved in albert-base-v2-finetuned-squad\\checkpoint-13500\\config.json\n",
      "Model weights saved in albert-base-v2-finetuned-squad\\checkpoint-13500\\pytorch_model.bin\n",
      "tokenizer config file saved in albert-base-v2-finetuned-squad\\checkpoint-13500\\tokenizer_config.json\n",
      "Special tokens file saved in albert-base-v2-finetuned-squad\\checkpoint-13500\\special_tokens_map.json\n",
      "tokenizer config file saved in albert-base-v2-finetuned-squad\\tokenizer_config.json\n",
      "Special tokens file saved in albert-base-v2-finetuned-squad\\special_tokens_map.json\n",
      "Saving model checkpoint to albert-base-v2-finetuned-squad\\checkpoint-14000\n",
      "Configuration saved in albert-base-v2-finetuned-squad\\checkpoint-14000\\config.json\n",
      "Model weights saved in albert-base-v2-finetuned-squad\\checkpoint-14000\\pytorch_model.bin\n",
      "tokenizer config file saved in albert-base-v2-finetuned-squad\\checkpoint-14000\\tokenizer_config.json\n",
      "Special tokens file saved in albert-base-v2-finetuned-squad\\checkpoint-14000\\special_tokens_map.json\n",
      "tokenizer config file saved in albert-base-v2-finetuned-squad\\tokenizer_config.json\n",
      "Special tokens file saved in albert-base-v2-finetuned-squad\\special_tokens_map.json\n",
      "Saving model checkpoint to albert-base-v2-finetuned-squad\\checkpoint-14500\n",
      "Configuration saved in albert-base-v2-finetuned-squad\\checkpoint-14500\\config.json\n",
      "Model weights saved in albert-base-v2-finetuned-squad\\checkpoint-14500\\pytorch_model.bin\n",
      "tokenizer config file saved in albert-base-v2-finetuned-squad\\checkpoint-14500\\tokenizer_config.json\n",
      "Special tokens file saved in albert-base-v2-finetuned-squad\\checkpoint-14500\\special_tokens_map.json\n",
      "tokenizer config file saved in albert-base-v2-finetuned-squad\\tokenizer_config.json\n",
      "Special tokens file saved in albert-base-v2-finetuned-squad\\special_tokens_map.json\n",
      "Saving model checkpoint to albert-base-v2-finetuned-squad\\checkpoint-15000\n",
      "Configuration saved in albert-base-v2-finetuned-squad\\checkpoint-15000\\config.json\n",
      "Model weights saved in albert-base-v2-finetuned-squad\\checkpoint-15000\\pytorch_model.bin\n",
      "tokenizer config file saved in albert-base-v2-finetuned-squad\\checkpoint-15000\\tokenizer_config.json\n",
      "Special tokens file saved in albert-base-v2-finetuned-squad\\checkpoint-15000\\special_tokens_map.json\n",
      "tokenizer config file saved in albert-base-v2-finetuned-squad\\tokenizer_config.json\n",
      "Special tokens file saved in albert-base-v2-finetuned-squad\\special_tokens_map.json\n",
      "Saving model checkpoint to albert-base-v2-finetuned-squad\\checkpoint-15500\n",
      "Configuration saved in albert-base-v2-finetuned-squad\\checkpoint-15500\\config.json\n",
      "Model weights saved in albert-base-v2-finetuned-squad\\checkpoint-15500\\pytorch_model.bin\n",
      "tokenizer config file saved in albert-base-v2-finetuned-squad\\checkpoint-15500\\tokenizer_config.json\n",
      "Special tokens file saved in albert-base-v2-finetuned-squad\\checkpoint-15500\\special_tokens_map.json\n",
      "tokenizer config file saved in albert-base-v2-finetuned-squad\\tokenizer_config.json\n",
      "Special tokens file saved in albert-base-v2-finetuned-squad\\special_tokens_map.json\n",
      "Saving model checkpoint to albert-base-v2-finetuned-squad\\checkpoint-16000\n",
      "Configuration saved in albert-base-v2-finetuned-squad\\checkpoint-16000\\config.json\n",
      "Model weights saved in albert-base-v2-finetuned-squad\\checkpoint-16000\\pytorch_model.bin\n",
      "tokenizer config file saved in albert-base-v2-finetuned-squad\\checkpoint-16000\\tokenizer_config.json\n",
      "Special tokens file saved in albert-base-v2-finetuned-squad\\checkpoint-16000\\special_tokens_map.json\n",
      "tokenizer config file saved in albert-base-v2-finetuned-squad\\tokenizer_config.json\n",
      "Special tokens file saved in albert-base-v2-finetuned-squad\\special_tokens_map.json\n",
      "Several commits (2) will be pushed upstream.\n",
      "Saving model checkpoint to albert-base-v2-finetuned-squad\\checkpoint-16500\n",
      "Configuration saved in albert-base-v2-finetuned-squad\\checkpoint-16500\\config.json\n",
      "Model weights saved in albert-base-v2-finetuned-squad\\checkpoint-16500\\pytorch_model.bin\n",
      "tokenizer config file saved in albert-base-v2-finetuned-squad\\checkpoint-16500\\tokenizer_config.json\n",
      "Special tokens file saved in albert-base-v2-finetuned-squad\\checkpoint-16500\\special_tokens_map.json\n",
      "tokenizer config file saved in albert-base-v2-finetuned-squad\\tokenizer_config.json\n",
      "Special tokens file saved in albert-base-v2-finetuned-squad\\special_tokens_map.json\n",
      "***** Running Evaluation *****\n",
      "  Num examples = 10808\n",
      "  Batch size = 16\n",
      "\n",
      "\n",
      "Training completed. Do not forget to share your model on huggingface.co/models =)\n",
      "\n",
      "\n"
     ]
    },
    {
     "data": {
      "text/plain": [
       "TrainOutput(global_step=16620, training_loss=0.720704485162214, metrics={'train_runtime': 10164.2407, 'train_samples_per_second': 26.162, 'train_steps_per_second': 1.635, 'total_flos': 4404294320329728.0, 'train_loss': 0.720704485162214, 'epoch': 3.0})"
      ]
     },
     "execution_count": 31,
     "metadata": {},
     "output_type": "execute_result"
    }
   ],
   "source": [
    "trainer.train()"
   ]
  },
  {
   "cell_type": "code",
   "execution_count": 32,
   "id": "b99d110a-9ee6-4829-9c17-03f1498409c5",
   "metadata": {},
   "outputs": [
    {
     "name": "stderr",
     "output_type": "stream",
     "text": [
      "Saving model checkpoint to test-squad-trained\n",
      "Configuration saved in test-squad-trained\\config.json\n",
      "Model weights saved in test-squad-trained\\pytorch_model.bin\n",
      "tokenizer config file saved in test-squad-trained\\tokenizer_config.json\n",
      "Special tokens file saved in test-squad-trained\\special_tokens_map.json\n"
     ]
    }
   ],
   "source": [
    "trainer.save_model(\"test-squad-trained\")"
   ]
  },
  {
   "cell_type": "code",
   "execution_count": null,
   "id": "7b7427a5-6119-4436-af99-0c70efa2e59f",
   "metadata": {},
   "outputs": [],
   "source": []
  },
  {
   "cell_type": "markdown",
   "id": "f725d748-f1e7-4afa-89a3-59a960f276e6",
   "metadata": {},
   "source": [
    "# Evaluation"
   ]
  },
  {
   "cell_type": "code",
   "execution_count": 33,
   "id": "7752915a-193a-4460-b3e2-a5b1c75f3101",
   "metadata": {},
   "outputs": [
    {
     "data": {
      "text/plain": [
       "odict_keys(['loss', 'start_logits', 'end_logits'])"
      ]
     },
     "execution_count": 33,
     "metadata": {},
     "output_type": "execute_result"
    }
   ],
   "source": [
    "import torch\n",
    "\n",
    "for batch in trainer.get_eval_dataloader():\n",
    "    break\n",
    "batch = {k: v.to(trainer.args.device) for k, v in batch.items()}\n",
    "with torch.no_grad():\n",
    "    output = trainer.model(**batch)\n",
    "output.keys()"
   ]
  },
  {
   "cell_type": "code",
   "execution_count": 34,
   "id": "12a03e85-12be-4d22-9a85-684a5d3a7c5d",
   "metadata": {},
   "outputs": [
    {
     "data": {
      "text/plain": [
       "(torch.Size([16, 384]), torch.Size([16, 384]))"
      ]
     },
     "execution_count": 34,
     "metadata": {},
     "output_type": "execute_result"
    }
   ],
   "source": [
    "output.start_logits.shape, output.end_logits.shape"
   ]
  },
  {
   "cell_type": "code",
   "execution_count": 35,
   "id": "30fe9ab5-b6ef-4497-91ad-a3cfda93b4c9",
   "metadata": {},
   "outputs": [
    {
     "data": {
      "text/plain": [
       "(tensor([ 49,  49,  94,  46, 127, 115,  77,  45, 115,  35,  78,  44,  85,  96,\n",
       "         165,  36], device='cuda:0'),\n",
       " tensor([ 50,  50,  97,  47, 127, 117,  80,  38, 117,  37,  81,  45,  88,  99,\n",
       "         167,  36], device='cuda:0'))"
      ]
     },
     "execution_count": 35,
     "metadata": {},
     "output_type": "execute_result"
    }
   ],
   "source": [
    "output.start_logits.argmax(dim=-1), output.end_logits.argmax(dim=-1)"
   ]
  },
  {
   "cell_type": "code",
   "execution_count": 36,
   "id": "16e8d220-ca9c-4a53-9da7-5f1f8ba2c3c4",
   "metadata": {},
   "outputs": [],
   "source": [
    "n_best_size = 20"
   ]
  },
  {
   "cell_type": "code",
   "execution_count": 37,
   "id": "9b254bee-b405-4ce5-bbc5-f2a41d0f9fef",
   "metadata": {},
   "outputs": [],
   "source": [
    "import numpy as np\n",
    "\n",
    "start_logits = output.start_logits[0].cpu().numpy()\n",
    "end_logits = output.end_logits[0].cpu().numpy()\n",
    "# Gather the indices the best start/end logits:\n",
    "start_indexes = np.argsort(start_logits)[-1 : -n_best_size - 1 : -1].tolist()\n",
    "end_indexes = np.argsort(end_logits)[-1 : -n_best_size - 1 : -1].tolist()\n",
    "valid_answers = []\n",
    "for start_index in start_indexes:\n",
    "    for end_index in end_indexes:\n",
    "        if start_index <= end_index: # We need to refine that test to check the answer is inside the context\n",
    "            valid_answers.append(\n",
    "                {\n",
    "                    \"score\": start_logits[start_index] + end_logits[end_index],\n",
    "                    \"text\": \"\" # We need to find a way to get back the original substring corresponding to the answer in the context\n",
    "                }\n",
    "            )"
   ]
  },
  {
   "cell_type": "code",
   "execution_count": 38,
   "id": "31c5f934-a3f5-4add-8e65-b0f305a906f2",
   "metadata": {},
   "outputs": [],
   "source": [
    "def prepare_validation_features(examples):\n",
    "    # Some of the questions have lots of whitespace on the left, which is not useful and will make the\n",
    "    # truncation of the context fail (the tokenized question will take a lots of space). So we remove that\n",
    "    # left whitespace\n",
    "    examples[\"question\"] = [q.lstrip() for q in examples[\"question\"]]\n",
    "\n",
    "    # Tokenize our examples with truncation and maybe padding, but keep the overflows using a stride. This results\n",
    "    # in one example possible giving several features when a context is long, each of those features having a\n",
    "    # context that overlaps a bit the context of the previous feature.\n",
    "    tokenized_examples = tokenizer(\n",
    "        examples[\"question\" if pad_on_right else \"context\"],\n",
    "        examples[\"context\" if pad_on_right else \"question\"],\n",
    "        truncation=\"only_second\" if pad_on_right else \"only_first\",\n",
    "        max_length=max_length,\n",
    "        stride=doc_stride,\n",
    "        return_overflowing_tokens=True,\n",
    "        return_offsets_mapping=True,\n",
    "        padding=\"max_length\",\n",
    "    )\n",
    "\n",
    "    # Since one example might give us several features if it has a long context, we need a map from a feature to\n",
    "    # its corresponding example. This key gives us just that.\n",
    "    sample_mapping = tokenized_examples.pop(\"overflow_to_sample_mapping\")\n",
    "\n",
    "    # We keep the example_id that gave us this feature and we will store the offset mappings.\n",
    "    tokenized_examples[\"example_id\"] = []\n",
    "\n",
    "    for i in range(len(tokenized_examples[\"input_ids\"])):\n",
    "        # Grab the sequence corresponding to that example (to know what is the context and what is the question).\n",
    "        sequence_ids = tokenized_examples.sequence_ids(i)\n",
    "        context_index = 1 if pad_on_right else 0\n",
    "\n",
    "        # One example can give several spans, this is the index of the example containing this span of text.\n",
    "        sample_index = sample_mapping[i]\n",
    "        tokenized_examples[\"example_id\"].append(examples[\"id\"][sample_index])\n",
    "\n",
    "        # Set to None the offset_mapping that are not part of the context so it's easy to determine if a token\n",
    "        # position is part of the context or not.\n",
    "        tokenized_examples[\"offset_mapping\"][i] = [\n",
    "            (o if sequence_ids[k] == context_index else None)\n",
    "            for k, o in enumerate(tokenized_examples[\"offset_mapping\"][i])\n",
    "        ]\n",
    "\n",
    "    return tokenized_examples"
   ]
  },
  {
   "cell_type": "code",
   "execution_count": 39,
   "id": "17fdc5f2-1db7-478d-a853-d95e8d6b16a1",
   "metadata": {},
   "outputs": [
    {
     "data": {
      "application/vnd.jupyter.widget-view+json": {
       "model_id": "7b5f54ac2dfd42f5acf31095a45a227d",
       "version_major": 2,
       "version_minor": 0
      },
      "text/plain": [
       "  0%|          | 0/11 [00:00<?, ?ba/s]"
      ]
     },
     "metadata": {},
     "output_type": "display_data"
    }
   ],
   "source": [
    "validation_features = datasets[\"validation\"].map(\n",
    "    prepare_validation_features,\n",
    "    batched=True,\n",
    "    remove_columns=datasets[\"validation\"].column_names\n",
    ")"
   ]
  },
  {
   "cell_type": "code",
   "execution_count": 40,
   "id": "1c9185bc-3d8e-4a5f-b0de-6af362e9837f",
   "metadata": {},
   "outputs": [
    {
     "name": "stderr",
     "output_type": "stream",
     "text": [
      "The following columns in the test set  don't have a corresponding argument in `AlbertForQuestionAnswering.forward` and have been ignored: example_id, offset_mapping.\n",
      "***** Running Prediction *****\n",
      "  Num examples = 10808\n",
      "  Batch size = 16\n"
     ]
    },
    {
     "data": {
      "text/html": [
       "\n",
       "    <div>\n",
       "      \n",
       "      <progress value='676' max='676' style='width:300px; height:20px; vertical-align: middle;'></progress>\n",
       "      [676/676 02:29]\n",
       "    </div>\n",
       "    "
      ],
      "text/plain": [
       "<IPython.core.display.HTML object>"
      ]
     },
     "metadata": {},
     "output_type": "display_data"
    }
   ],
   "source": [
    "raw_predictions = trainer.predict(validation_features)"
   ]
  },
  {
   "cell_type": "code",
   "execution_count": 41,
   "id": "aa92d0aa-0ac6-4073-9f4e-a9b10397b271",
   "metadata": {},
   "outputs": [],
   "source": [
    "validation_features.set_format(type=validation_features.format[\"type\"], columns=list(validation_features.features.keys()))"
   ]
  },
  {
   "cell_type": "code",
   "execution_count": 42,
   "id": "885e3635-b3ae-4d23-8723-735e2d8adc9f",
   "metadata": {},
   "outputs": [],
   "source": [
    "max_answer_length = 30"
   ]
  },
  {
   "cell_type": "code",
   "execution_count": 43,
   "id": "709529a4-9cec-4811-b9e4-48e8c4fe5c8a",
   "metadata": {},
   "outputs": [
    {
     "data": {
      "text/plain": [
       "[{'score': 15.482115, 'text': 'Denver Broncos'},\n",
       " {'score': 11.958223, 'text': 'Broncos'},\n",
       " {'score': 10.963271,\n",
       "  'text': 'The American Football Conference (AFC) champion Denver Broncos'},\n",
       " {'score': 10.494195,\n",
       "  'text': 'Denver Broncos defeated the National Football Conference (NFC) champion Carolina Panthers'},\n",
       " {'score': 9.391902, 'text': 'Denver'},\n",
       " {'score': 9.193738,\n",
       "  'text': 'American Football Conference (AFC) champion Denver Broncos'},\n",
       " {'score': 8.706513,\n",
       "  'text': 'Denver Broncos defeated the National Football Conference (NFC) champion Carolina Panthers 24–10'},\n",
       " {'score': 7.9610248,\n",
       "  'text': 'Denver Broncos defeated the National Football Conference (NFC) champion Carolina Panthers 24–10 to earn their third Super Bowl title.'},\n",
       " {'score': 7.667777, 'text': 'AFC) champion Denver Broncos'},\n",
       " {'score': 7.529857, 'text': 'Denver Broncos defeated'},\n",
       " {'score': 6.9703045,\n",
       "  'text': 'Broncos defeated the National Football Conference (NFC) champion Carolina Panthers'},\n",
       " {'score': 6.6519485,\n",
       "  'text': 'Denver Broncos defeated the National Football Conference (NFC) champion Carolina Panthers 24–10 to earn their third Super Bowl title'},\n",
       " {'score': 6.4294815, 'text': 'champion Denver Broncos'},\n",
       " {'score': 6.4269004, 'text': 'FC) champion Denver Broncos'},\n",
       " {'score': 6.264026,\n",
       "  'text': 'Denver Broncos defeated the National Football Conference (NFC) champion Carolina Panthers 24–10 to'},\n",
       " {'score': 5.989534,\n",
       "  'text': '. The American Football Conference (AFC) champion Denver Broncos'},\n",
       " {'score': 5.9753523,\n",
       "  'text': 'The American Football Conference (AFC) champion Denver Broncos defeated the National Football Conference (NFC) champion Carolina Panthers'},\n",
       " {'score': 5.965067,\n",
       "  'text': 'Denver Broncos defeated the National Football Conference (NFC) champion Carolina Panthers 24'},\n",
       " {'score': 5.93758, 'text': 'Denver Broncos defeated the'},\n",
       " {'score': 5.902979,\n",
       "  'text': 'Denver Broncos defeated the National Football Conference (NFC) champion Carolina'}]"
      ]
     },
     "execution_count": 43,
     "metadata": {},
     "output_type": "execute_result"
    }
   ],
   "source": [
    "start_logits = output.start_logits[0].cpu().numpy()\n",
    "end_logits = output.end_logits[0].cpu().numpy()\n",
    "offset_mapping = validation_features[0][\"offset_mapping\"]\n",
    "# The first feature comes from the first example. For the more general case, we will need to be match the example_id to\n",
    "# an example index\n",
    "context = datasets[\"validation\"][0][\"context\"]\n",
    "\n",
    "# Gather the indices the best start/end logits:\n",
    "start_indexes = np.argsort(start_logits)[-1 : -n_best_size - 1 : -1].tolist()\n",
    "end_indexes = np.argsort(end_logits)[-1 : -n_best_size - 1 : -1].tolist()\n",
    "valid_answers = []\n",
    "for start_index in start_indexes:\n",
    "    for end_index in end_indexes:\n",
    "        # Don't consider out-of-scope answers, either because the indices are out of bounds or correspond\n",
    "        # to part of the input_ids that are not in the context.\n",
    "        if (\n",
    "            start_index >= len(offset_mapping)\n",
    "            or end_index >= len(offset_mapping)\n",
    "            or offset_mapping[start_index] is None\n",
    "            or offset_mapping[end_index] is None\n",
    "        ):\n",
    "            continue\n",
    "        # Don't consider answers with a length that is either < 0 or > max_answer_length.\n",
    "        if end_index < start_index or end_index - start_index + 1 > max_answer_length:\n",
    "            continue\n",
    "        if start_index <= end_index: # We need to refine that test to check the answer is inside the context\n",
    "            start_char = offset_mapping[start_index][0]\n",
    "            end_char = offset_mapping[end_index][1]\n",
    "            valid_answers.append(\n",
    "                {\n",
    "                    \"score\": start_logits[start_index] + end_logits[end_index],\n",
    "                    \"text\": context[start_char: end_char]\n",
    "                }\n",
    "            )\n",
    "\n",
    "valid_answers = sorted(valid_answers, key=lambda x: x[\"score\"], reverse=True)[:n_best_size]\n",
    "valid_answers"
   ]
  },
  {
   "cell_type": "code",
   "execution_count": 44,
   "id": "ebe3732d-35df-4758-8263-cf67bdfe9f60",
   "metadata": {},
   "outputs": [
    {
     "data": {
      "text/plain": [
       "{'text': ['Denver Broncos', 'Denver Broncos', 'Denver Broncos'],\n",
       " 'answer_start': [177, 177, 177]}"
      ]
     },
     "execution_count": 44,
     "metadata": {},
     "output_type": "execute_result"
    }
   ],
   "source": [
    "datasets[\"validation\"][0][\"answers\"]"
   ]
  },
  {
   "cell_type": "code",
   "execution_count": 45,
   "id": "0cf04224-beef-4b3d-b4c1-ef34de0132d4",
   "metadata": {},
   "outputs": [],
   "source": [
    "import collections\n",
    "\n",
    "examples = datasets[\"validation\"]\n",
    "features = validation_features\n",
    "\n",
    "example_id_to_index = {k: i for i, k in enumerate(examples[\"id\"])}\n",
    "features_per_example = collections.defaultdict(list)\n",
    "for i, feature in enumerate(features):\n",
    "    features_per_example[example_id_to_index[feature[\"example_id\"]]].append(i)"
   ]
  },
  {
   "cell_type": "code",
   "execution_count": 46,
   "id": "652e1617-9dd2-4396-960c-dbbd64f93cd6",
   "metadata": {},
   "outputs": [],
   "source": [
    "from tqdm.auto import tqdm\n",
    "\n",
    "def postprocess_qa_predictions(examples, features, raw_predictions, n_best_size = 20, max_answer_length = 30):\n",
    "    all_start_logits, all_end_logits = raw_predictions\n",
    "    # Build a map example to its corresponding features.\n",
    "    example_id_to_index = {k: i for i, k in enumerate(examples[\"id\"])}\n",
    "    features_per_example = collections.defaultdict(list)\n",
    "    for i, feature in enumerate(features):\n",
    "        features_per_example[example_id_to_index[feature[\"example_id\"]]].append(i)\n",
    "\n",
    "    # The dictionaries we have to fill.\n",
    "    predictions = collections.OrderedDict()\n",
    "\n",
    "    # Logging.\n",
    "    print(f\"Post-processing {len(examples)} example predictions split into {len(features)} features.\")\n",
    "\n",
    "    # Let's loop over all the examples!\n",
    "    for example_index, example in enumerate(tqdm(examples)):\n",
    "        # Those are the indices of the features associated to the current example.\n",
    "        feature_indices = features_per_example[example_index]\n",
    "\n",
    "        min_null_score = None # Only used if squad_v2 is True.\n",
    "        valid_answers = []\n",
    "        \n",
    "        context = example[\"context\"]\n",
    "        # Looping through all the features associated to the current example.\n",
    "        for feature_index in feature_indices:\n",
    "            # We grab the predictions of the model for this feature.\n",
    "            start_logits = all_start_logits[feature_index]\n",
    "            end_logits = all_end_logits[feature_index]\n",
    "            # This is what will allow us to map some the positions in our logits to span of texts in the original\n",
    "            # context.\n",
    "            offset_mapping = features[feature_index][\"offset_mapping\"]\n",
    "\n",
    "            # Update minimum null prediction.\n",
    "            cls_index = features[feature_index][\"input_ids\"].index(tokenizer.cls_token_id)\n",
    "            feature_null_score = start_logits[cls_index] + end_logits[cls_index]\n",
    "            if min_null_score is None or min_null_score < feature_null_score:\n",
    "                min_null_score = feature_null_score\n",
    "\n",
    "            # Go through all possibilities for the `n_best_size` greater start and end logits.\n",
    "            start_indexes = np.argsort(start_logits)[-1 : -n_best_size - 1 : -1].tolist()\n",
    "            end_indexes = np.argsort(end_logits)[-1 : -n_best_size - 1 : -1].tolist()\n",
    "            for start_index in start_indexes:\n",
    "                for end_index in end_indexes:\n",
    "                    # Don't consider out-of-scope answers, either because the indices are out of bounds or correspond\n",
    "                    # to part of the input_ids that are not in the context.\n",
    "                    if (\n",
    "                        start_index >= len(offset_mapping)\n",
    "                        or end_index >= len(offset_mapping)\n",
    "                        or offset_mapping[start_index] is None\n",
    "                        or offset_mapping[end_index] is None\n",
    "                    ):\n",
    "                        continue\n",
    "                    # Don't consider answers with a length that is either < 0 or > max_answer_length.\n",
    "                    if end_index < start_index or end_index - start_index + 1 > max_answer_length:\n",
    "                        continue\n",
    "\n",
    "                    start_char = offset_mapping[start_index][0]\n",
    "                    end_char = offset_mapping[end_index][1]\n",
    "                    valid_answers.append(\n",
    "                        {\n",
    "                            \"score\": start_logits[start_index] + end_logits[end_index],\n",
    "                            \"text\": context[start_char: end_char]\n",
    "                        }\n",
    "                    )\n",
    "        \n",
    "        if len(valid_answers) > 0:\n",
    "            best_answer = sorted(valid_answers, key=lambda x: x[\"score\"], reverse=True)[0]\n",
    "        else:\n",
    "            # In the very rare edge case we have not a single non-null prediction, we create a fake prediction to avoid\n",
    "            # failure.\n",
    "            best_answer = {\"text\": \"\", \"score\": 0.0}\n",
    "        \n",
    "        # Let's pick our final answer: the best one or the null answer (only for squad_v2)\n",
    "        if not squad_v2:\n",
    "            predictions[example[\"id\"]] = best_answer[\"text\"]\n",
    "        else:\n",
    "            answer = best_answer[\"text\"] if best_answer[\"score\"] > min_null_score else \"\"\n",
    "            predictions[example[\"id\"]] = answer\n",
    "\n",
    "    return predictions"
   ]
  },
  {
   "cell_type": "code",
   "execution_count": 47,
   "id": "bf9cb866-a1de-40be-82ce-074f0c712ead",
   "metadata": {},
   "outputs": [
    {
     "name": "stdout",
     "output_type": "stream",
     "text": [
      "Post-processing 10570 example predictions split into 10808 features.\n"
     ]
    },
    {
     "data": {
      "application/vnd.jupyter.widget-view+json": {
       "model_id": "a7e9ff37745646798658a8af8a7d246a",
       "version_major": 2,
       "version_minor": 0
      },
      "text/plain": [
       "  0%|          | 0/10570 [00:00<?, ?it/s]"
      ]
     },
     "metadata": {},
     "output_type": "display_data"
    }
   ],
   "source": [
    "final_predictions = postprocess_qa_predictions(datasets[\"validation\"], validation_features, raw_predictions.predictions)"
   ]
  },
  {
   "cell_type": "code",
   "execution_count": 48,
   "id": "3aaeb013-0773-4dfb-a057-8409011735d2",
   "metadata": {},
   "outputs": [],
   "source": [
    "metric = load_metric(\"squad_v2\" if squad_v2 else \"squad\")"
   ]
  },
  {
   "cell_type": "code",
   "execution_count": 49,
   "id": "0f541210-b1e8-44b2-8f1f-bee2890e0faa",
   "metadata": {},
   "outputs": [
    {
     "data": {
      "text/plain": [
       "{'exact_match': 83.14096499526963, 'f1': 90.30415566270003}"
      ]
     },
     "execution_count": 49,
     "metadata": {},
     "output_type": "execute_result"
    }
   ],
   "source": [
    "if squad_v2:\n",
    "    formatted_predictions = [{\"id\": k, \"prediction_text\": v, \"no_answer_probability\": 0.0} for k, v in final_predictions.items()]\n",
    "else:\n",
    "    formatted_predictions = [{\"id\": k, \"prediction_text\": v} for k, v in final_predictions.items()]\n",
    "references = [{\"id\": ex[\"id\"], \"answers\": ex[\"answers\"]} for ex in datasets[\"validation\"]]\n",
    "metric.compute(predictions=formatted_predictions, references=references)"
   ]
  },
  {
   "cell_type": "code",
   "execution_count": 50,
   "id": "23f149f3-66f8-4a6c-aef1-5fc4bcdabdfe",
   "metadata": {},
   "outputs": [
    {
     "name": "stderr",
     "output_type": "stream",
     "text": [
      "Saving model checkpoint to albert-base-v2-finetuned-squad\n",
      "Configuration saved in albert-base-v2-finetuned-squad\\config.json\n",
      "Model weights saved in albert-base-v2-finetuned-squad\\pytorch_model.bin\n",
      "tokenizer config file saved in albert-base-v2-finetuned-squad\\tokenizer_config.json\n",
      "Special tokens file saved in albert-base-v2-finetuned-squad\\special_tokens_map.json\n"
     ]
    },
    {
     "data": {
      "application/vnd.jupyter.widget-view+json": {
       "model_id": "21b6f8dc6e8f4b8588854659cf8f90c8",
       "version_major": 2,
       "version_minor": 0
      },
      "text/plain": [
       "Upload file pytorch_model.bin:   0%|          | 32.0k/42.3M [00:00<?, ?B/s]"
      ]
     },
     "metadata": {},
     "output_type": "display_data"
    },
    {
     "name": "stderr",
     "output_type": "stream",
     "text": [
      "info: detecting host provider for 'https://huggingface.co/'...\n",
      "To https://huggingface.co/Firat/albert-base-v2-finetuned-squad\n",
      "   e37912f..037b5e7  main -> main\n",
      "\n",
      "Dropping the following result as it does not have all the necessary fields:\n",
      "{'task': {'name': 'Question Answering', 'type': 'question-answering'}, 'dataset': {'name': 'squad', 'type': 'squad', 'args': 'plain_text'}}\n",
      "info: detecting host provider for 'https://huggingface.co/'...\n",
      "To https://huggingface.co/Firat/albert-base-v2-finetuned-squad\n",
      "   037b5e7..b069240  main -> main\n",
      "\n"
     ]
    },
    {
     "data": {
      "text/plain": [
       "'https://huggingface.co/Firat/albert-base-v2-finetuned-squad/commit/037b5e78ef635a07fe795f6787a69460b8ecefdf'"
      ]
     },
     "execution_count": 50,
     "metadata": {},
     "output_type": "execute_result"
    }
   ],
   "source": [
    "trainer.push_to_hub()"
   ]
  },
  {
   "cell_type": "code",
   "execution_count": null,
   "id": "7392be15-579a-4ade-b9b3-4480eae5c5da",
   "metadata": {},
   "outputs": [],
   "source": []
  },
  {
   "cell_type": "code",
   "execution_count": null,
   "id": "1084b244-ed43-45b7-9dd6-ff6b2a7b1d7d",
   "metadata": {},
   "outputs": [],
   "source": []
  }
 ],
 "metadata": {
  "kernelspec": {
   "display_name": "Python 3 (ipykernel)",
   "language": "python",
   "name": "python3"
  },
  "language_info": {
   "codemirror_mode": {
    "name": "ipython",
    "version": 3
   },
   "file_extension": ".py",
   "mimetype": "text/x-python",
   "name": "python",
   "nbconvert_exporter": "python",
   "pygments_lexer": "ipython3",
   "version": "3.8.12"
  }
 },
 "nbformat": 4,
 "nbformat_minor": 5
}
