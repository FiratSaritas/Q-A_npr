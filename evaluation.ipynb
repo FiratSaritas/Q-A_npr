{
 "cells": [
  {
   "cell_type": "markdown",
   "id": "91eda735-6c9a-473d-af6a-e7fb02a684e3",
   "metadata": {},
   "source": [
    "# Evaluation"
   ]
  },
  {
   "cell_type": "code",
   "execution_count": 245,
   "id": "536a8485-cc58-4264-8a74-574724df0493",
   "metadata": {},
   "outputs": [],
   "source": [
    "import pandas as pd\n",
    "import numpy as np\n",
    "import matplotlib.pyplot as plt\n",
    "import seaborn as sns\n",
    "from tqdm.notebook import tqdm\n",
    "\n",
    "from nltk.metrics import f_measure, precision, accuracy\n",
    "import nltk\n",
    "#nltk.download('punkt')\n",
    "\n",
    "import torch\n",
    "from transformers import AutoTokenizer, AutoModelForQuestionAnswering\n",
    "from transformers import QuestionAnsweringPipeline\n",
    "\n",
    "sns.set_palette(palette='Paired')\n",
    "sns.set_style('whitegrid')"
   ]
  },
  {
   "cell_type": "code",
   "execution_count": 246,
   "id": "64ce2cf0-6d35-4d50-8bcd-faa482f4b7e0",
   "metadata": {},
   "outputs": [],
   "source": [
    "# Albert\n",
    "albert_tokenizer = AutoTokenizer.from_pretrained(\"Firat/albert-base-v2-finetuned-squad\")\n",
    "albert = AutoModelForQuestionAnswering.from_pretrained(\"Firat/albert-base-v2-finetuned-squad\")"
   ]
  },
  {
   "cell_type": "code",
   "execution_count": 247,
   "id": "73b1f1b9-dd34-456a-b378-942e7fb7c833",
   "metadata": {},
   "outputs": [],
   "source": [
    "# Roberta\n",
    "roberta_tokenizer = AutoTokenizer.from_pretrained(\"Firat/roberta-base-finetuned-squad\")\n",
    "roberta = AutoModelForQuestionAnswering.from_pretrained(\"Firat/roberta-base-finetuned-squad\")"
   ]
  },
  {
   "cell_type": "code",
   "execution_count": 423,
   "id": "4d6330ac-8aa5-496e-ac7f-80efc8efc052",
   "metadata": {},
   "outputs": [],
   "source": [
    "# Distilbert\n",
    "distilbert_tokenizer = AutoTokenizer.from_pretrained(\"Firat/distilbert-base-uncased-finetuned-squad\")\n",
    "distilbert = AutoModelForQuestionAnswering.from_pretrained(\"Firat/distilbert-base-uncased-finetuned-squad\")"
   ]
  },
  {
   "cell_type": "code",
   "execution_count": 249,
   "id": "077bca82-f30c-4c12-a565-9b3ff30798ce",
   "metadata": {},
   "outputs": [
    {
     "data": {
      "text/html": [
       "<div>\n",
       "<style scoped>\n",
       "    .dataframe tbody tr th:only-of-type {\n",
       "        vertical-align: middle;\n",
       "    }\n",
       "\n",
       "    .dataframe tbody tr th {\n",
       "        vertical-align: top;\n",
       "    }\n",
       "\n",
       "    .dataframe thead th {\n",
       "        text-align: right;\n",
       "    }\n",
       "</style>\n",
       "<table border=\"1\" class=\"dataframe\">\n",
       "  <thead>\n",
       "    <tr style=\"text-align: right;\">\n",
       "      <th></th>\n",
       "      <th>id</th>\n",
       "      <th>topic</th>\n",
       "      <th>difficulty (1-3)</th>\n",
       "      <th>text</th>\n",
       "      <th>question 1</th>\n",
       "      <th>answer 1</th>\n",
       "      <th>question 2</th>\n",
       "      <th>answer 2</th>\n",
       "      <th>question 3</th>\n",
       "      <th>answer 3</th>\n",
       "    </tr>\n",
       "  </thead>\n",
       "  <tbody>\n",
       "    <tr>\n",
       "      <th>0</th>\n",
       "      <td>1.0</td>\n",
       "      <td>history</td>\n",
       "      <td>1.0</td>\n",
       "      <td>World War II or the Second World War, often ab...</td>\n",
       "      <td>When took the second World War place?</td>\n",
       "      <td>1939 to 1945</td>\n",
       "      <td>How many personnel was involved?</td>\n",
       "      <td>more than 100 million</td>\n",
       "      <td>Who were the majority of fatalities?</td>\n",
       "      <td>civilians</td>\n",
       "    </tr>\n",
       "    <tr>\n",
       "      <th>1</th>\n",
       "      <td>2.0</td>\n",
       "      <td>health</td>\n",
       "      <td>3.0</td>\n",
       "      <td>Occupational therapy (OT) is a profession with...</td>\n",
       "      <td>Occupational therapy is profession within whic...</td>\n",
       "      <td>healthcare</td>\n",
       "      <td>By who is it performed?</td>\n",
       "      <td>occupational therapists and occupational thera...</td>\n",
       "      <td>What are common occupational therapy inerventi...</td>\n",
       "      <td>helping children with disabilities, injury reh...</td>\n",
       "    </tr>\n",
       "  </tbody>\n",
       "</table>\n",
       "</div>"
      ],
      "text/plain": [
       "    id    topic  difficulty (1-3)  \\\n",
       "0  1.0  history               1.0   \n",
       "1  2.0   health               3.0   \n",
       "\n",
       "                                                text  \\\n",
       "0  World War II or the Second World War, often ab...   \n",
       "1  Occupational therapy (OT) is a profession with...   \n",
       "\n",
       "                                          question 1      answer 1  \\\n",
       "0              When took the second World War place?  1939 to 1945   \n",
       "1  Occupational therapy is profession within whic...    healthcare   \n",
       "\n",
       "                         question 2  \\\n",
       "0  How many personnel was involved?   \n",
       "1           By who is it performed?   \n",
       "\n",
       "                                            answer 2  \\\n",
       "0                              more than 100 million   \n",
       "1  occupational therapists and occupational thera...   \n",
       "\n",
       "                                          question 3  \\\n",
       "0               Who were the majority of fatalities?   \n",
       "1  What are common occupational therapy inerventi...   \n",
       "\n",
       "                                            answer 3  \n",
       "0                                          civilians  \n",
       "1  helping children with disabilities, injury reh...  "
      ]
     },
     "execution_count": 249,
     "metadata": {},
     "output_type": "execute_result"
    }
   ],
   "source": [
    "# Load Questions\n",
    "data = pd.read_excel('question_collection.xlsx')\n",
    "data.columns = [col.lower() for col in data.columns]\n",
    "data.head(2)"
   ]
  },
  {
   "cell_type": "code",
   "execution_count": 250,
   "id": "11060c9e-94df-417d-a4fc-71f12a4177bd",
   "metadata": {},
   "outputs": [
    {
     "data": {
      "image/png": "[encoded data removed]",
      "text/plain": [
       "<Figure size 432x288 with 1 Axes>"
      ]
     },
     "metadata": {},
     "output_type": "display_data"
    }
   ],
   "source": [
    "p = sns.countplot(x=data['topic'])\n",
    "p.set_xticklabels(labels=p.get_xticklabels() , rotation=45)\n",
    "p.set_xlabel('')\n",
    "p.set_title('Topics')\n",
    "plt.show()"
   ]
  },
  {
   "cell_type": "code",
   "execution_count": 251,
   "id": "1c960242-04b0-46a6-94dc-af6ad2cd3a7c",
   "metadata": {},
   "outputs": [
    {
     "data": {
      "image/png": "[encoded data removed]",
      "text/plain": [
       "<Figure size 432x288 with 1 Axes>"
      ]
     },
     "metadata": {},
     "output_type": "display_data"
    }
   ],
   "source": [
    "p = sns.countplot(x=data['difficulty (1-3)'])\n",
    "p.set_xticklabels(labels=p.get_xticklabels() , rotation=45)\n",
    "p.set_title('Level of Difficulty')\n",
    "plt.show()"
   ]
  },
  {
   "cell_type": "code",
   "execution_count": 252,
   "id": "9b019356-be73-41df-878b-39886bd2a42f",
   "metadata": {},
   "outputs": [
    {
     "name": "stdout",
     "output_type": "stream",
     "text": [
      "World War II or the Second World War, often abbreviated as WWII or WW2, was a global war that lasted from 1939 to 1945. It involved the vast majority of the world's countries—including all of the great powers—forming two opposing military alliances: the Allies and the Axis powers. In a total war directly involving more than 100 million personnel from more than 30 countries, the major participants threw their entire economic, industrial, and scientific capabilities behind the war effort, blurring the distinction between civilian and military resources. Aircraft played a major role in the conflict, enabling the strategic bombing of population centres and the only two uses of nuclear weapons in war. World War II was by far the deadliest conflict in human history; it resulted in 70 to 85 million fatalities, a majority being civilians. Tens of millions of people died due to genocides (including the Holocaust), starvation, massacres, and disease. In the wake of the Axis defeat, Germany and Japan were occupied, and war crimes tribunals were conducted against German and Japanese leaders.\n",
      "========================================\n",
      "When took the second World War place?\n",
      "========================================\n",
      "How many personnel was involved?\n",
      "========================================\n",
      "Who were the majority of fatalities?\n"
     ]
    }
   ],
   "source": [
    "text = data.loc[0, 'text']\n",
    "q1 = data.loc[0, 'question 1']\n",
    "q2 = data.loc[0, 'question 2']\n",
    "q3 = data.loc[0, 'question 3']\n",
    "print(text)\n",
    "print(40*'=')\n",
    "print(q1)\n",
    "print(40*'=')\n",
    "print(q2)\n",
    "print(40*'=')\n",
    "print(q3)"
   ]
  },
  {
   "cell_type": "code",
   "execution_count": 253,
   "id": "72bba40d-2e60-44a7-8a17-4cbf38c79e82",
   "metadata": {},
   "outputs": [
    {
     "name": "stdout",
     "output_type": "stream",
     "text": [
      "(10,)\n",
      "7\n"
     ]
    }
   ],
   "source": [
    "foo = np.array(roberta_tokenizer(q1, padding='max_length')['input_ids'])\n",
    "print(foo[foo != 1].shape)\n",
    "print(len(q1.split(' ')))"
   ]
  },
  {
   "cell_type": "markdown",
   "id": "078b11b7-a1c5-4c7d-8090-c1479edefa0f",
   "metadata": {},
   "source": [
    "Jedes Wort bildet ein Token mit Start und End-Token. Es werden auch Satzzeichen tokenisiert."
   ]
  },
  {
   "cell_type": "code",
   "execution_count": 254,
   "id": "8bec6367-fc8c-41ba-9d5c-ed818cf05ba3",
   "metadata": {},
   "outputs": [
    {
     "name": "stdout",
     "output_type": "stream",
     "text": [
      "{'input_ids': [0, 10988, 1771, 3082, 50, 5, 4665, 623, 1771, 6, 747, 40993, 1070, 25, 29001, 50, 15584, 176, 6, 21, 10, 720, 997, 14, 9200, 31, 28234, 7, 21123, 4, 85, 963, 5, 4714, 1647, 9, 5, 232, 18, 749, 578, 8529, 70, 9, 5, 372, 4361, 578, 11847, 80, 9375, 831, 22484, 35, 5, 37761, 8, 5, 34073, 4361, 4, 96, 10, 746, 997, 2024, 3329, 55, 87, 727, 153, 3775, 31, 55, 87, 389, 749, 6, 5, 538, 3597, 4021, 49, 1445, 776, 6, 2683, 6, 8, 6441, 5587, 639, 5, 997, 1351, 6, 3089, 16715, 5, 16192, 227, 8233, 8, 831, 1915, 4, 25221, 702, 10, 538, 774, 11, 5, 3050, 6, 10298, 5, 3461, 10183, 9, 1956, 7872, 8, 5, 129, 80, 2939, 9, 1748, 2398, 11, 997, 4, 623, 1771, 3082, 21, 30, 444, 5, 16751, 3050, 11, 1050, 750, 131, 24, 4596, 11, 1510, 7, 5663, 153, 16982, 6, 10, 1647, 145, 6321, 4, 29031, 9, 2535, 9, 82, 962, 528, 7, 12358, 1975, 4376, 36, 8529, 5, 13903, 238, 31536, 6, 39246, 6, 8, 2199, 4, 96, 5, 3874, 9, 5, 34073, 3002, 6, 1600, 8, 1429, 58, 9533, 6, 8, 997, 3474, 28406, 879, 1536, 58, 2964, 136, 1859, 8, 2898, 917, 4, 2, 1, 1, 1, 1, 1, 1, 1, 1, 1, 1, 1, 1, 1, 1, 1, 1, 1, 1, 1, 1, 1, 1, 1, 1, 1, 1, 1, 1, 1, 1, 1, 1, 1, 1, 1, 1, 1, 1, 1, 1, 1, 1, 1, 1, 1, 1, 1, 1, 1, 1, 1, 1, 1, 1, 1, 1, 1, 1, 1, 1, 1, 1, 1, 1, 1, 1, 1, 1, 1, 1, 1, 1, 1, 1, 1, 1, 1, 1, 1, 1, 1, 1, 1, 1, 1, 1, 1, 1, 1, 1, 1, 1, 1, 1, 1, 1, 1, 1, 1, 1, 1, 1, 1, 1, 1, 1, 1, 1, 1, 1, 1, 1, 1, 1, 1, 1, 1, 1, 1, 1, 1, 1, 1, 1, 1, 1, 1, 1, 1, 1, 1, 1, 1, 1, 1, 1, 1, 1, 1, 1, 1, 1, 1, 1, 1, 1, 1, 1, 1, 1, 1, 1, 1, 1, 1, 1, 1, 1, 1, 1, 1, 1, 1, 1, 1, 1, 1, 1, 1, 1, 1, 1, 1, 1, 1, 1, 1, 1, 1, 1, 1, 1, 1, 1, 1, 1, 1, 1, 1, 1, 1, 1, 1, 1, 1, 1, 1, 1, 1, 1, 1, 1, 1, 1, 1, 1, 1, 1, 1, 1, 1, 1, 1, 1, 1, 1, 1, 1, 1, 1, 1, 1, 1, 1, 1, 1, 1, 1, 1, 1, 1, 1, 1, 1, 1, 1, 1, 1, 1, 1, 1, 1, 1, 1, 1, 1, 1, 1, 1, 1, 1, 1, 1, 1, 1, 1, 1, 1, 1, 1, 1, 1, 1, 1, 1, 1, 1, 1, 1, 1, 1, 1, 1, 1, 1, 1, 1, 1, 1, 1, 1, 1, 1, 1, 1, 1, 1, 1, 1, 1, 1, 1, 1, 1, 1, 1, 1, 1, 1, 1], 'attention_mask': [1, 1, 1, 1, 1, 1, 1, 1, 1, 1, 1, 1, 1, 1, 1, 1, 1, 1, 1, 1, 1, 1, 1, 1, 1, 1, 1, 1, 1, 1, 1, 1, 1, 1, 1, 1, 1, 1, 1, 1, 1, 1, 1, 1, 1, 1, 1, 1, 1, 1, 1, 1, 1, 1, 1, 1, 1, 1, 1, 1, 1, 1, 1, 1, 1, 1, 1, 1, 1, 1, 1, 1, 1, 1, 1, 1, 1, 1, 1, 1, 1, 1, 1, 1, 1, 1, 1, 1, 1, 1, 1, 1, 1, 1, 1, 1, 1, 1, 1, 1, 1, 1, 1, 1, 1, 1, 1, 1, 1, 1, 1, 1, 1, 1, 1, 1, 1, 1, 1, 1, 1, 1, 1, 1, 1, 1, 1, 1, 1, 1, 1, 1, 1, 1, 1, 1, 1, 1, 1, 1, 1, 1, 1, 1, 1, 1, 1, 1, 1, 1, 1, 1, 1, 1, 1, 1, 1, 1, 1, 1, 1, 1, 1, 1, 1, 1, 1, 1, 1, 1, 1, 1, 1, 1, 1, 1, 1, 1, 1, 1, 1, 1, 1, 1, 1, 1, 1, 1, 1, 1, 1, 1, 1, 1, 1, 1, 1, 1, 1, 1, 1, 1, 1, 1, 1, 1, 1, 1, 1, 1, 1, 1, 0, 0, 0, 0, 0, 0, 0, 0, 0, 0, 0, 0, 0, 0, 0, 0, 0, 0, 0, 0, 0, 0, 0, 0, 0, 0, 0, 0, 0, 0, 0, 0, 0, 0, 0, 0, 0, 0, 0, 0, 0, 0, 0, 0, 0, 0, 0, 0, 0, 0, 0, 0, 0, 0, 0, 0, 0, 0, 0, 0, 0, 0, 0, 0, 0, 0, 0, 0, 0, 0, 0, 0, 0, 0, 0, 0, 0, 0, 0, 0, 0, 0, 0, 0, 0, 0, 0, 0, 0, 0, 0, 0, 0, 0, 0, 0, 0, 0, 0, 0, 0, 0, 0, 0, 0, 0, 0, 0, 0, 0, 0, 0, 0, 0, 0, 0, 0, 0, 0, 0, 0, 0, 0, 0, 0, 0, 0, 0, 0, 0, 0, 0, 0, 0, 0, 0, 0, 0, 0, 0, 0, 0, 0, 0, 0, 0, 0, 0, 0, 0, 0, 0, 0, 0, 0, 0, 0, 0, 0, 0, 0, 0, 0, 0, 0, 0, 0, 0, 0, 0, 0, 0, 0, 0, 0, 0, 0, 0, 0, 0, 0, 0, 0, 0, 0, 0, 0, 0, 0, 0, 0, 0, 0, 0, 0, 0, 0, 0, 0, 0, 0, 0, 0, 0, 0, 0, 0, 0, 0, 0, 0, 0, 0, 0, 0, 0, 0, 0, 0, 0, 0, 0, 0, 0, 0, 0, 0, 0, 0, 0, 0, 0, 0, 0, 0, 0, 0, 0, 0, 0, 0, 0, 0, 0, 0, 0, 0, 0, 0, 0, 0, 0, 0, 0, 0, 0, 0, 0, 0, 0, 0, 0, 0, 0, 0, 0, 0, 0, 0, 0, 0, 0, 0, 0, 0, 0, 0, 0, 0, 0, 0, 0, 0, 0, 0, 0, 0, 0, 0, 0, 0, 0, 0, 0, 0, 0, 0, 0, 0, 0]}\n"
     ]
    }
   ],
   "source": [
    "inputs = roberta_tokenizer(text, padding=\"max_length\", truncation=True)\n",
    "print(inputs)"
   ]
  },
  {
   "cell_type": "markdown",
   "id": "4ccfb0ed-9e98-4c97-9fae-afa88772e7dc",
   "metadata": {},
   "source": [
    "Das Dictionary besteht aus den encodeten ID's und aus den Attention Mask. Die Attention Mask bezieht sich eigentlich nur auf den Wortteil, welcher nicht gepadded wurde. Das Padding wurde beim Tokenizer  mit dem Token 1 implementiert.."
   ]
  },
  {
   "cell_type": "code",
   "execution_count": 255,
   "id": "c98fd703-0260-4f28-83d9-76949093e6da",
   "metadata": {},
   "outputs": [
    {
     "name": "stdout",
     "output_type": "stream",
     "text": [
      "[(0, '<s>'), (1, '<pad>'), (2, '</s>'), (3, '<unk>')]\n"
     ]
    }
   ],
   "source": [
    "print([(i, roberta_tokenizer.convert_ids_to_tokens(i)) for i in range(4)])"
   ]
  },
  {
   "cell_type": "markdown",
   "id": "37f52ca1-7cee-4460-953f-ac8140f2460f",
   "metadata": {},
   "source": [
    "Die oberen Token stellen besondere Token dar wie start_token als 1, pad_token als 1, 2 als end_token und einen unbekannten Token mit der ID 3."
   ]
  },
  {
   "cell_type": "code",
   "execution_count": 256,
   "id": "43e6831d-72fb-4c28-bef4-b5d1808f86a7",
   "metadata": {},
   "outputs": [
    {
     "data": {
      "text/plain": [
       "array([1, 1, 1, 1, 1, 1, 1, 1, 1, 1, 1, 1, 1, 1, 1, 1, 1, 1, 1, 1, 1, 1,\n",
       "       1, 1, 1, 1, 1, 1, 1, 1, 1, 1, 1, 1, 1, 1, 1, 1, 1, 1, 1, 1, 1, 1,\n",
       "       1, 1, 1, 1, 1, 1, 1, 1, 1, 1, 1, 1, 1, 1, 1, 1, 1, 1, 1, 1, 1, 1,\n",
       "       1, 1, 1, 1, 1, 1, 1, 1, 1, 1, 1, 1, 1, 1, 1, 1, 1, 1, 1, 1, 1, 1,\n",
       "       1, 1, 1, 1, 1, 1, 1, 1, 1, 1, 1, 1, 1, 1, 1, 1, 1, 1, 1, 1, 1, 1,\n",
       "       1, 1, 1, 1, 1, 1, 1, 1, 1, 1, 1, 1, 1, 1, 1, 1, 1, 1, 1, 1, 1, 1,\n",
       "       1, 1, 1, 1, 1, 1, 1, 1, 1, 1, 1, 1, 1, 1, 1, 1, 1, 1, 1, 1, 1, 1,\n",
       "       1, 1, 1, 1, 1, 1, 1, 1, 1, 1, 1, 1, 1, 1, 1, 1, 1, 1, 1, 1, 1, 1,\n",
       "       1, 1, 1, 1, 1, 1, 1, 1, 1, 1, 1, 1, 1, 1, 1, 1, 1, 1, 1, 1, 1, 1,\n",
       "       1, 1, 1, 1, 1, 1, 1, 1, 1, 1, 1, 1, 1, 1, 0, 0, 0, 0, 0, 0, 0, 0,\n",
       "       0, 0, 0, 0, 0, 0, 0, 0, 0, 0, 0, 0, 0, 0, 0, 0, 0, 0, 0, 0, 0, 0,\n",
       "       0, 0, 0, 0, 0, 0, 0, 0, 0, 0, 0, 0, 0, 0, 0, 0, 0, 0, 0, 0, 0, 0,\n",
       "       0, 0, 0, 0, 0, 0, 0, 0, 0, 0, 0, 0, 0, 0, 0, 0, 0, 0, 0, 0, 0, 0,\n",
       "       0, 0, 0, 0, 0, 0, 0, 0, 0, 0, 0, 0, 0, 0, 0, 0, 0, 0, 0, 0, 0, 0,\n",
       "       0, 0, 0, 0, 0, 0, 0, 0, 0, 0, 0, 0, 0, 0, 0, 0, 0, 0, 0, 0, 0, 0,\n",
       "       0, 0, 0, 0, 0, 0, 0, 0, 0, 0, 0, 0, 0, 0, 0, 0, 0, 0, 0, 0, 0, 0,\n",
       "       0, 0, 0, 0, 0, 0, 0, 0, 0, 0, 0, 0, 0, 0, 0, 0, 0, 0, 0, 0, 0, 0,\n",
       "       0, 0, 0, 0, 0, 0, 0, 0, 0, 0, 0, 0, 0, 0, 0, 0, 0, 0, 0, 0, 0, 0,\n",
       "       0, 0, 0, 0, 0, 0, 0, 0, 0, 0, 0, 0, 0, 0, 0, 0, 0, 0, 0, 0, 0, 0,\n",
       "       0, 0, 0, 0, 0, 0, 0, 0, 0, 0, 0, 0, 0, 0, 0, 0, 0, 0, 0, 0, 0, 0,\n",
       "       0, 0, 0, 0, 0, 0, 0, 0, 0, 0, 0, 0, 0, 0, 0, 0, 0, 0, 0, 0, 0, 0,\n",
       "       0, 0, 0, 0, 0, 0, 0, 0, 0, 0, 0, 0, 0, 0, 0, 0, 0, 0, 0, 0, 0, 0,\n",
       "       0, 0, 0, 0, 0, 0, 0, 0, 0, 0, 0, 0, 0, 0, 0, 0, 0, 0, 0, 0, 0, 0,\n",
       "       0, 0, 0, 0, 0, 0])"
      ]
     },
     "execution_count": 256,
     "metadata": {},
     "output_type": "execute_result"
    }
   ],
   "source": [
    "att = np.array(inputs['attention_mask'])\n",
    "att"
   ]
  },
  {
   "cell_type": "code",
   "execution_count": 257,
   "id": "d2e91481-f262-4f28-bc9c-58bbc1a57adf",
   "metadata": {},
   "outputs": [],
   "source": [
    "# Extraction of topk: topk=10\n",
    "roberta_pipeline = QuestionAnsweringPipeline(model=roberta, tokenizer=roberta_tokenizer, top_k=2)"
   ]
  },
  {
   "cell_type": "code",
   "execution_count": 258,
   "id": "1f3e7616-a549-4009-9e6f-54b66abd5696",
   "metadata": {},
   "outputs": [
    {
     "name": "stdout",
     "output_type": "stream",
     "text": [
      "On who focuses the series?\n",
      "[{'score': 0.9776242971420288, 'start': 22, 'end': 37, 'answer': 'Monkey D. Luffy'}, {'score': 0.014314273372292519, 'start': 22, 'end': 38, 'answer': 'Monkey D. Luffy,'}]\n",
      "Monkey D. Ruffy\n"
     ]
    }
   ],
   "source": [
    "text_id = 3\n",
    "print(data.loc[text_id, 'question 1'])\n",
    "print(roberta_pipeline(question=data.loc[text_id, 'question 1'], context=data.loc[text_id, 'text']))\n",
    "print(data.loc[text_id, 'answer 1'])"
   ]
  },
  {
   "cell_type": "code",
   "execution_count": 580,
   "id": "f247b4ea-86cb-40b3-81ff-9374876b003f",
   "metadata": {},
   "outputs": [],
   "source": [
    "from nltk.tokenize import word_tokenize\n",
    "\n",
    "class QAEvaluate(object):\n",
    "    \"\"\"\n",
    "    THis class is for the evaluation of Question Answering System\n",
    "    \"\"\"\n",
    "    \n",
    "    def __init__(self, model, tokenizer, top_k=1, return_answer_only=True, \n",
    "                 metric='F1', evaluate_tokenized=True):\n",
    "        \"\"\"\n",
    "        This class implements a wrapper method for different evaluations on QuestionAnswering models from \n",
    "        Huggingface.com\n",
    "        \n",
    "        arguments:\n",
    "        ------------------\n",
    "        model:              QuestionAnswering model of HuggingFace\n",
    "        tokenizer:          Tokenizer to QA model\n",
    "        top_K:              Amount of answers to be returned of model.\n",
    "                            Default = 1\n",
    "        return_answer_only: Boolean to indicate if only the answer should be returned.\n",
    "                            If not True the model will return a dict with probability and Span\n",
    "        metric:             Metric to chose for the evaluation \n",
    "                            Default = \"F1\"\n",
    "        evaluate_tokenized: If the evaluation should be made for tokenized answers or not.\n",
    "                            Default = True\n",
    "        \"\"\"\n",
    "        self.model = model\n",
    "        self.tokenizer = tokenizer\n",
    "        self.pipeline = QuestionAnsweringPipeline(model=model, \n",
    "                                                  tokenizer=tokenizer, \n",
    "                                                  top_k=top_k)\n",
    "        self.return_answer_only = return_answer_only\n",
    "        self.metric = metric\n",
    "        self.evaluate_tokenized = evaluate_tokenized\n",
    "        \n",
    "    def answer_all(self, texts: np.ndarray, questions: np.ndarray):\n",
    "        \"\"\"\n",
    "        Answers all questions given with corresponding texts.\n",
    "        \n",
    "        arguments:\n",
    "        -------------\n",
    "        texts:        an array of texts with dim = 0\n",
    "        questions:    An array of questions of dim = 1\n",
    "                      Each row in this matrix should correspond with the ID of the text in the given \n",
    "                      input array:\n",
    "                      [[q1, q2, q3], [q1, q2,q3]]\n",
    "        returns:\n",
    "        -------------\n",
    "        answers:      A dictionary of answers\n",
    "        \n",
    "        \"\"\"\n",
    "        answers = {}\n",
    "        # Answer all Questions\n",
    "        with tqdm(total=len(texts)*len(questions[0]), desc='Answering Questions') as pbar:\n",
    "            for i, text in enumerate(texts):\n",
    "                answers[i] = {}\n",
    "                for j, question in enumerate(questions[i]):\n",
    "                    answer = self.answer_question(question=question, text=text)\n",
    "                    answers[i][j] = answer\n",
    "                    pbar.update(1)\n",
    "        \n",
    "        return answers\n",
    "    \n",
    "    def evaluate(self, texts: np.ndarray, questions: np.ndarray, reference_answers: np.ndarray):\n",
    "        \"\"\"\n",
    "        Methods calls functions to evaluate a given model with text, question and reference inputs.\n",
    "        \n",
    "        arguments:\n",
    "        -------------\n",
    "        texts:                an array of texts with dim = 0\n",
    "                              Example: [text1, text2]\n",
    "        questions:            An array of questions of dim = 1\n",
    "                              Each row in this matrix should correspond with the ID of the text in the given \n",
    "                              input array:\n",
    "                              Example: [[q1, q2, q3], [q1, q2,q3]]\n",
    "        reference_answers:    An array of correct answers to given questions. Same shapes and dimensions like\n",
    "                              questions.\n",
    "        \n",
    "        returns:\n",
    "        -------------\n",
    "        scores:               An array of scores in shape reference_answers.shape\n",
    "        \"\"\"\n",
    "        # Call function to answer all by system\n",
    "        answers = self.answer_all(texts=texts, questions=questions) \n",
    "        \n",
    "        # Evaluate all questions    \n",
    "        # Prepare answers as array\n",
    "        answers = self._convert_to_array(answers)\n",
    "        scores = self._calculate_scores(reference=reference_answers, test=answers)\n",
    "        \n",
    "        return scores\n",
    "    \n",
    "    def answer_question(self, question: str, text: str):\n",
    "        \"\"\"\n",
    "        Methods calls functions to evaluate a given model with text, question and reference inputs.\n",
    "        \n",
    "        arguments:\n",
    "        -------------\n",
    "        question:     A question given as string\n",
    "        text:         A text given as string\n",
    "                \n",
    "        returns:\n",
    "        -------------\n",
    "        answers:      Dictionary consisting of given question and answer\n",
    "        \"\"\"\n",
    "        # Return answer from model\n",
    "        answer = self.pipeline(question=question, context=text)\n",
    "        \n",
    "        if self.return_answer_only:\n",
    "            answer = answer['answer']\n",
    "        \n",
    "        return dict(question=question, answer=answer)\n",
    "\n",
    "            \n",
    "    @staticmethod\n",
    "    def _convert_to_array(A):\n",
    "        \"\"\"\n",
    "        Converts given dictionary to an Array\n",
    "        \"\"\"\n",
    "        answers = []\n",
    "        for i, text in A.items():\n",
    "            question_answers = []\n",
    "            for j, qa in text.items():\n",
    "                question_answers.append(qa['answer'])\n",
    "            answers.append(question_answers)\n",
    "            \n",
    "        return np.array(answers, dtype=str)\n",
    "    \n",
    "    def _calculate_scores(self, reference, test):\n",
    "        \"\"\"\n",
    "        Used for the calculation of the scores for each question given the reference.\n",
    "        \"\"\"\n",
    "        if self.metric == 'F1':\n",
    "            metric_func = f_measure\n",
    "        elif self.metric == 'precision':\n",
    "            metric_func = precision\n",
    "        else:\n",
    "            raise Exception('Metric does not fitted supported Functions within this class: [F1, accuracy, precision]')\n",
    "            \n",
    "        scores = self.__calculate_metric(metric_func=metric_func, reference=reference, \n",
    "                                         test=test, tokenized=self.evaluate_tokenized)\n",
    "        \n",
    "        return scores\n",
    "        \n",
    "    @staticmethod\n",
    "    def __calculate_metric(metric_func, reference, test, tokenized=True):\n",
    "        \"\"\"\n",
    "        Calculates Scores\n",
    "        \"\"\"\n",
    "        assert reference.shape == test.shape \n",
    "        \n",
    "        scores = np.empty(shape=reference.shape)\n",
    "        for i in tqdm(range(reference.shape[0]), desc='Calculating Scores'):\n",
    "            for j in range(reference.shape[1]):\n",
    "                if tokenized:\n",
    "                    # Tokenize Words\n",
    "                    t, ref = set(word_tokenize(str(test[i, j]))), set(word_tokenize(str(reference[i, j])))\n",
    "                else:\n",
    "                    t, ref = set([test[i, j]]), set([reference[i, j]])\n",
    "                # Score\n",
    "                score = metric_func(reference=ref, test=t)\n",
    "                scores[i, j] = score\n",
    "                \n",
    "        return scores"
   ]
  },
  {
   "cell_type": "code",
   "execution_count": 581,
   "id": "3da1764d-3d0d-485d-890d-0484d4d941e1",
   "metadata": {},
   "outputs": [],
   "source": [
    "evaluator = QAEvaluate(model=roberta, tokenizer=roberta_tokenizer)"
   ]
  },
  {
   "cell_type": "code",
   "execution_count": 582,
   "id": "51dc27e4-e81e-4884-a64a-91c62abd7713",
   "metadata": {},
   "outputs": [
    {
     "data": {
      "text/plain": [
       "'When took the second World War place?'"
      ]
     },
     "execution_count": 582,
     "metadata": {},
     "output_type": "execute_result"
    }
   ],
   "source": [
    "data.loc[0, 'question 1']"
   ]
  },
  {
   "cell_type": "code",
   "execution_count": 583,
   "id": "877db1e8-eeef-4c33-bb2f-8ad04ca51875",
   "metadata": {},
   "outputs": [
    {
     "data": {
      "text/plain": [
       "{'question': 'When took the second World War place?', 'answer': '1945'}"
      ]
     },
     "execution_count": 583,
     "metadata": {},
     "output_type": "execute_result"
    }
   ],
   "source": [
    "evaluator.answer_question(question=data.loc[0, 'question 1'], text=data.loc[0, 'text'])"
   ]
  },
  {
   "cell_type": "code",
   "execution_count": 584,
   "id": "a023d2fc-33a1-4429-ba1d-118b9d560bdb",
   "metadata": {},
   "outputs": [],
   "source": [
    "select_n = 3\n",
    "texts = data.loc[:select_n, 'text'].to_list()\n",
    "questions = data.loc[:select_n, ['question 1', 'question 2', 'question 3']].to_numpy()\n",
    "reference_answers = data.loc[:select_n, ['answer 1', 'answer 2', 'answer 3']].to_numpy()"
   ]
  },
  {
   "cell_type": "code",
   "execution_count": 585,
   "id": "98deee4f-c263-41dd-92ed-ec5637385d51",
   "metadata": {},
   "outputs": [
    {
     "data": {
      "application/vnd.jupyter.widget-view+json": {
       "model_id": "b3f18a69f62a4892b56ce972fa57a4d9",
       "version_major": 2,
       "version_minor": 0
      },
      "text/plain": [
       "Answering Questions:   0%|          | 0/12 [00:00<?, ?it/s]"
      ]
     },
     "metadata": {},
     "output_type": "display_data"
    },
    {
     "data": {
      "text/plain": [
       "{0: {'question': 'When took the second World War place?', 'answer': '1945'},\n",
       " 1: {'question': 'How many personnel was involved?',\n",
       "  'answer': 'more than 100 million'},\n",
       " 2: {'question': 'Who were the majority of fatalities?',\n",
       "  'answer': 'civilians'}}"
      ]
     },
     "execution_count": 585,
     "metadata": {},
     "output_type": "execute_result"
    }
   ],
   "source": [
    "questions_answers = evaluator.answer_all(texts=texts, questions=questions)\n",
    "questions_answers[0]"
   ]
  },
  {
   "cell_type": "markdown",
   "id": "4437ffae-0ee6-4a32-b695-e3e7c362efab",
   "metadata": {},
   "source": [
    "----"
   ]
  },
  {
   "cell_type": "code",
   "execution_count": 665,
   "id": "0136dcc1-2ffb-4e78-b361-5822ae1c1e5f",
   "metadata": {},
   "outputs": [
    {
     "name": "stdout",
     "output_type": "stream",
     "text": [
      "(15, 3)\n"
     ]
    }
   ],
   "source": [
    "texts = data.loc[:, 'text'].to_list()\n",
    "questions = data.loc[:, ['question 1', 'question 2', 'question 3']].to_numpy()\n",
    "reference_answers = data.loc[:, ['answer 1', 'answer 2', 'answer 3']].to_numpy()\n",
    "print(questions.shape)"
   ]
  },
  {
   "cell_type": "markdown",
   "id": "58767c58-17cf-45d9-85b6-7b2d980135ce",
   "metadata": {},
   "source": [
    "## Evaluation F1: Tokenized"
   ]
  },
  {
   "cell_type": "code",
   "execution_count": 727,
   "id": "07da1b25-f312-4237-9a73-8ee803dc0731",
   "metadata": {},
   "outputs": [
    {
     "data": {
      "application/vnd.jupyter.widget-view+json": {
       "model_id": "6a5ea6174c1d410bad81f4035f67fdad",
       "version_major": 2,
       "version_minor": 0
      },
      "text/plain": [
       "Answering Questions:   0%|          | 0/45 [00:00<?, ?it/s]"
      ]
     },
     "metadata": {},
     "output_type": "display_data"
    },
    {
     "data": {
      "application/vnd.jupyter.widget-view+json": {
       "model_id": "caf0eba202f74494bc387a5b5222d33f",
       "version_major": 2,
       "version_minor": 0
      },
      "text/plain": [
       "Calculating Scores:   0%|          | 0/15 [00:00<?, ?it/s]"
      ]
     },
     "metadata": {},
     "output_type": "display_data"
    },
    {
     "name": "stdout",
     "output_type": "stream",
     "text": [
      "(15, 3)\n"
     ]
    }
   ],
   "source": [
    "evaluator = QAEvaluate(model=roberta, tokenizer=roberta_tokenizer, top_k=1, \n",
    "                       return_answer_only=True, metric='F1', evaluate_tokenized=True)\n",
    "roberta_scores = evaluator.evaluate(texts=texts, questions=questions, \n",
    "                            reference_answers=reference_answers)\n",
    "print(roberta_scores.shape)"
   ]
  },
  {
   "cell_type": "code",
   "execution_count": 728,
   "id": "76809c6f-215b-4652-a7b2-aa0f6a1edc04",
   "metadata": {},
   "outputs": [
    {
     "data": {
      "application/vnd.jupyter.widget-view+json": {
       "model_id": "20618fc34883459c95b31ad259ca5457",
       "version_major": 2,
       "version_minor": 0
      },
      "text/plain": [
       "Answering Questions:   0%|          | 0/45 [00:00<?, ?it/s]"
      ]
     },
     "metadata": {},
     "output_type": "display_data"
    },
    {
     "data": {
      "application/vnd.jupyter.widget-view+json": {
       "model_id": "c444a75ed20546b09d57bbe064ead3a1",
       "version_major": 2,
       "version_minor": 0
      },
      "text/plain": [
       "Calculating Scores:   0%|          | 0/15 [00:00<?, ?it/s]"
      ]
     },
     "metadata": {},
     "output_type": "display_data"
    },
    {
     "name": "stdout",
     "output_type": "stream",
     "text": [
      "(15, 3)\n"
     ]
    }
   ],
   "source": [
    "evaluator = QAEvaluate(model=distilbert, tokenizer=distilbert_tokenizer, top_k=1, \n",
    "                       return_answer_only=True, metric='F1', evaluate_tokenized=True)\n",
    "distilbert_scores = evaluator.evaluate(texts=texts, questions=questions, \n",
    "                            reference_answers=reference_answers)\n",
    "print(distilbert_scores.shape)"
   ]
  },
  {
   "cell_type": "code",
   "execution_count": 729,
   "id": "eb813979-748e-4661-bd1a-4d25bb12862d",
   "metadata": {},
   "outputs": [
    {
     "data": {
      "application/vnd.jupyter.widget-view+json": {
       "model_id": "419c8c8823d649f1ba51e66d9e95895c",
       "version_major": 2,
       "version_minor": 0
      },
      "text/plain": [
       "Answering Questions:   0%|          | 0/45 [00:00<?, ?it/s]"
      ]
     },
     "metadata": {},
     "output_type": "display_data"
    },
    {
     "data": {
      "application/vnd.jupyter.widget-view+json": {
       "model_id": "46902bbf2dce4f1894605062b18b34d1",
       "version_major": 2,
       "version_minor": 0
      },
      "text/plain": [
       "Calculating Scores:   0%|          | 0/15 [00:00<?, ?it/s]"
      ]
     },
     "metadata": {},
     "output_type": "display_data"
    },
    {
     "name": "stdout",
     "output_type": "stream",
     "text": [
      "(15, 3)\n"
     ]
    }
   ],
   "source": [
    "evaluator = QAEvaluate(model=albert, tokenizer=albert_tokenizer, top_k=1, \n",
    "                       return_answer_only=True, metric='F1', evaluate_tokenized=True)\n",
    "albert_scores = evaluator.evaluate(texts=texts, questions=questions, \n",
    "                            reference_answers=reference_answers)\n",
    "print(albert_scores.shape)"
   ]
  },
  {
   "cell_type": "code",
   "execution_count": 730,
   "id": "f48f164f-4bc0-403c-b6dd-a6ac83b10bff",
   "metadata": {},
   "outputs": [
    {
     "data": {
      "text/html": [
       "<div>\n",
       "<style scoped>\n",
       "    .dataframe tbody tr th:only-of-type {\n",
       "        vertical-align: middle;\n",
       "    }\n",
       "\n",
       "    .dataframe tbody tr th {\n",
       "        vertical-align: top;\n",
       "    }\n",
       "\n",
       "    .dataframe thead th {\n",
       "        text-align: right;\n",
       "    }\n",
       "</style>\n",
       "<table border=\"1\" class=\"dataframe\">\n",
       "  <thead>\n",
       "    <tr style=\"text-align: right;\">\n",
       "      <th></th>\n",
       "      <th>ROBERTA</th>\n",
       "      <th>ALBERT</th>\n",
       "      <th>DISTILBERT</th>\n",
       "      <th>difficulty</th>\n",
       "    </tr>\n",
       "  </thead>\n",
       "  <tbody>\n",
       "    <tr>\n",
       "      <th>0</th>\n",
       "      <td>0.5</td>\n",
       "      <td>0.857143</td>\n",
       "      <td>1.0</td>\n",
       "      <td>1.0</td>\n",
       "    </tr>\n",
       "    <tr>\n",
       "      <th>1</th>\n",
       "      <td>1.0</td>\n",
       "      <td>1.000000</td>\n",
       "      <td>1.0</td>\n",
       "      <td>1.0</td>\n",
       "    </tr>\n",
       "  </tbody>\n",
       "</table>\n",
       "</div>"
      ],
      "text/plain": [
       "   ROBERTA    ALBERT  DISTILBERT  difficulty\n",
       "0      0.5  0.857143         1.0         1.0\n",
       "1      1.0  1.000000         1.0         1.0"
      ]
     },
     "execution_count": 730,
     "metadata": {},
     "output_type": "execute_result"
    }
   ],
   "source": [
    "tmp = pd.DataFrame(np.concatenate([roberta_scores.reshape(-1,1), albert_scores.reshape(-1,1), distilbert_scores.reshape(-1,1)], axis=1), \n",
    "                   columns=['ROBERTA', 'ALBERT', 'DISTILBERT'])\n",
    "difficulty = data['difficulty (1-3)'].to_numpy().reshape(-1,1)\n",
    "difficulty = np.concatenate(3*[difficulty], axis=1)\n",
    "\n",
    "tmp['difficulty'] = difficulty.flatten()\n",
    "tmp.head(2)"
   ]
  },
  {
   "cell_type": "code",
   "execution_count": 731,
   "id": "67e0a591-0fc0-4d77-84c4-b3a4659d0aab",
   "metadata": {},
   "outputs": [
    {
     "data": {
      "text/html": [
       "<div>\n",
       "<style scoped>\n",
       "    .dataframe tbody tr th:only-of-type {\n",
       "        vertical-align: middle;\n",
       "    }\n",
       "\n",
       "    .dataframe tbody tr th {\n",
       "        vertical-align: top;\n",
       "    }\n",
       "\n",
       "    .dataframe thead th {\n",
       "        text-align: right;\n",
       "    }\n",
       "</style>\n",
       "<table border=\"1\" class=\"dataframe\">\n",
       "  <thead>\n",
       "    <tr style=\"text-align: right;\">\n",
       "      <th></th>\n",
       "      <th>difficulty</th>\n",
       "      <th>model</th>\n",
       "      <th>F1</th>\n",
       "    </tr>\n",
       "  </thead>\n",
       "  <tbody>\n",
       "    <tr>\n",
       "      <th>0</th>\n",
       "      <td>1.0</td>\n",
       "      <td>ROBERTA</td>\n",
       "      <td>0.500000</td>\n",
       "    </tr>\n",
       "    <tr>\n",
       "      <th>1</th>\n",
       "      <td>1.0</td>\n",
       "      <td>ROBERTA</td>\n",
       "      <td>1.000000</td>\n",
       "    </tr>\n",
       "    <tr>\n",
       "      <th>2</th>\n",
       "      <td>1.0</td>\n",
       "      <td>ROBERTA</td>\n",
       "      <td>1.000000</td>\n",
       "    </tr>\n",
       "    <tr>\n",
       "      <th>3</th>\n",
       "      <td>3.0</td>\n",
       "      <td>ROBERTA</td>\n",
       "      <td>1.000000</td>\n",
       "    </tr>\n",
       "    <tr>\n",
       "      <th>4</th>\n",
       "      <td>3.0</td>\n",
       "      <td>ROBERTA</td>\n",
       "      <td>0.714286</td>\n",
       "    </tr>\n",
       "  </tbody>\n",
       "</table>\n",
       "</div>"
      ],
      "text/plain": [
       "   difficulty    model        F1\n",
       "0         1.0  ROBERTA  0.500000\n",
       "1         1.0  ROBERTA  1.000000\n",
       "2         1.0  ROBERTA  1.000000\n",
       "3         3.0  ROBERTA  1.000000\n",
       "4         3.0  ROBERTA  0.714286"
      ]
     },
     "execution_count": 731,
     "metadata": {},
     "output_type": "execute_result"
    }
   ],
   "source": [
    "tmp = tmp.melt(id_vars='difficulty', var_name='model', value_name='F1')\n",
    "tmp.head()"
   ]
  },
  {
   "cell_type": "code",
   "execution_count": 732,
   "id": "66a27229-5237-4b27-af79-e0fdfe0a9d2a",
   "metadata": {},
   "outputs": [
    {
     "data": {
      "image/png": "[encoded data removed]",
      "text/plain": [
       "<Figure size 432x288 with 1 Axes>"
      ]
     },
     "metadata": {},
     "output_type": "display_data"
    }
   ],
   "source": [
    "p = sns.catplot(x = 'model', y='F1', \n",
    "            hue = 'model',data=tmp, color=\"#fcba03\",\n",
    "            kind='bar', aspect=1.5, height=4)\n",
    "p.set_ylabels(\"F1-Score\")\n",
    "p.set_titles('F1-Scores per Question')\n",
    "p.set_xlabels(' ')\n",
    "plt.show()"
   ]
  },
  {
   "cell_type": "code",
   "execution_count": 813,
   "id": "9533e407-7047-4dc4-870d-8b2cf3a76a45",
   "metadata": {},
   "outputs": [
    {
     "data": {
      "image/png": "[encoded data removed]",
      "text/plain": [
       "<Figure size 484x288 with 1 Axes>"
      ]
     },
     "metadata": {},
     "output_type": "display_data"
    }
   ],
   "source": [
    "p = sns.catplot(x = 'model', y='F1', \n",
    "                hue = 'difficulty',data=tmp, \n",
    "                palette=sns.color_palette('Greys', 6)[1:5],\n",
    "                kind='bar', aspect=1.5, height=4)\n",
    "p.set_ylabels(\"F1-Score\")\n",
    "p.set_titles('F1-Scores per Question')\n",
    "p.set_xlabels(' ')\n",
    "plt.show()"
   ]
  },
  {
   "cell_type": "code",
   "execution_count": null,
   "id": "3f7e60ef-e93c-41e4-9274-d6a14100fce8",
   "metadata": {},
   "outputs": [],
   "source": [
    "fig = plt.subplots(figsize=(18, 4))\n",
    "\n",
    "plt.subplot(1,3,1)\n",
    "p = sns.histplot(roberta_scores.flatten())\n",
    "p.set_title('ROBERTA')\n",
    "p.set_xlabel('F1')\n",
    "\n",
    "plt.subplot(1,3,2)\n",
    "p = sns.histplot(albert_scores.flatten())\n",
    "p.set_title('ALBERT')\n",
    "p.set_xlabel('F1')\n",
    "\n",
    "plt.subplot(1,3,3)\n",
    "p = sns.histplot(distilbert_scores.flatten())\n",
    "p.set_title('DISTILBERT')\n",
    "p.set_xlabel('F1')\n",
    "\n",
    "plt.show()"
   ]
  },
  {
   "cell_type": "markdown",
   "id": "6456f690-f453-4840-a1cb-569a9db8ce66",
   "metadata": {},
   "source": [
    "## Evaluation F1: Untokenized"
   ]
  },
  {
   "cell_type": "code",
   "execution_count": 814,
   "id": "e33aec7a-84c9-4f09-b971-548e0b452844",
   "metadata": {},
   "outputs": [
    {
     "name": "stdout",
     "output_type": "stream",
     "text": [
      "(15, 3)\n"
     ]
    }
   ],
   "source": [
    "texts = data.loc[:, 'text'].to_list()\n",
    "questions = data.loc[:, ['question 1', 'question 2', 'question 3']].to_numpy()\n",
    "reference_answers = data.loc[:, ['answer 1', 'answer 2', 'answer 3']].to_numpy()\n",
    "print(questions.shape)"
   ]
  },
  {
   "cell_type": "code",
   "execution_count": 815,
   "id": "95e332a3-58b3-415a-a26b-957b379db0ec",
   "metadata": {},
   "outputs": [
    {
     "data": {
      "application/vnd.jupyter.widget-view+json": {
       "model_id": "f10fb0c56b5b48b9984eb8f9112e816a",
       "version_major": 2,
       "version_minor": 0
      },
      "text/plain": [
       "Answering Questions:   0%|          | 0/45 [00:00<?, ?it/s]"
      ]
     },
     "metadata": {},
     "output_type": "display_data"
    },
    {
     "data": {
      "application/vnd.jupyter.widget-view+json": {
       "model_id": "ac83cf2973b546d88cc80faa9a8b9d68",
       "version_major": 2,
       "version_minor": 0
      },
      "text/plain": [
       "Calculating Scores:   0%|          | 0/15 [00:00<?, ?it/s]"
      ]
     },
     "metadata": {},
     "output_type": "display_data"
    },
    {
     "name": "stdout",
     "output_type": "stream",
     "text": [
      "(15, 3)\n"
     ]
    }
   ],
   "source": [
    "evaluator = QAEvaluate(model=roberta, tokenizer=roberta_tokenizer, top_k=1, \n",
    "                       return_answer_only=True, metric='F1', evaluate_tokenized=False)\n",
    "roberta_scores = evaluator.evaluate(texts=texts, questions=questions, \n",
    "                            reference_answers=reference_answers)\n",
    "print(roberta_scores.shape)"
   ]
  },
  {
   "cell_type": "code",
   "execution_count": 816,
   "id": "714fed6d-9856-4364-aa7b-96a9490f9fef",
   "metadata": {},
   "outputs": [
    {
     "data": {
      "application/vnd.jupyter.widget-view+json": {
       "model_id": "f0e66b18f796432dbb009a4c73bb9d73",
       "version_major": 2,
       "version_minor": 0
      },
      "text/plain": [
       "Answering Questions:   0%|          | 0/45 [00:00<?, ?it/s]"
      ]
     },
     "metadata": {},
     "output_type": "display_data"
    },
    {
     "data": {
      "application/vnd.jupyter.widget-view+json": {
       "model_id": "2793f1fceb4f4cbda58186749c7f372a",
       "version_major": 2,
       "version_minor": 0
      },
      "text/plain": [
       "Calculating Scores:   0%|          | 0/15 [00:00<?, ?it/s]"
      ]
     },
     "metadata": {},
     "output_type": "display_data"
    },
    {
     "name": "stdout",
     "output_type": "stream",
     "text": [
      "(15, 3)\n"
     ]
    }
   ],
   "source": [
    "evaluator = QAEvaluate(model=distilbert, tokenizer=distilbert_tokenizer, top_k=1, \n",
    "                       return_answer_only=True, metric='F1', evaluate_tokenized=False)\n",
    "distilbert_scores = evaluator.evaluate(texts=texts, questions=questions, \n",
    "                            reference_answers=reference_answers)\n",
    "print(distilbert_scores.shape)"
   ]
  },
  {
   "cell_type": "code",
   "execution_count": 817,
   "id": "b20f195b-9757-4305-80e2-c621cb123c2c",
   "metadata": {},
   "outputs": [
    {
     "data": {
      "application/vnd.jupyter.widget-view+json": {
       "model_id": "86a851924ee94819a7b307983248b8bd",
       "version_major": 2,
       "version_minor": 0
      },
      "text/plain": [
       "Answering Questions:   0%|          | 0/45 [00:00<?, ?it/s]"
      ]
     },
     "metadata": {},
     "output_type": "display_data"
    },
    {
     "data": {
      "application/vnd.jupyter.widget-view+json": {
       "model_id": "eef87995f6904893a64febead524d95e",
       "version_major": 2,
       "version_minor": 0
      },
      "text/plain": [
       "Calculating Scores:   0%|          | 0/15 [00:00<?, ?it/s]"
      ]
     },
     "metadata": {},
     "output_type": "display_data"
    },
    {
     "name": "stdout",
     "output_type": "stream",
     "text": [
      "(15, 3)\n"
     ]
    }
   ],
   "source": [
    "evaluator = QAEvaluate(model=albert, tokenizer=albert_tokenizer, top_k=1, \n",
    "                       return_answer_only=True, metric='F1', evaluate_tokenized=False)\n",
    "albert_scores = evaluator.evaluate(texts=texts, questions=questions, \n",
    "                            reference_answers=reference_answers)\n",
    "print(albert_scores.shape)"
   ]
  },
  {
   "cell_type": "code",
   "execution_count": 818,
   "id": "364b3190-4e64-4e9e-b357-e99a29d3891c",
   "metadata": {},
   "outputs": [
    {
     "data": {
      "text/html": [
       "<div>\n",
       "<style scoped>\n",
       "    .dataframe tbody tr th:only-of-type {\n",
       "        vertical-align: middle;\n",
       "    }\n",
       "\n",
       "    .dataframe tbody tr th {\n",
       "        vertical-align: top;\n",
       "    }\n",
       "\n",
       "    .dataframe thead th {\n",
       "        text-align: right;\n",
       "    }\n",
       "</style>\n",
       "<table border=\"1\" class=\"dataframe\">\n",
       "  <thead>\n",
       "    <tr style=\"text-align: right;\">\n",
       "      <th></th>\n",
       "      <th>ROBERTA</th>\n",
       "      <th>ALBERT</th>\n",
       "      <th>DISTILBERT</th>\n",
       "      <th>difficulty</th>\n",
       "    </tr>\n",
       "  </thead>\n",
       "  <tbody>\n",
       "    <tr>\n",
       "      <th>0</th>\n",
       "      <td>0.0</td>\n",
       "      <td>0.0</td>\n",
       "      <td>1.0</td>\n",
       "      <td>1.0</td>\n",
       "    </tr>\n",
       "    <tr>\n",
       "      <th>1</th>\n",
       "      <td>1.0</td>\n",
       "      <td>1.0</td>\n",
       "      <td>1.0</td>\n",
       "      <td>1.0</td>\n",
       "    </tr>\n",
       "  </tbody>\n",
       "</table>\n",
       "</div>"
      ],
      "text/plain": [
       "   ROBERTA  ALBERT  DISTILBERT  difficulty\n",
       "0      0.0     0.0         1.0         1.0\n",
       "1      1.0     1.0         1.0         1.0"
      ]
     },
     "execution_count": 818,
     "metadata": {},
     "output_type": "execute_result"
    }
   ],
   "source": [
    "tmp = pd.DataFrame(np.concatenate([roberta_scores.reshape(-1,1), albert_scores.reshape(-1,1), distilbert_scores.reshape(-1,1)], axis=1), \n",
    "                   columns=['ROBERTA', 'ALBERT', 'DISTILBERT'])\n",
    "difficulty = data['difficulty (1-3)'].to_numpy().reshape(-1,1)\n",
    "difficulty = np.concatenate(3*[difficulty], axis=1)\n",
    "\n",
    "tmp['difficulty'] = difficulty.flatten()\n",
    "tmp.head(2)"
   ]
  },
  {
   "cell_type": "code",
   "execution_count": 819,
   "id": "dda3ff8c-aab2-4ce8-91e7-de4a89803654",
   "metadata": {},
   "outputs": [
    {
     "data": {
      "text/html": [
       "<div>\n",
       "<style scoped>\n",
       "    .dataframe tbody tr th:only-of-type {\n",
       "        vertical-align: middle;\n",
       "    }\n",
       "\n",
       "    .dataframe tbody tr th {\n",
       "        vertical-align: top;\n",
       "    }\n",
       "\n",
       "    .dataframe thead th {\n",
       "        text-align: right;\n",
       "    }\n",
       "</style>\n",
       "<table border=\"1\" class=\"dataframe\">\n",
       "  <thead>\n",
       "    <tr style=\"text-align: right;\">\n",
       "      <th></th>\n",
       "      <th>difficulty</th>\n",
       "      <th>model</th>\n",
       "      <th>F1</th>\n",
       "    </tr>\n",
       "  </thead>\n",
       "  <tbody>\n",
       "    <tr>\n",
       "      <th>0</th>\n",
       "      <td>1.0</td>\n",
       "      <td>ROBERTA</td>\n",
       "      <td>0.0</td>\n",
       "    </tr>\n",
       "    <tr>\n",
       "      <th>1</th>\n",
       "      <td>1.0</td>\n",
       "      <td>ROBERTA</td>\n",
       "      <td>1.0</td>\n",
       "    </tr>\n",
       "    <tr>\n",
       "      <th>2</th>\n",
       "      <td>1.0</td>\n",
       "      <td>ROBERTA</td>\n",
       "      <td>1.0</td>\n",
       "    </tr>\n",
       "    <tr>\n",
       "      <th>3</th>\n",
       "      <td>3.0</td>\n",
       "      <td>ROBERTA</td>\n",
       "      <td>1.0</td>\n",
       "    </tr>\n",
       "    <tr>\n",
       "      <th>4</th>\n",
       "      <td>3.0</td>\n",
       "      <td>ROBERTA</td>\n",
       "      <td>0.0</td>\n",
       "    </tr>\n",
       "  </tbody>\n",
       "</table>\n",
       "</div>"
      ],
      "text/plain": [
       "   difficulty    model   F1\n",
       "0         1.0  ROBERTA  0.0\n",
       "1         1.0  ROBERTA  1.0\n",
       "2         1.0  ROBERTA  1.0\n",
       "3         3.0  ROBERTA  1.0\n",
       "4         3.0  ROBERTA  0.0"
      ]
     },
     "execution_count": 819,
     "metadata": {},
     "output_type": "execute_result"
    }
   ],
   "source": [
    "tmp = tmp.melt(id_vars='difficulty', var_name='model', value_name='F1')\n",
    "tmp.head()"
   ]
  },
  {
   "cell_type": "code",
   "execution_count": 820,
   "id": "862020e5-2d5f-4d7f-969d-8bf976a06dcc",
   "metadata": {},
   "outputs": [
    {
     "data": {
      "image/png": "[encoded data removed]",
      "text/plain": [
       "<Figure size 484x288 with 1 Axes>"
      ]
     },
     "metadata": {},
     "output_type": "display_data"
    }
   ],
   "source": [
    "p = sns.catplot(x = 'model', y='F1', \n",
    "                hue = 'difficulty',data=tmp, \n",
    "                palette=sns.color_palette('Greys', 6)[1:5],\n",
    "                kind='bar', aspect=1.5, height=4)\n",
    "p.set_ylabels(\"F1-Score\")\n",
    "p.set_titles('F1-Scores per Question')\n",
    "p.set_xlabels(' ')\n",
    "plt.show()"
   ]
  },
  {
   "cell_type": "code",
   "execution_count": 822,
   "id": "a37ebda2-aaa2-47e4-9384-d01fd26463fe",
   "metadata": {},
   "outputs": [
    {
     "data": {
      "image/png": "[encoded data removed]",
      "text/plain": [
       "<Figure size 1296x288 with 3 Axes>"
      ]
     },
     "metadata": {},
     "output_type": "display_data"
    }
   ],
   "source": [
    "fig = plt.subplots(figsize=(18, 4))\n",
    "\n",
    "plt.subplot(1,3,1)\n",
    "p = sns.histplot(roberta_scores.flatten())\n",
    "p.set_title('ROBERTA')\n",
    "p.set_xlabel('F1')\n",
    "\n",
    "plt.subplot(1,3,2)\n",
    "p = sns.histplot(albert_scores.flatten())\n",
    "p.set_title('ALBERT')\n",
    "p.set_xlabel('F1')\n",
    "\n",
    "plt.subplot(1,3,3)\n",
    "p = sns.histplot(distilbert_scores.flatten())\n",
    "p.set_title('DISTILBERT')\n",
    "p.set_xlabel('F1')\n",
    "\n",
    "plt.show()"
   ]
  },
  {
   "cell_type": "code",
   "execution_count": null,
   "id": "99a5a49e-e348-4e32-98b9-1ac3018f6100",
   "metadata": {},
   "outputs": [],
   "source": []
  },
  {
   "cell_type": "code",
   "execution_count": null,
   "id": "8017e23a-b71c-4d6b-832d-7c76b876e91f",
   "metadata": {},
   "outputs": [],
   "source": []
  },
  {
   "cell_type": "markdown",
   "id": "45daa6ba-3c4b-4ab2-9a96-b7220ffe9c5f",
   "metadata": {
    "tags": []
   },
   "source": [
    "## Investigation of Probabilties per MOdel\n",
    "\n",
    "### Probabilty of Answers"
   ]
  },
  {
   "cell_type": "code",
   "execution_count": 823,
   "id": "285510e9-4a0c-4806-abc4-ae9a703756c2",
   "metadata": {},
   "outputs": [
    {
     "name": "stdout",
     "output_type": "stream",
     "text": [
      "(15, 3)\n"
     ]
    }
   ],
   "source": [
    "texts = data.loc[:, 'text'].to_list()\n",
    "questions = data.loc[:, ['question 1', 'question 2', 'question 3']].to_numpy()\n",
    "reference_answers = data.loc[:, ['answer 1', 'answer 2', 'answer 3']].to_numpy()\n",
    "print(questions.shape)"
   ]
  },
  {
   "cell_type": "code",
   "execution_count": 824,
   "id": "a7bceeac-b55b-48c8-9c05-a98f87a769a3",
   "metadata": {},
   "outputs": [
    {
     "data": {
      "application/vnd.jupyter.widget-view+json": {
       "model_id": "acf8ba94d5054a4284c27673883922fb",
       "version_major": 2,
       "version_minor": 0
      },
      "text/plain": [
       "Answering Questions:   0%|          | 0/45 [00:00<?, ?it/s]"
      ]
     },
     "metadata": {},
     "output_type": "display_data"
    }
   ],
   "source": [
    "evaluator = QAEvaluate(model=roberta, tokenizer=roberta_tokenizer, top_k=1, \n",
    "                       return_answer_only=False, metric='F1', evaluate_tokenized=True)\n",
    "roberta_answers = evaluator.answer_all(texts=texts, questions=questions)"
   ]
  },
  {
   "cell_type": "code",
   "execution_count": 825,
   "id": "2596198f-675b-4619-942f-9bfb106c6325",
   "metadata": {},
   "outputs": [
    {
     "data": {
      "application/vnd.jupyter.widget-view+json": {
       "model_id": "ac71358cc456456f9fac5ceff24638a9",
       "version_major": 2,
       "version_minor": 0
      },
      "text/plain": [
       "Answering Questions:   0%|          | 0/45 [00:00<?, ?it/s]"
      ]
     },
     "metadata": {},
     "output_type": "display_data"
    }
   ],
   "source": [
    "evaluator = QAEvaluate(model=distilbert, tokenizer=distilbert_tokenizer, top_k=1, \n",
    "                       return_answer_only=False, metric='F1', evaluate_tokenized=True)\n",
    "distilbert_answers = evaluator.answer_all(texts=texts, questions=questions)"
   ]
  },
  {
   "cell_type": "code",
   "execution_count": 826,
   "id": "7a7e6b5e-e786-4326-90a1-1d5c811e9e53",
   "metadata": {
    "tags": []
   },
   "outputs": [
    {
     "data": {
      "application/vnd.jupyter.widget-view+json": {
       "model_id": "ac51b7fc6cde44aa995bbec918fc45a7",
       "version_major": 2,
       "version_minor": 0
      },
      "text/plain": [
       "Answering Questions:   0%|          | 0/45 [00:00<?, ?it/s]"
      ]
     },
     "metadata": {},
     "output_type": "display_data"
    }
   ],
   "source": [
    "evaluator = QAEvaluate(model=albert, tokenizer=albert_tokenizer, top_k=1, \n",
    "                       return_answer_only=False, metric='F1', evaluate_tokenized=True)\n",
    "albert_answers = evaluator.answer_all(texts=texts, questions=questions)"
   ]
  },
  {
   "cell_type": "code",
   "execution_count": 717,
   "id": "c7105f77-1817-42e7-babb-d6877aa1bf17",
   "metadata": {},
   "outputs": [
    {
     "data": {
      "text/plain": [
       "{0: {'question': 'When took the second World War place?',\n",
       "  'answer': {'score': 0.6823691129684448,\n",
       "   'start': 106,\n",
       "   'end': 119,\n",
       "   'answer': '1939 to 1945.'}},\n",
       " 1: {'question': 'How many personnel was involved?',\n",
       "  'answer': {'score': 0.4476654827594757,\n",
       "   'start': 316,\n",
       "   'end': 337,\n",
       "   'answer': 'more than 100 million'}},\n",
       " 2: {'question': 'Who were the majority of fatalities?',\n",
       "  'answer': {'score': 0.8735024333000183,\n",
       "   'start': 832,\n",
       "   'end': 842,\n",
       "   'answer': 'civilians.'}}}"
      ]
     },
     "execution_count": 717,
     "metadata": {},
     "output_type": "execute_result"
    }
   ],
   "source": [
    "albert_answers[0]"
   ]
  },
  {
   "cell_type": "code",
   "execution_count": 926,
   "id": "9b04d9d5-1d54-4597-a455-4b3dd9cca460",
   "metadata": {},
   "outputs": [
    {
     "data": {
      "text/html": [
       "<div>\n",
       "<style scoped>\n",
       "    .dataframe tbody tr th:only-of-type {\n",
       "        vertical-align: middle;\n",
       "    }\n",
       "\n",
       "    .dataframe tbody tr th {\n",
       "        vertical-align: top;\n",
       "    }\n",
       "\n",
       "    .dataframe thead th {\n",
       "        text-align: right;\n",
       "    }\n",
       "</style>\n",
       "<table border=\"1\" class=\"dataframe\">\n",
       "  <thead>\n",
       "    <tr style=\"text-align: right;\">\n",
       "      <th></th>\n",
       "      <th>text_id</th>\n",
       "      <th>difficulty (1-3)</th>\n",
       "      <th>answer_id</th>\n",
       "      <th>answer</th>\n",
       "    </tr>\n",
       "  </thead>\n",
       "  <tbody>\n",
       "    <tr>\n",
       "      <th>0</th>\n",
       "      <td>1.0</td>\n",
       "      <td>1.0</td>\n",
       "      <td>answer 1</td>\n",
       "      <td>1939 to 1945</td>\n",
       "    </tr>\n",
       "    <tr>\n",
       "      <th>1</th>\n",
       "      <td>1.0</td>\n",
       "      <td>1.0</td>\n",
       "      <td>answer 2</td>\n",
       "      <td>more than 100 million</td>\n",
       "    </tr>\n",
       "  </tbody>\n",
       "</table>\n",
       "</div>"
      ],
      "text/plain": [
       "   text_id  difficulty (1-3) answer_id                 answer\n",
       "0      1.0               1.0  answer 1           1939 to 1945\n",
       "1      1.0               1.0  answer 2  more than 100 million"
      ]
     },
     "execution_count": 926,
     "metadata": {},
     "output_type": "execute_result"
    }
   ],
   "source": [
    "tmp = data.loc[:, ['id', 'difficulty (1-3)', 'answer 1', 'answer 2', 'answer 3']]\n",
    "tmp = tmp.melt(id_vars=['id', 'difficulty (1-3)']).sort_values(by=['id', 'variable']).reset_index(drop=True)\n",
    "tmp.columns = ['text_id', 'difficulty (1-3)', 'answer_id', 'answer']\n",
    "tmp.head(2)"
   ]
  },
  {
   "cell_type": "code",
   "execution_count": 927,
   "id": "97bddf2f-95cf-4d43-a8c9-714e01975c6e",
   "metadata": {},
   "outputs": [],
   "source": [
    "def extract_probability(answers: dict):\n",
    "    probs = []\n",
    "    for idx, text in answers.items():\n",
    "        for qid, items in text.items():\n",
    "            probs.append(items['answer']['score'])\n",
    "            \n",
    "    return probs"
   ]
  },
  {
   "cell_type": "code",
   "execution_count": 928,
   "id": "acadaebc-b9b6-4a37-b816-70bad94658ca",
   "metadata": {},
   "outputs": [
    {
     "data": {
      "text/html": [
       "<div>\n",
       "<style scoped>\n",
       "    .dataframe tbody tr th:only-of-type {\n",
       "        vertical-align: middle;\n",
       "    }\n",
       "\n",
       "    .dataframe tbody tr th {\n",
       "        vertical-align: top;\n",
       "    }\n",
       "\n",
       "    .dataframe thead th {\n",
       "        text-align: right;\n",
       "    }\n",
       "</style>\n",
       "<table border=\"1\" class=\"dataframe\">\n",
       "  <thead>\n",
       "    <tr style=\"text-align: right;\">\n",
       "      <th></th>\n",
       "      <th>text_id</th>\n",
       "      <th>difficulty (1-3)</th>\n",
       "      <th>answer_id</th>\n",
       "      <th>answer</th>\n",
       "      <th>Albert</th>\n",
       "      <th>Roberta</th>\n",
       "      <th>Distilbert</th>\n",
       "    </tr>\n",
       "  </thead>\n",
       "  <tbody>\n",
       "    <tr>\n",
       "      <th>0</th>\n",
       "      <td>1.0</td>\n",
       "      <td>1.0</td>\n",
       "      <td>answer 1</td>\n",
       "      <td>1939 to 1945</td>\n",
       "      <td>0.682369</td>\n",
       "      <td>0.440837</td>\n",
       "      <td>0.420929</td>\n",
       "    </tr>\n",
       "    <tr>\n",
       "      <th>1</th>\n",
       "      <td>1.0</td>\n",
       "      <td>1.0</td>\n",
       "      <td>answer 2</td>\n",
       "      <td>more than 100 million</td>\n",
       "      <td>0.447665</td>\n",
       "      <td>0.450952</td>\n",
       "      <td>0.325835</td>\n",
       "    </tr>\n",
       "    <tr>\n",
       "      <th>2</th>\n",
       "      <td>1.0</td>\n",
       "      <td>1.0</td>\n",
       "      <td>answer 3</td>\n",
       "      <td>civilians</td>\n",
       "      <td>0.873502</td>\n",
       "      <td>0.952703</td>\n",
       "      <td>0.855431</td>\n",
       "    </tr>\n",
       "    <tr>\n",
       "      <th>3</th>\n",
       "      <td>2.0</td>\n",
       "      <td>3.0</td>\n",
       "      <td>answer 1</td>\n",
       "      <td>healthcare</td>\n",
       "      <td>0.982662</td>\n",
       "      <td>0.992195</td>\n",
       "      <td>0.957916</td>\n",
       "    </tr>\n",
       "    <tr>\n",
       "      <th>4</th>\n",
       "      <td>2.0</td>\n",
       "      <td>3.0</td>\n",
       "      <td>answer 2</td>\n",
       "      <td>occupational therapists and occupational thera...</td>\n",
       "      <td>0.569883</td>\n",
       "      <td>0.573797</td>\n",
       "      <td>0.589979</td>\n",
       "    </tr>\n",
       "  </tbody>\n",
       "</table>\n",
       "</div>"
      ],
      "text/plain": [
       "   text_id  difficulty (1-3) answer_id  \\\n",
       "0      1.0               1.0  answer 1   \n",
       "1      1.0               1.0  answer 2   \n",
       "2      1.0               1.0  answer 3   \n",
       "3      2.0               3.0  answer 1   \n",
       "4      2.0               3.0  answer 2   \n",
       "\n",
       "                                              answer    Albert   Roberta  \\\n",
       "0                                       1939 to 1945  0.682369  0.440837   \n",
       "1                              more than 100 million  0.447665  0.450952   \n",
       "2                                          civilians  0.873502  0.952703   \n",
       "3                                         healthcare  0.982662  0.992195   \n",
       "4  occupational therapists and occupational thera...  0.569883  0.573797   \n",
       "\n",
       "   Distilbert  \n",
       "0    0.420929  \n",
       "1    0.325835  \n",
       "2    0.855431  \n",
       "3    0.957916  \n",
       "4    0.589979  "
      ]
     },
     "execution_count": 928,
     "metadata": {},
     "output_type": "execute_result"
    }
   ],
   "source": [
    "tmp['Albert'] = extract_probability(albert_answers)\n",
    "tmp['Roberta'] = extract_probability(roberta_answers)\n",
    "tmp['Distilbert'] = extract_probability(distilbert_answers)\n",
    "tmp.head(5)"
   ]
  },
  {
   "cell_type": "markdown",
   "id": "3afd1488-8299-4286-ab82-300d70ceab7c",
   "metadata": {},
   "source": [
    "### Plotting all Probabilty Values"
   ]
  },
  {
   "cell_type": "code",
   "execution_count": 929,
   "id": "76303069-85b9-4975-a5ab-09a65b160e12",
   "metadata": {},
   "outputs": [
    {
     "data": {
      "text/html": [
       "<div>\n",
       "<style scoped>\n",
       "    .dataframe tbody tr th:only-of-type {\n",
       "        vertical-align: middle;\n",
       "    }\n",
       "\n",
       "    .dataframe tbody tr th {\n",
       "        vertical-align: top;\n",
       "    }\n",
       "\n",
       "    .dataframe thead th {\n",
       "        text-align: right;\n",
       "    }\n",
       "</style>\n",
       "<table border=\"1\" class=\"dataframe\">\n",
       "  <thead>\n",
       "    <tr style=\"text-align: right;\">\n",
       "      <th></th>\n",
       "      <th>difficulty</th>\n",
       "      <th>model</th>\n",
       "      <th>probs</th>\n",
       "    </tr>\n",
       "  </thead>\n",
       "  <tbody>\n",
       "    <tr>\n",
       "      <th>0</th>\n",
       "      <td>1.0</td>\n",
       "      <td>Albert</td>\n",
       "      <td>0.682369</td>\n",
       "    </tr>\n",
       "    <tr>\n",
       "      <th>1</th>\n",
       "      <td>1.0</td>\n",
       "      <td>Albert</td>\n",
       "      <td>0.447665</td>\n",
       "    </tr>\n",
       "  </tbody>\n",
       "</table>\n",
       "</div>"
      ],
      "text/plain": [
       "   difficulty   model     probs\n",
       "0         1.0  Albert  0.682369\n",
       "1         1.0  Albert  0.447665"
      ]
     },
     "execution_count": 929,
     "metadata": {},
     "output_type": "execute_result"
    }
   ],
   "source": [
    "selection = tmp[['difficulty (1-3)', 'Albert', 'Roberta', 'Distilbert']]\n",
    "selection = selection.melt(id_vars=['difficulty (1-3)'], var_name=['model'], \n",
    "                           value_name='probs')\n",
    "selection.columns = ['difficulty', 'model', 'probs']\n",
    "selection.head(2)"
   ]
  },
  {
   "cell_type": "code",
   "execution_count": 934,
   "id": "f47918d8-4730-4d0d-8356-9182bed0997a",
   "metadata": {},
   "outputs": [
    {
     "data": {
      "image/png": "[encoded data removed]",
      "text/plain": [
       "<Figure size 484x288 with 1 Axes>"
      ]
     },
     "metadata": {},
     "output_type": "display_data"
    }
   ],
   "source": [
    "p = sns.catplot(x = 'model', y='probs', \n",
    "                hue = 'difficulty',data=selection, \n",
    "                palette=sns.color_palette('Greys', 6)[1:5],\n",
    "                kind='bar', aspect=1.5, height=4)\n",
    "p.set_ylabels(\"Answer Probabilities\")\n",
    "p.set_xlabels('')\n",
    "plt.show()"
   ]
  },
  {
   "cell_type": "markdown",
   "id": "b4413a2d-ab10-411d-99a2-cc228bb1321a",
   "metadata": {},
   "source": [
    "- Desto Schwerer Das Niveau der Fragen und Texte, desto tiefer auch die Probabilities die von den MOdellen für die Top Answer zurückgegeben werden.\n"
   ]
  },
  {
   "cell_type": "code",
   "execution_count": 942,
   "id": "c0817b13-b7d6-4ef0-a608-37156235ac77",
   "metadata": {},
   "outputs": [
    {
     "data": {
      "image/png": "[encoded data removed]",
      "text/plain": [
       "<Figure size 432x288 with 1 Axes>"
      ]
     },
     "metadata": {},
     "output_type": "display_data"
    }
   ],
   "source": [
    "cmap = sns.color_palette('Greys', 15)\n",
    "c1, c2, c3 = cmap[6], cmap[10], cmap[14]\n",
    "p = sns.kdeplot(x = 'probs', shade=True,\n",
    "                hue = 'difficulty', data=selection, \n",
    "                palette=[c1, c2, c3])\n",
    "p.set_xlabel('Answer Probabilities')\n",
    "plt.show()"
   ]
  },
  {
   "cell_type": "markdown",
   "id": "1192359a-43d1-4e6c-b1aa-21e6983e9945",
   "metadata": {},
   "source": [
    "Plot zeigt klar dass die Probabilities der einzelnen klassen stark voneinander abweichen."
   ]
  },
  {
   "cell_type": "markdown",
   "id": "d64fb8fb-f347-4e41-815e-1772f2c3932b",
   "metadata": {},
   "source": [
    "### Plotting all Trick Questions Probs"
   ]
  },
  {
   "cell_type": "code",
   "execution_count": 945,
   "id": "2e0ced8a-50ba-4d26-884a-5664c1bb3d60",
   "metadata": {},
   "outputs": [],
   "source": [
    "tmp['is_trick'] = tmp['answer'] == 'None'"
   ]
  },
  {
   "cell_type": "code",
   "execution_count": 946,
   "id": "cb70c792-40b2-41c9-8039-f588251fd840",
   "metadata": {},
   "outputs": [
    {
     "data": {
      "text/html": [
       "<div>\n",
       "<style scoped>\n",
       "    .dataframe tbody tr th:only-of-type {\n",
       "        vertical-align: middle;\n",
       "    }\n",
       "\n",
       "    .dataframe tbody tr th {\n",
       "        vertical-align: top;\n",
       "    }\n",
       "\n",
       "    .dataframe thead th {\n",
       "        text-align: right;\n",
       "    }\n",
       "</style>\n",
       "<table border=\"1\" class=\"dataframe\">\n",
       "  <thead>\n",
       "    <tr style=\"text-align: right;\">\n",
       "      <th></th>\n",
       "      <th>text_id</th>\n",
       "      <th>difficulty (1-3)</th>\n",
       "      <th>answer_id</th>\n",
       "      <th>answer</th>\n",
       "      <th>Albert</th>\n",
       "      <th>Roberta</th>\n",
       "      <th>Distilbert</th>\n",
       "      <th>is_trick</th>\n",
       "    </tr>\n",
       "  </thead>\n",
       "  <tbody>\n",
       "    <tr>\n",
       "      <th>0</th>\n",
       "      <td>1.0</td>\n",
       "      <td>1.0</td>\n",
       "      <td>answer 1</td>\n",
       "      <td>1939 to 1945</td>\n",
       "      <td>0.682369</td>\n",
       "      <td>0.440837</td>\n",
       "      <td>0.420929</td>\n",
       "      <td>False</td>\n",
       "    </tr>\n",
       "    <tr>\n",
       "      <th>1</th>\n",
       "      <td>1.0</td>\n",
       "      <td>1.0</td>\n",
       "      <td>answer 2</td>\n",
       "      <td>more than 100 million</td>\n",
       "      <td>0.447665</td>\n",
       "      <td>0.450952</td>\n",
       "      <td>0.325835</td>\n",
       "      <td>False</td>\n",
       "    </tr>\n",
       "    <tr>\n",
       "      <th>2</th>\n",
       "      <td>1.0</td>\n",
       "      <td>1.0</td>\n",
       "      <td>answer 3</td>\n",
       "      <td>civilians</td>\n",
       "      <td>0.873502</td>\n",
       "      <td>0.952703</td>\n",
       "      <td>0.855431</td>\n",
       "      <td>False</td>\n",
       "    </tr>\n",
       "    <tr>\n",
       "      <th>3</th>\n",
       "      <td>2.0</td>\n",
       "      <td>3.0</td>\n",
       "      <td>answer 1</td>\n",
       "      <td>healthcare</td>\n",
       "      <td>0.982662</td>\n",
       "      <td>0.992195</td>\n",
       "      <td>0.957916</td>\n",
       "      <td>False</td>\n",
       "    </tr>\n",
       "    <tr>\n",
       "      <th>4</th>\n",
       "      <td>2.0</td>\n",
       "      <td>3.0</td>\n",
       "      <td>answer 2</td>\n",
       "      <td>occupational therapists and occupational thera...</td>\n",
       "      <td>0.569883</td>\n",
       "      <td>0.573797</td>\n",
       "      <td>0.589979</td>\n",
       "      <td>False</td>\n",
       "    </tr>\n",
       "  </tbody>\n",
       "</table>\n",
       "</div>"
      ],
      "text/plain": [
       "   text_id  difficulty (1-3) answer_id  \\\n",
       "0      1.0               1.0  answer 1   \n",
       "1      1.0               1.0  answer 2   \n",
       "2      1.0               1.0  answer 3   \n",
       "3      2.0               3.0  answer 1   \n",
       "4      2.0               3.0  answer 2   \n",
       "\n",
       "                                              answer    Albert   Roberta  \\\n",
       "0                                       1939 to 1945  0.682369  0.440837   \n",
       "1                              more than 100 million  0.447665  0.450952   \n",
       "2                                          civilians  0.873502  0.952703   \n",
       "3                                         healthcare  0.982662  0.992195   \n",
       "4  occupational therapists and occupational thera...  0.569883  0.573797   \n",
       "\n",
       "   Distilbert  is_trick  \n",
       "0    0.420929     False  \n",
       "1    0.325835     False  \n",
       "2    0.855431     False  \n",
       "3    0.957916     False  \n",
       "4    0.589979     False  "
      ]
     },
     "execution_count": 946,
     "metadata": {},
     "output_type": "execute_result"
    }
   ],
   "source": [
    "tmp.head()"
   ]
  },
  {
   "cell_type": "code",
   "execution_count": 853,
   "id": "854523fc-4a4c-4d3a-a426-23ff345d8ce3",
   "metadata": {},
   "outputs": [
    {
     "data": {
      "text/html": [
       "<div>\n",
       "<style scoped>\n",
       "    .dataframe tbody tr th:only-of-type {\n",
       "        vertical-align: middle;\n",
       "    }\n",
       "\n",
       "    .dataframe tbody tr th {\n",
       "        vertical-align: top;\n",
       "    }\n",
       "\n",
       "    .dataframe thead th {\n",
       "        text-align: right;\n",
       "    }\n",
       "</style>\n",
       "<table border=\"1\" class=\"dataframe\">\n",
       "  <thead>\n",
       "    <tr style=\"text-align: right;\">\n",
       "      <th></th>\n",
       "      <th>id</th>\n",
       "      <th>topic</th>\n",
       "      <th>difficulty (1-3)</th>\n",
       "      <th>text</th>\n",
       "      <th>question 1</th>\n",
       "      <th>answer 1</th>\n",
       "      <th>question 2</th>\n",
       "      <th>answer 2</th>\n",
       "      <th>question 3</th>\n",
       "      <th>answer 3</th>\n",
       "    </tr>\n",
       "  </thead>\n",
       "  <tbody>\n",
       "    <tr>\n",
       "      <th>2</th>\n",
       "      <td>3.0</td>\n",
       "      <td>tech</td>\n",
       "      <td>2.0</td>\n",
       "      <td>In deep learning, each level learns to transfo...</td>\n",
       "      <td>What can a raw input may be?</td>\n",
       "      <td>a matrix of pixels</td>\n",
       "      <td>What does the second layer?</td>\n",
       "      <td>compose and encode arrangements</td>\n",
       "      <td>What network is it about?</td>\n",
       "      <td>None</td>\n",
       "    </tr>\n",
       "  </tbody>\n",
       "</table>\n",
       "</div>"
      ],
      "text/plain": [
       "    id topic  difficulty (1-3)  \\\n",
       "2  3.0  tech               2.0   \n",
       "\n",
       "                                                text  \\\n",
       "2  In deep learning, each level learns to transfo...   \n",
       "\n",
       "                     question 1            answer 1  \\\n",
       "2  What can a raw input may be?  a matrix of pixels   \n",
       "\n",
       "                    question 2                         answer 2  \\\n",
       "2  What does the second layer?  compose and encode arrangements   \n",
       "\n",
       "                  question 3 answer 3  \n",
       "2  What network is it about?     None  "
      ]
     },
     "execution_count": 853,
     "metadata": {},
     "output_type": "execute_result"
    }
   ],
   "source": []
  },
  {
   "cell_type": "code",
   "execution_count": 948,
   "id": "19e7c8c3-bed4-4614-abe2-dcc248fa208d",
   "metadata": {},
   "outputs": [
    {
     "data": {
      "text/html": [
       "<div>\n",
       "<style scoped>\n",
       "    .dataframe tbody tr th:only-of-type {\n",
       "        vertical-align: middle;\n",
       "    }\n",
       "\n",
       "    .dataframe tbody tr th {\n",
       "        vertical-align: top;\n",
       "    }\n",
       "\n",
       "    .dataframe thead th {\n",
       "        text-align: right;\n",
       "    }\n",
       "</style>\n",
       "<table border=\"1\" class=\"dataframe\">\n",
       "  <thead>\n",
       "    <tr style=\"text-align: right;\">\n",
       "      <th></th>\n",
       "      <th>is_trick</th>\n",
       "      <th>model</th>\n",
       "      <th>value</th>\n",
       "    </tr>\n",
       "  </thead>\n",
       "  <tbody>\n",
       "    <tr>\n",
       "      <th>0</th>\n",
       "      <td>False</td>\n",
       "      <td>Albert</td>\n",
       "      <td>0.682369</td>\n",
       "    </tr>\n",
       "    <tr>\n",
       "      <th>1</th>\n",
       "      <td>False</td>\n",
       "      <td>Albert</td>\n",
       "      <td>0.447665</td>\n",
       "    </tr>\n",
       "  </tbody>\n",
       "</table>\n",
       "</div>"
      ],
      "text/plain": [
       "   is_trick   model     value\n",
       "0     False  Albert  0.682369\n",
       "1     False  Albert  0.447665"
      ]
     },
     "execution_count": 948,
     "metadata": {},
     "output_type": "execute_result"
    }
   ],
   "source": [
    "# Trick Question 1\n",
    "select = tmp[['Albert', 'Roberta', 'Distilbert', 'is_trick']]\n",
    "select = select.melt(id_vars='is_trick', var_name='model')\n",
    "select.head(2)"
   ]
  },
  {
   "cell_type": "code",
   "execution_count": 979,
   "id": "62788677-6a46-4bc3-9dbf-df44f6cfa7b7",
   "metadata": {},
   "outputs": [
    {
     "data": {
      "text/plain": [
       "Text(0, 0.5, 'Answer Probabilties')"
      ]
     },
     "execution_count": 979,
     "metadata": {},
     "output_type": "execute_result"
    },
    {
     "data": {
      "image/png": "[encoded data removed]",
      "text/plain": [
       "<Figure size 432x288 with 1 Axes>"
      ]
     },
     "metadata": {},
     "output_type": "display_data"
    }
   ],
   "source": [
    "cmap = sns.color_palette('Greys', 10)\n",
    "c1, c2 = cmap[1], cmap[6]\n",
    "\n",
    "p = sns.violinplot(data=select, x='model', y='value', hue='is_trick', \n",
    "               split=True, inner='stick', width=.5, palette=[c1, c2])\n",
    "p.set_xlabel('')\n",
    "p.set_ylabel('Answer Probabilties')"
   ]
  },
  {
   "cell_type": "code",
   "execution_count": 953,
   "id": "0d085954-0323-4e99-a3f2-a756db5c71b0",
   "metadata": {},
   "outputs": [
    {
     "data": {
      "text/html": [
       "<div>\n",
       "<style scoped>\n",
       "    .dataframe tbody tr th:only-of-type {\n",
       "        vertical-align: middle;\n",
       "    }\n",
       "\n",
       "    .dataframe tbody tr th {\n",
       "        vertical-align: top;\n",
       "    }\n",
       "\n",
       "    .dataframe thead th {\n",
       "        text-align: right;\n",
       "    }\n",
       "</style>\n",
       "<table border=\"1\" class=\"dataframe\">\n",
       "  <thead>\n",
       "    <tr style=\"text-align: right;\">\n",
       "      <th></th>\n",
       "      <th>is_trick</th>\n",
       "      <th>model</th>\n",
       "      <th>value</th>\n",
       "    </tr>\n",
       "  </thead>\n",
       "  <tbody>\n",
       "    <tr>\n",
       "      <th>8</th>\n",
       "      <td>True</td>\n",
       "      <td>Albert</td>\n",
       "      <td>0.011551</td>\n",
       "    </tr>\n",
       "    <tr>\n",
       "      <th>42</th>\n",
       "      <td>True</td>\n",
       "      <td>Albert</td>\n",
       "      <td>0.716140</td>\n",
       "    </tr>\n",
       "    <tr>\n",
       "      <th>43</th>\n",
       "      <td>True</td>\n",
       "      <td>Albert</td>\n",
       "      <td>0.289408</td>\n",
       "    </tr>\n",
       "    <tr>\n",
       "      <th>53</th>\n",
       "      <td>True</td>\n",
       "      <td>Roberta</td>\n",
       "      <td>0.058431</td>\n",
       "    </tr>\n",
       "    <tr>\n",
       "      <th>87</th>\n",
       "      <td>True</td>\n",
       "      <td>Roberta</td>\n",
       "      <td>0.956289</td>\n",
       "    </tr>\n",
       "    <tr>\n",
       "      <th>88</th>\n",
       "      <td>True</td>\n",
       "      <td>Roberta</td>\n",
       "      <td>0.307396</td>\n",
       "    </tr>\n",
       "    <tr>\n",
       "      <th>98</th>\n",
       "      <td>True</td>\n",
       "      <td>Distilbert</td>\n",
       "      <td>0.180430</td>\n",
       "    </tr>\n",
       "    <tr>\n",
       "      <th>132</th>\n",
       "      <td>True</td>\n",
       "      <td>Distilbert</td>\n",
       "      <td>0.851745</td>\n",
       "    </tr>\n",
       "    <tr>\n",
       "      <th>133</th>\n",
       "      <td>True</td>\n",
       "      <td>Distilbert</td>\n",
       "      <td>0.288585</td>\n",
       "    </tr>\n",
       "  </tbody>\n",
       "</table>\n",
       "</div>"
      ],
      "text/plain": [
       "     is_trick       model     value\n",
       "8        True      Albert  0.011551\n",
       "42       True      Albert  0.716140\n",
       "43       True      Albert  0.289408\n",
       "53       True     Roberta  0.058431\n",
       "87       True     Roberta  0.956289\n",
       "88       True     Roberta  0.307396\n",
       "98       True  Distilbert  0.180430\n",
       "132      True  Distilbert  0.851745\n",
       "133      True  Distilbert  0.288585"
      ]
     },
     "execution_count": 953,
     "metadata": {},
     "output_type": "execute_result"
    }
   ],
   "source": [
    "select[select['is_trick']]"
   ]
  },
  {
   "cell_type": "code",
   "execution_count": 456,
   "id": "8830d360-c20c-4e76-b27a-d50c43d075e9",
   "metadata": {},
   "outputs": [],
   "source": [
    "evaluator_roberta = QAEvaluate(model=roberta, tokenizer=roberta_tokenizer, return_answer_only=False)\n",
    "evaluator_distilbet = QAEvaluate(model=distilbert, tokenizer=distilbert_tokenizer, return_answer_only=False)\n",
    "evaluator_albert = QAEvaluate(model=albert, tokenizer=albert_tokenizer, return_answer_only=False)"
   ]
  },
  {
   "cell_type": "code",
   "execution_count": 454,
   "id": "35860fcb-d6ba-4ee2-a986-9a64734e2dbf",
   "metadata": {},
   "outputs": [
    {
     "data": {
      "text/plain": [
       "'What can a raw input may be?'"
      ]
     },
     "execution_count": 454,
     "metadata": {},
     "output_type": "execute_result"
    }
   ],
   "source": [
    "questions[0]"
   ]
  },
  {
   "cell_type": "code",
   "execution_count": 457,
   "id": "36448b04-b06d-4255-912d-9853073e78f0",
   "metadata": {},
   "outputs": [
    {
     "data": {
      "text/plain": [
       "{'question': 'What network is it about?',\n",
       " 'answer': {'score': 0.058430835604667664,\n",
       "  'start': 3,\n",
       "  'end': 16,\n",
       "  'answer': 'deep learning'}}"
      ]
     },
     "execution_count": 457,
     "metadata": {},
     "output_type": "execute_result"
    }
   ],
   "source": [
    "evaluator_roberta.answer_question(questions[2], texts)"
   ]
  },
  {
   "cell_type": "code",
   "execution_count": 458,
   "id": "b6c211c4-e6b9-4662-8e9a-6aceb2d7336e",
   "metadata": {},
   "outputs": [
    {
     "data": {
      "text/plain": [
       "{'question': 'What network is it about?',\n",
       " 'answer': {'score': 0.011551029980182648,\n",
       "  'start': 3,\n",
       "  'end': 17,\n",
       "  'answer': 'deep learning,'}}"
      ]
     },
     "execution_count": 458,
     "metadata": {},
     "output_type": "execute_result"
    }
   ],
   "source": [
    "evaluator_albert.answer_question(questions[2], texts)"
   ]
  },
  {
   "cell_type": "code",
   "execution_count": 459,
   "id": "60aedb44-3714-457e-9831-f5a960067611",
   "metadata": {},
   "outputs": [
    {
     "data": {
      "text/plain": [
       "{'question': 'What network is it about?',\n",
       " 'answer': {'score': 0.18043021857738495,\n",
       "  'start': 130,\n",
       "  'end': 159,\n",
       "  'answer': 'image recognition application'}}"
      ]
     },
     "execution_count": 459,
     "metadata": {},
     "output_type": "execute_result"
    }
   ],
   "source": [
    "evaluator_distilbet.answer_question(questions[2], texts)"
   ]
  },
  {
   "cell_type": "code",
   "execution_count": null,
   "id": "d891c79c-d700-4749-99f9-0fd0bd99bf1d",
   "metadata": {},
   "outputs": [],
   "source": []
  }
 ],
 "metadata": {
  "kernelspec": {
   "display_name": "Python 3 (ipykernel)",
   "language": "python",
   "name": "python3"
  },
  "language_info": {
   "codemirror_mode": {
    "name": "ipython",
    "version": 3
   },
   "file_extension": ".py",
   "mimetype": "text/x-python",
   "name": "python",
   "nbconvert_exporter": "python",
   "pygments_lexer": "ipython3",
   "version": "3.9.7"
  }
 },
 "nbformat": 4,
 "nbformat_minor": 5
}
