{
 "cells": [
  {
   "cell_type": "markdown",
   "id": "91eda735-6c9a-473d-af6a-e7fb02a684e3",
   "metadata": {},
   "source": [
    "# Evaluation"
   ]
  },
  {
   "cell_type": "code",
   "execution_count": 245,
   "id": "536a8485-cc58-4264-8a74-574724df0493",
   "metadata": {},
   "outputs": [],
   "source": [
    "import pandas as pd\n",
    "import numpy as np\n",
    "import matplotlib.pyplot as plt\n",
    "import seaborn as sns\n",
    "from tqdm.notebook import tqdm\n",
    "\n",
    "from nltk.metrics import f_measure, precision, accuracy\n",
    "import nltk\n",
    "#nltk.download('punkt')\n",
    "\n",
    "import torch\n",
    "from transformers import AutoTokenizer, AutoModelForQuestionAnswering\n",
    "from transformers import QuestionAnsweringPipeline\n",
    "\n",
    "sns.set_palette(palette='Paired')\n",
    "sns.set_style('whitegrid')"
   ]
  },
  {
   "cell_type": "code",
   "execution_count": 246,
   "id": "64ce2cf0-6d35-4d50-8bcd-faa482f4b7e0",
   "metadata": {},
   "outputs": [],
   "source": [
    "# Albert\n",
    "albert_tokenizer = AutoTokenizer.from_pretrained(\"Firat/albert-base-v2-finetuned-squad\")\n",
    "albert = AutoModelForQuestionAnswering.from_pretrained(\"Firat/albert-base-v2-finetuned-squad\")"
   ]
  },
  {
   "cell_type": "code",
   "execution_count": 247,
   "id": "73b1f1b9-dd34-456a-b378-942e7fb7c833",
   "metadata": {},
   "outputs": [],
   "source": [
    "# Roberta\n",
    "roberta_tokenizer = AutoTokenizer.from_pretrained(\"Firat/roberta-base-finetuned-squad\")\n",
    "roberta = AutoModelForQuestionAnswering.from_pretrained(\"Firat/roberta-base-finetuned-squad\")"
   ]
  },
  {
   "cell_type": "code",
   "execution_count": 423,
   "id": "4d6330ac-8aa5-496e-ac7f-80efc8efc052",
   "metadata": {},
   "outputs": [],
   "source": [
    "# Distilbert\n",
    "distilbert_tokenizer = AutoTokenizer.from_pretrained(\"Firat/distilbert-base-uncased-finetuned-squad\")\n",
    "distilbert = AutoModelForQuestionAnswering.from_pretrained(\"Firat/distilbert-base-uncased-finetuned-squad\")"
   ]
  },
  {
   "cell_type": "code",
   "execution_count": 249,
   "id": "077bca82-f30c-4c12-a565-9b3ff30798ce",
   "metadata": {},
   "outputs": [
    {
     "data": {
      "text/html": [
       "<div>\n",
       "<style scoped>\n",
       "    .dataframe tbody tr th:only-of-type {\n",
       "        vertical-align: middle;\n",
       "    }\n",
       "\n",
       "    .dataframe tbody tr th {\n",
       "        vertical-align: top;\n",
       "    }\n",
       "\n",
       "    .dataframe thead th {\n",
       "        text-align: right;\n",
       "    }\n",
       "</style>\n",
       "<table border=\"1\" class=\"dataframe\">\n",
       "  <thead>\n",
       "    <tr style=\"text-align: right;\">\n",
       "      <th></th>\n",
       "      <th>id</th>\n",
       "      <th>topic</th>\n",
       "      <th>difficulty (1-3)</th>\n",
       "      <th>text</th>\n",
       "      <th>question 1</th>\n",
       "      <th>answer 1</th>\n",
       "      <th>question 2</th>\n",
       "      <th>answer 2</th>\n",
       "      <th>question 3</th>\n",
       "      <th>answer 3</th>\n",
       "    </tr>\n",
       "  </thead>\n",
       "  <tbody>\n",
       "    <tr>\n",
       "      <th>0</th>\n",
       "      <td>1.0</td>\n",
       "      <td>history</td>\n",
       "      <td>1.0</td>\n",
       "      <td>World War II or the Second World War, often ab...</td>\n",
       "      <td>When took the second World War place?</td>\n",
       "      <td>1939 to 1945</td>\n",
       "      <td>How many personnel was involved?</td>\n",
       "      <td>more than 100 million</td>\n",
       "      <td>Who were the majority of fatalities?</td>\n",
       "      <td>civilians</td>\n",
       "    </tr>\n",
       "    <tr>\n",
       "      <th>1</th>\n",
       "      <td>2.0</td>\n",
       "      <td>health</td>\n",
       "      <td>3.0</td>\n",
       "      <td>Occupational therapy (OT) is a profession with...</td>\n",
       "      <td>Occupational therapy is profession within whic...</td>\n",
       "      <td>healthcare</td>\n",
       "      <td>By who is it performed?</td>\n",
       "      <td>occupational therapists and occupational thera...</td>\n",
       "      <td>What are common occupational therapy inerventi...</td>\n",
       "      <td>helping children with disabilities, injury reh...</td>\n",
       "    </tr>\n",
       "  </tbody>\n",
       "</table>\n",
       "</div>"
      ],
      "text/plain": [
       "    id    topic  difficulty (1-3)  \\\n",
       "0  1.0  history               1.0   \n",
       "1  2.0   health               3.0   \n",
       "\n",
       "                                                text  \\\n",
       "0  World War II or the Second World War, often ab...   \n",
       "1  Occupational therapy (OT) is a profession with...   \n",
       "\n",
       "                                          question 1      answer 1  \\\n",
       "0              When took the second World War place?  1939 to 1945   \n",
       "1  Occupational therapy is profession within whic...    healthcare   \n",
       "\n",
       "                         question 2  \\\n",
       "0  How many personnel was involved?   \n",
       "1           By who is it performed?   \n",
       "\n",
       "                                            answer 2  \\\n",
       "0                              more than 100 million   \n",
       "1  occupational therapists and occupational thera...   \n",
       "\n",
       "                                          question 3  \\\n",
       "0               Who were the majority of fatalities?   \n",
       "1  What are common occupational therapy inerventi...   \n",
       "\n",
       "                                            answer 3  \n",
       "0                                          civilians  \n",
       "1  helping children with disabilities, injury reh...  "
      ]
     },
     "execution_count": 249,
     "metadata": {},
     "output_type": "execute_result"
    }
   ],
   "source": [
    "# Load Questions\n",
    "data = pd.read_excel('question_collection.xlsx')\n",
    "data.columns = [col.lower() for col in data.columns]\n",
    "data.head(2)"
   ]
  },
  {
   "cell_type": "code",
   "execution_count": 250,
   "id": "11060c9e-94df-417d-a4fc-71f12a4177bd",
   "metadata": {},
   "outputs": [
    {
     "data": {
      "image/png": "[encoded data removed]",
      "text/plain": [
       "<Figure size 432x288 with 1 Axes>"
      ]
     },
     "metadata": {},
     "output_type": "display_data"
    }
   ],
   "source": [
    "p = sns.countplot(x=data['topic'])\n",
    "p.set_xticklabels(labels=p.get_xticklabels() , rotation=45)\n",
    "p.set_xlabel('')\n",
    "p.set_title('Topics')\n",
    "plt.show()"
   ]
  },
  {
   "cell_type": "code",
   "execution_count": 251,
   "id": "1c960242-04b0-46a6-94dc-af6ad2cd3a7c",
   "metadata": {},
   "outputs": [
    {
     "data": {
      "image/png": "[encoded data removed]",
      "text/plain": [
       "<Figure size 432x288 with 1 Axes>"
      ]
     },
     "metadata": {},
     "output_type": "display_data"
    }
   ],
   "source": [
    "p = sns.countplot(x=data['difficulty (1-3)'])\n",
    "p.set_xticklabels(labels=p.get_xticklabels() , rotation=45)\n",
    "p.set_title('Level of Difficulty')\n",
    "plt.show()"
   ]
  },
  {
   "cell_type": "code",
   "execution_count": 252,
   "id": "9b019356-be73-41df-878b-39886bd2a42f",
   "metadata": {},
   "outputs": [
    {
     "name": "stdout",
     "output_type": "stream",
     "text": [
      "World War II or the Second World War, often abbreviated as WWII or WW2, was a global war that lasted from 1939 to 1945. It involved the vast majority of the world's countries—including all of the great powers—forming two opposing military alliances: the Allies and the Axis powers. In a total war directly involving more than 100 million personnel from more than 30 countries, the major participants threw their entire economic, industrial, and scientific capabilities behind the war effort, blurring the distinction between civilian and military resources. Aircraft played a major role in the conflict, enabling the strategic bombing of population centres and the only two uses of nuclear weapons in war. World War II was by far the deadliest conflict in human history; it resulted in 70 to 85 million fatalities, a majority being civilians. Tens of millions of people died due to genocides (including the Holocaust), starvation, massacres, and disease. In the wake of the Axis defeat, Germany and Japan were occupied, and war crimes tribunals were conducted against German and Japanese leaders.\n",
      "========================================\n",
      "When took the second World War place?\n",
      "========================================\n",
      "How many personnel was involved?\n",
      "========================================\n",
      "Who were the majority of fatalities?\n"
     ]
    }
   ],
   "source": [
    "text = data.loc[0, 'text']\n",
    "q1 = data.loc[0, 'question 1']\n",
    "q2 = data.loc[0, 'question 2']\n",
    "q3 = data.loc[0, 'question 3']\n",
    "print(text)\n",
    "print(40*'=')\n",
    "print(q1)\n",
    "print(40*'=')\n",
    "print(q2)\n",
    "print(40*'=')\n",
    "print(q3)"
   ]
  },
  {
   "cell_type": "code",
   "execution_count": 253,
   "id": "72bba40d-2e60-44a7-8a17-4cbf38c79e82",
   "metadata": {},
   "outputs": [
    {
     "name": "stdout",
     "output_type": "stream",
     "text": [
      "(10,)\n",
      "7\n"
     ]
    }
   ],
   "source": [
    "foo = np.array(roberta_tokenizer(q1, padding='max_length')['input_ids'])\n",
    "print(foo[foo != 1].shape)\n",
    "print(len(q1.split(' ')))"
   ]
  },
  {
   "cell_type": "markdown",
   "id": "078b11b7-a1c5-4c7d-8090-c1479edefa0f",
   "metadata": {},
   "source": [
    "Jedes Wort bildet ein Token mit Start und End-Token. Es werden auch Satzzeichen tokenisiert."
   ]
  },
  {
   "cell_type": "code",
   "execution_count": 254,
   "id": "8bec6367-fc8c-41ba-9d5c-ed818cf05ba3",
   "metadata": {},
   "outputs": [
    {
     "name": "stdout",
     "output_type": "stream",
     "text": [
      "{'input_ids': [0, 10988, 1771, 3082, 50, 5, 4665, 623, 1771, 6, 747, 40993, 1070, 25, 29001, 50, 15584, 176, 6, 21, 10, 720, 997, 14, 9200, 31, 28234, 7, 21123, 4, 85, 963, 5, 4714, 1647, 9, 5, 232, 18, 749, 578, 8529, 70, 9, 5, 372, 4361, 578, 11847, 80, 9375, 831, 22484, 35, 5, 37761, 8, 5, 34073, 4361, 4, 96, 10, 746, 997, 2024, 3329, 55, 87, 727, 153, 3775, 31, 55, 87, 389, 749, 6, 5, 538, 3597, 4021, 49, 1445, 776, 6, 2683, 6, 8, 6441, 5587, 639, 5, 997, 1351, 6, 3089, 16715, 5, 16192, 227, 8233, 8, 831, 1915, 4, 25221, 702, 10, 538, 774, 11, 5, 3050, 6, 10298, 5, 3461, 10183, 9, 1956, 7872, 8, 5, 129, 80, 2939, 9, 1748, 2398, 11, 997, 4, 623, 1771, 3082, 21, 30, 444, 5, 16751, 3050, 11, 1050, 750, 131, 24, 4596, 11, 1510, 7, 5663, 153, 16982, 6, 10, 1647, 145, 6321, 4, 29031, 9, 2535, 9, 82, 962, 528, 7, 12358, 1975, 4376, 36, 8529, 5, 13903, 238, 31536, 6, 39246, 6, 8, 2199, 4, 96, 5, 3874, 9, 5, 34073, 3002, 6, 1600, 8, 1429, 58, 9533, 6, 8, 997, 3474, 28406, 879, 1536, 58, 2964, 136, 1859, 8, 2898, 917, 4, 2, 1, 1, 1, 1, 1, 1, 1, 1, 1, 1, 1, 1, 1, 1, 1, 1, 1, 1, 1, 1, 1, 1, 1, 1, 1, 1, 1, 1, 1, 1, 1, 1, 1, 1, 1, 1, 1, 1, 1, 1, 1, 1, 1, 1, 1, 1, 1, 1, 1, 1, 1, 1, 1, 1, 1, 1, 1, 1, 1, 1, 1, 1, 1, 1, 1, 1, 1, 1, 1, 1, 1, 1, 1, 1, 1, 1, 1, 1, 1, 1, 1, 1, 1, 1, 1, 1, 1, 1, 1, 1, 1, 1, 1, 1, 1, 1, 1, 1, 1, 1, 1, 1, 1, 1, 1, 1, 1, 1, 1, 1, 1, 1, 1, 1, 1, 1, 1, 1, 1, 1, 1, 1, 1, 1, 1, 1, 1, 1, 1, 1, 1, 1, 1, 1, 1, 1, 1, 1, 1, 1, 1, 1, 1, 1, 1, 1, 1, 1, 1, 1, 1, 1, 1, 1, 1, 1, 1, 1, 1, 1, 1, 1, 1, 1, 1, 1, 1, 1, 1, 1, 1, 1, 1, 1, 1, 1, 1, 1, 1, 1, 1, 1, 1, 1, 1, 1, 1, 1, 1, 1, 1, 1, 1, 1, 1, 1, 1, 1, 1, 1, 1, 1, 1, 1, 1, 1, 1, 1, 1, 1, 1, 1, 1, 1, 1, 1, 1, 1, 1, 1, 1, 1, 1, 1, 1, 1, 1, 1, 1, 1, 1, 1, 1, 1, 1, 1, 1, 1, 1, 1, 1, 1, 1, 1, 1, 1, 1, 1, 1, 1, 1, 1, 1, 1, 1, 1, 1, 1, 1, 1, 1, 1, 1, 1, 1, 1, 1, 1, 1, 1, 1, 1, 1, 1, 1, 1, 1, 1, 1, 1, 1, 1, 1, 1, 1, 1, 1, 1, 1, 1, 1, 1, 1, 1, 1, 1, 1, 1, 1, 1], 'attention_mask': [1, 1, 1, 1, 1, 1, 1, 1, 1, 1, 1, 1, 1, 1, 1, 1, 1, 1, 1, 1, 1, 1, 1, 1, 1, 1, 1, 1, 1, 1, 1, 1, 1, 1, 1, 1, 1, 1, 1, 1, 1, 1, 1, 1, 1, 1, 1, 1, 1, 1, 1, 1, 1, 1, 1, 1, 1, 1, 1, 1, 1, 1, 1, 1, 1, 1, 1, 1, 1, 1, 1, 1, 1, 1, 1, 1, 1, 1, 1, 1, 1, 1, 1, 1, 1, 1, 1, 1, 1, 1, 1, 1, 1, 1, 1, 1, 1, 1, 1, 1, 1, 1, 1, 1, 1, 1, 1, 1, 1, 1, 1, 1, 1, 1, 1, 1, 1, 1, 1, 1, 1, 1, 1, 1, 1, 1, 1, 1, 1, 1, 1, 1, 1, 1, 1, 1, 1, 1, 1, 1, 1, 1, 1, 1, 1, 1, 1, 1, 1, 1, 1, 1, 1, 1, 1, 1, 1, 1, 1, 1, 1, 1, 1, 1, 1, 1, 1, 1, 1, 1, 1, 1, 1, 1, 1, 1, 1, 1, 1, 1, 1, 1, 1, 1, 1, 1, 1, 1, 1, 1, 1, 1, 1, 1, 1, 1, 1, 1, 1, 1, 1, 1, 1, 1, 1, 1, 1, 1, 1, 1, 1, 1, 0, 0, 0, 0, 0, 0, 0, 0, 0, 0, 0, 0, 0, 0, 0, 0, 0, 0, 0, 0, 0, 0, 0, 0, 0, 0, 0, 0, 0, 0, 0, 0, 0, 0, 0, 0, 0, 0, 0, 0, 0, 0, 0, 0, 0, 0, 0, 0, 0, 0, 0, 0, 0, 0, 0, 0, 0, 0, 0, 0, 0, 0, 0, 0, 0, 0, 0, 0, 0, 0, 0, 0, 0, 0, 0, 0, 0, 0, 0, 0, 0, 0, 0, 0, 0, 0, 0, 0, 0, 0, 0, 0, 0, 0, 0, 0, 0, 0, 0, 0, 0, 0, 0, 0, 0, 0, 0, 0, 0, 0, 0, 0, 0, 0, 0, 0, 0, 0, 0, 0, 0, 0, 0, 0, 0, 0, 0, 0, 0, 0, 0, 0, 0, 0, 0, 0, 0, 0, 0, 0, 0, 0, 0, 0, 0, 0, 0, 0, 0, 0, 0, 0, 0, 0, 0, 0, 0, 0, 0, 0, 0, 0, 0, 0, 0, 0, 0, 0, 0, 0, 0, 0, 0, 0, 0, 0, 0, 0, 0, 0, 0, 0, 0, 0, 0, 0, 0, 0, 0, 0, 0, 0, 0, 0, 0, 0, 0, 0, 0, 0, 0, 0, 0, 0, 0, 0, 0, 0, 0, 0, 0, 0, 0, 0, 0, 0, 0, 0, 0, 0, 0, 0, 0, 0, 0, 0, 0, 0, 0, 0, 0, 0, 0, 0, 0, 0, 0, 0, 0, 0, 0, 0, 0, 0, 0, 0, 0, 0, 0, 0, 0, 0, 0, 0, 0, 0, 0, 0, 0, 0, 0, 0, 0, 0, 0, 0, 0, 0, 0, 0, 0, 0, 0, 0, 0, 0, 0, 0, 0, 0, 0, 0, 0, 0, 0, 0, 0, 0, 0, 0, 0, 0, 0, 0, 0, 0, 0, 0, 0, 0]}\n"
     ]
    }
   ],
   "source": [
    "inputs = roberta_tokenizer(text, padding=\"max_length\", truncation=True)\n",
    "print(inputs)"
   ]
  },
  {
   "cell_type": "markdown",
   "id": "4ccfb0ed-9e98-4c97-9fae-afa88772e7dc",
   "metadata": {},
   "source": [
    "Das Dictionary besteht aus den encodeten ID's und aus den Attention Mask. Die Attention Mask bezieht sich eigentlich nur auf den Wortteil, welcher nicht gepadded wurde. Das Padding wurde beim Tokenizer  mit dem Token 1 implementiert.."
   ]
  },
  {
   "cell_type": "code",
   "execution_count": 255,
   "id": "c98fd703-0260-4f28-83d9-76949093e6da",
   "metadata": {},
   "outputs": [
    {
     "name": "stdout",
     "output_type": "stream",
     "text": [
      "[(0, '<s>'), (1, '<pad>'), (2, '</s>'), (3, '<unk>')]\n"
     ]
    }
   ],
   "source": [
    "print([(i, roberta_tokenizer.convert_ids_to_tokens(i)) for i in range(4)])"
   ]
  },
  {
   "cell_type": "markdown",
   "id": "37f52ca1-7cee-4460-953f-ac8140f2460f",
   "metadata": {},
   "source": [
    "Die oberen Token stellen besondere Token dar wie start_token als 1, pad_token als 1, 2 als end_token und einen unbekannten Token mit der ID 3."
   ]
  },
  {
   "cell_type": "code",
   "execution_count": 256,
   "id": "43e6831d-72fb-4c28-bef4-b5d1808f86a7",
   "metadata": {},
   "outputs": [
    {
     "data": {
      "text/plain": [
       "array([1, 1, 1, 1, 1, 1, 1, 1, 1, 1, 1, 1, 1, 1, 1, 1, 1, 1, 1, 1, 1, 1,\n",
       "       1, 1, 1, 1, 1, 1, 1, 1, 1, 1, 1, 1, 1, 1, 1, 1, 1, 1, 1, 1, 1, 1,\n",
       "       1, 1, 1, 1, 1, 1, 1, 1, 1, 1, 1, 1, 1, 1, 1, 1, 1, 1, 1, 1, 1, 1,\n",
       "       1, 1, 1, 1, 1, 1, 1, 1, 1, 1, 1, 1, 1, 1, 1, 1, 1, 1, 1, 1, 1, 1,\n",
       "       1, 1, 1, 1, 1, 1, 1, 1, 1, 1, 1, 1, 1, 1, 1, 1, 1, 1, 1, 1, 1, 1,\n",
       "       1, 1, 1, 1, 1, 1, 1, 1, 1, 1, 1, 1, 1, 1, 1, 1, 1, 1, 1, 1, 1, 1,\n",
       "       1, 1, 1, 1, 1, 1, 1, 1, 1, 1, 1, 1, 1, 1, 1, 1, 1, 1, 1, 1, 1, 1,\n",
       "       1, 1, 1, 1, 1, 1, 1, 1, 1, 1, 1, 1, 1, 1, 1, 1, 1, 1, 1, 1, 1, 1,\n",
       "       1, 1, 1, 1, 1, 1, 1, 1, 1, 1, 1, 1, 1, 1, 1, 1, 1, 1, 1, 1, 1, 1,\n",
       "       1, 1, 1, 1, 1, 1, 1, 1, 1, 1, 1, 1, 1, 1, 0, 0, 0, 0, 0, 0, 0, 0,\n",
       "       0, 0, 0, 0, 0, 0, 0, 0, 0, 0, 0, 0, 0, 0, 0, 0, 0, 0, 0, 0, 0, 0,\n",
       "       0, 0, 0, 0, 0, 0, 0, 0, 0, 0, 0, 0, 0, 0, 0, 0, 0, 0, 0, 0, 0, 0,\n",
       "       0, 0, 0, 0, 0, 0, 0, 0, 0, 0, 0, 0, 0, 0, 0, 0, 0, 0, 0, 0, 0, 0,\n",
       "       0, 0, 0, 0, 0, 0, 0, 0, 0, 0, 0, 0, 0, 0, 0, 0, 0, 0, 0, 0, 0, 0,\n",
       "       0, 0, 0, 0, 0, 0, 0, 0, 0, 0, 0, 0, 0, 0, 0, 0, 0, 0, 0, 0, 0, 0,\n",
       "       0, 0, 0, 0, 0, 0, 0, 0, 0, 0, 0, 0, 0, 0, 0, 0, 0, 0, 0, 0, 0, 0,\n",
       "       0, 0, 0, 0, 0, 0, 0, 0, 0, 0, 0, 0, 0, 0, 0, 0, 0, 0, 0, 0, 0, 0,\n",
       "       0, 0, 0, 0, 0, 0, 0, 0, 0, 0, 0, 0, 0, 0, 0, 0, 0, 0, 0, 0, 0, 0,\n",
       "       0, 0, 0, 0, 0, 0, 0, 0, 0, 0, 0, 0, 0, 0, 0, 0, 0, 0, 0, 0, 0, 0,\n",
       "       0, 0, 0, 0, 0, 0, 0, 0, 0, 0, 0, 0, 0, 0, 0, 0, 0, 0, 0, 0, 0, 0,\n",
       "       0, 0, 0, 0, 0, 0, 0, 0, 0, 0, 0, 0, 0, 0, 0, 0, 0, 0, 0, 0, 0, 0,\n",
       "       0, 0, 0, 0, 0, 0, 0, 0, 0, 0, 0, 0, 0, 0, 0, 0, 0, 0, 0, 0, 0, 0,\n",
       "       0, 0, 0, 0, 0, 0, 0, 0, 0, 0, 0, 0, 0, 0, 0, 0, 0, 0, 0, 0, 0, 0,\n",
       "       0, 0, 0, 0, 0, 0])"
      ]
     },
     "execution_count": 256,
     "metadata": {},
     "output_type": "execute_result"
    }
   ],
   "source": [
    "att = np.array(inputs['attention_mask'])\n",
    "att"
   ]
  },
  {
   "cell_type": "code",
   "execution_count": 257,
   "id": "d2e91481-f262-4f28-bc9c-58bbc1a57adf",
   "metadata": {},
   "outputs": [],
   "source": [
    "# Extraction of topk: topk=10\n",
    "roberta_pipeline = QuestionAnsweringPipeline(model=roberta, tokenizer=roberta_tokenizer, top_k=2)"
   ]
  },
  {
   "cell_type": "code",
   "execution_count": 258,
   "id": "1f3e7616-a549-4009-9e6f-54b66abd5696",
   "metadata": {},
   "outputs": [
    {
     "name": "stdout",
     "output_type": "stream",
     "text": [
      "On who focuses the series?\n",
      "[{'score': 0.9776242971420288, 'start': 22, 'end': 37, 'answer': 'Monkey D. Luffy'}, {'score': 0.014314273372292519, 'start': 22, 'end': 38, 'answer': 'Monkey D. Luffy,'}]\n",
      "Monkey D. Ruffy\n"
     ]
    }
   ],
   "source": [
    "text_id = 3\n",
    "print(data.loc[text_id, 'question 1'])\n",
    "print(roberta_pipeline(question=data.loc[text_id, 'question 1'], context=data.loc[text_id, 'text']))\n",
    "print(data.loc[text_id, 'answer 1'])"
   ]
  },
  {
   "cell_type": "code",
   "execution_count": 406,
   "id": "f247b4ea-86cb-40b3-81ff-9374876b003f",
   "metadata": {},
   "outputs": [],
   "source": [
    "from nltk.tokenize import word_tokenize\n",
    "\n",
    "class QAEvaluate(object):\n",
    "    \"\"\"\n",
    "\n",
    "    \"\"\"\n",
    "    \n",
    "    \n",
    "    def __init__(self, model, tokenizer, top_k=1, return_answer_only=True, \n",
    "                 metric='F1', evaluate_tokenized=True):\n",
    "        \"\"\"\n",
    "        \n",
    "        \"\"\"\n",
    "        self.model = model\n",
    "        self.tokenizer = tokenizer\n",
    "        self.pipeline = QuestionAnsweringPipeline(model=model, \n",
    "                                                  tokenizer=tokenizer, \n",
    "                                                  top_k=top_k)\n",
    "        self.return_answer_only = return_answer_only\n",
    "        self.metric = metric\n",
    "        self.evaluate_tokenized = evaluate_tokenized\n",
    "        \n",
    "    def answer_all(self, texts: np.ndarray, questions: np.ndarray):\n",
    "        answers = {}\n",
    "        # Answer all Questions\n",
    "        with tqdm(total=len(texts)*len(questions[0]), desc='Answering Questions') as pbar:\n",
    "            for i, text in enumerate(texts):\n",
    "                answers[i] = {}\n",
    "                for j, question in enumerate(questions[i]):\n",
    "                    answer = self.answer_question(question=question, text=text)\n",
    "                    answers[i][j] = answer\n",
    "                    pbar.update(1)\n",
    "        \n",
    "        return answers\n",
    "    \n",
    "    def evaluate(self, texts: np.ndarray, questions: np.ndarray, reference_answers: np.ndarray):\n",
    "        \"\"\"\"\"\"\n",
    "        # Call function to answer all by system\n",
    "        answers = self.answer_all(texts=texts, questions=questions) \n",
    "        \n",
    "        # Evaluate all questions    \n",
    "        # Prepare answers as array\n",
    "        answers = self._convert_to_array(answers)\n",
    "        scores = self._calculate_scores(reference=reference_answers, test=answers)\n",
    "        \n",
    "        return scores\n",
    "    \n",
    "    def answer_question(self, question, text):\n",
    "        \"\"\"\"\"\"\n",
    "        # Return answer from model\n",
    "        answer = self.pipeline(question=question, context=text)\n",
    "        \n",
    "        if self.return_answer_only:\n",
    "            answer = answer['answer']\n",
    "        \n",
    "        return dict(question=question, answer=answer)\n",
    "\n",
    "            \n",
    "    @staticmethod\n",
    "    def _convert_to_array(A):\n",
    "        \"\"\"\"\"\"\n",
    "        answers = []\n",
    "        for i, text in A.items():\n",
    "            question_answers = []\n",
    "            for j, qa in text.items():\n",
    "                question_answers.append(qa['answer'])\n",
    "            answers.append(question_answers)\n",
    "            \n",
    "        return np.array(answers, dtype=str)\n",
    "    \n",
    "    def _calculate_scores(self, reference, test):\n",
    "        \"\"\"\"\"\"\n",
    "        if self.metric == 'F1':\n",
    "            metric_func = f_measure\n",
    "        elif self.metric == 'precision':\n",
    "            metric_func = precision\n",
    "        else:\n",
    "            raise Exception('Metric does not fitted supported Functions within this class: [F1, accuracy, precision]')\n",
    "            \n",
    "        scores = self.__calculate_metric(metric_func=metric_func, reference=reference, \n",
    "                                         test=test, tokenized=self.evaluate_tokenized)\n",
    "        \n",
    "        return scores\n",
    "        \n",
    "    @staticmethod\n",
    "    def __calculate_metric(metric_func, reference, test, tokenized=True):\n",
    "        \"\"\"\"\"\"\n",
    "        assert reference.shape == test.shape \n",
    "        \n",
    "        scores = np.empty(shape=reference.shape)\n",
    "        for i in tqdm(range(reference.shape[0]), desc='Calculating Scores'):\n",
    "            for j in range(reference.shape[1]):\n",
    "                if tokenized:\n",
    "                    # Tokenize Words\n",
    "                    t, ref = set(word_tokenize(str(test[i, j]))), set(word_tokenize(str(reference[i, j])))\n",
    "                else:\n",
    "                    t, ref = set([test[i, j]]), set([reference[i, j]])\n",
    "                # Score\n",
    "                score = metric_func(reference=ref, test=t)\n",
    "                scores[i, j] = score\n",
    "                \n",
    "        return scores"
   ]
  },
  {
   "cell_type": "code",
   "execution_count": 407,
   "id": "3da1764d-3d0d-485d-890d-0484d4d941e1",
   "metadata": {},
   "outputs": [],
   "source": [
    "evaluator = QAEvaluate(model=roberta, tokenizer=roberta_tokenizer)"
   ]
  },
  {
   "cell_type": "code",
   "execution_count": 408,
   "id": "51dc27e4-e81e-4884-a64a-91c62abd7713",
   "metadata": {},
   "outputs": [
    {
     "data": {
      "text/plain": [
       "'When took the second World War place?'"
      ]
     },
     "execution_count": 408,
     "metadata": {},
     "output_type": "execute_result"
    }
   ],
   "source": [
    "data.loc[0, 'question 1']"
   ]
  },
  {
   "cell_type": "code",
   "execution_count": 409,
   "id": "877db1e8-eeef-4c33-bb2f-8ad04ca51875",
   "metadata": {},
   "outputs": [
    {
     "data": {
      "text/plain": [
       "{'question': 'When took the second World War place?', 'answer': '1945'}"
      ]
     },
     "execution_count": 409,
     "metadata": {},
     "output_type": "execute_result"
    }
   ],
   "source": [
    "evaluator.answer_question(question=data.loc[0, 'question 1'], text=data.loc[0, 'text'])"
   ]
  },
  {
   "cell_type": "code",
   "execution_count": 410,
   "id": "a023d2fc-33a1-4429-ba1d-118b9d560bdb",
   "metadata": {},
   "outputs": [],
   "source": [
    "select_n = 3\n",
    "texts = data.loc[:select_n, 'text'].to_list()\n",
    "questions = data.loc[:select_n, ['question 1', 'question 2', 'question 3']].to_numpy()\n",
    "reference_answers = data.loc[:select_n, ['answer 1', 'answer 2', 'answer 3']].to_numpy()"
   ]
  },
  {
   "cell_type": "code",
   "execution_count": 411,
   "id": "98deee4f-c263-41dd-92ed-ec5637385d51",
   "metadata": {},
   "outputs": [
    {
     "data": {
      "application/vnd.jupyter.widget-view+json": {
       "model_id": "c1b97054f1a146d3b1303e2f32589ae0",
       "version_major": 2,
       "version_minor": 0
      },
      "text/plain": [
       "Answering Questions:   0%|          | 0/12 [00:00<?, ?it/s]"
      ]
     },
     "metadata": {},
     "output_type": "display_data"
    },
    {
     "data": {
      "text/plain": [
       "{0: {'question': 'When took the second World War place?', 'answer': '1945'},\n",
       " 1: {'question': 'How many personnel was involved?',\n",
       "  'answer': 'more than 100 million'},\n",
       " 2: {'question': 'Who were the majority of fatalities?',\n",
       "  'answer': 'civilians'}}"
      ]
     },
     "execution_count": 411,
     "metadata": {},
     "output_type": "execute_result"
    }
   ],
   "source": [
    "questions_answers = evaluator.answer_all(texts=texts, questions=questions)\n",
    "questions_answers[0]"
   ]
  },
  {
   "cell_type": "markdown",
   "id": "4437ffae-0ee6-4a32-b695-e3e7c362efab",
   "metadata": {},
   "source": [
    "----"
   ]
  },
  {
   "cell_type": "code",
   "execution_count": 412,
   "id": "0136dcc1-2ffb-4e78-b361-5822ae1c1e5f",
   "metadata": {},
   "outputs": [
    {
     "name": "stdout",
     "output_type": "stream",
     "text": [
      "(15, 3)\n"
     ]
    }
   ],
   "source": [
    "texts = data.loc[:, 'text'].to_list()\n",
    "questions = data.loc[:, ['question 1', 'question 2', 'question 3']].to_numpy()\n",
    "reference_answers = data.loc[:, ['answer 1', 'answer 2', 'answer 3']].to_numpy()\n",
    "print(questions.shape)"
   ]
  },
  {
   "cell_type": "code",
   "execution_count": 422,
   "id": "07da1b25-f312-4237-9a73-8ee803dc0731",
   "metadata": {},
   "outputs": [
    {
     "data": {
      "application/vnd.jupyter.widget-view+json": {
       "model_id": "9e77ad2c283b4d4e90e10861436321ee",
       "version_major": 2,
       "version_minor": 0
      },
      "text/plain": [
       "Answering Questions:   0%|          | 0/45 [00:00<?, ?it/s]"
      ]
     },
     "metadata": {},
     "output_type": "display_data"
    },
    {
     "data": {
      "application/vnd.jupyter.widget-view+json": {
       "model_id": "d5bb472c7fba418cb57c9fa574d018d7",
       "version_major": 2,
       "version_minor": 0
      },
      "text/plain": [
       "Calculating Scores:   0%|          | 0/15 [00:00<?, ?it/s]"
      ]
     },
     "metadata": {},
     "output_type": "display_data"
    }
   ],
   "source": [
    "evaluator = QAEvaluate(model=roberta, tokenizer=roberta_tokenizer, top_k=1, \n",
    "                       return_answer_only=True, metric='F1', evaluate_tokenized=True)\n",
    "roberta_scores = evaluator.evaluate(texts=texts, questions=questions, \n",
    "                            reference_answers=reference_answers)"
   ]
  },
  {
   "cell_type": "code",
   "execution_count": 424,
   "id": "76809c6f-215b-4652-a7b2-aa0f6a1edc04",
   "metadata": {},
   "outputs": [
    {
     "data": {
      "application/vnd.jupyter.widget-view+json": {
       "model_id": "4953b55c36f44986956567848b487f8b",
       "version_major": 2,
       "version_minor": 0
      },
      "text/plain": [
       "Answering Questions:   0%|          | 0/45 [00:00<?, ?it/s]"
      ]
     },
     "metadata": {},
     "output_type": "display_data"
    },
    {
     "data": {
      "application/vnd.jupyter.widget-view+json": {
       "model_id": "809cfd8b2aec4feea81f84aa1ea1165a",
       "version_major": 2,
       "version_minor": 0
      },
      "text/plain": [
       "Calculating Scores:   0%|          | 0/15 [00:00<?, ?it/s]"
      ]
     },
     "metadata": {},
     "output_type": "display_data"
    }
   ],
   "source": [
    "evaluator = QAEvaluate(model=distilbert, tokenizer=distilbert_tokenizer, top_k=1, \n",
    "                       return_answer_only=True, metric='F1', evaluate_tokenized=True)\n",
    "distilbert_scores = evaluator.evaluate(texts=texts, questions=questions, \n",
    "                            reference_answers=reference_answers)"
   ]
  },
  {
   "cell_type": "code",
   "execution_count": 425,
   "id": "eb813979-748e-4661-bd1a-4d25bb12862d",
   "metadata": {},
   "outputs": [
    {
     "data": {
      "application/vnd.jupyter.widget-view+json": {
       "model_id": "97f81e1d33c64003aeda2cd0d66db65c",
       "version_major": 2,
       "version_minor": 0
      },
      "text/plain": [
       "Answering Questions:   0%|          | 0/45 [00:00<?, ?it/s]"
      ]
     },
     "metadata": {},
     "output_type": "display_data"
    },
    {
     "data": {
      "application/vnd.jupyter.widget-view+json": {
       "model_id": "1facdc0e94984306a69e0ea0828da83e",
       "version_major": 2,
       "version_minor": 0
      },
      "text/plain": [
       "Calculating Scores:   0%|          | 0/15 [00:00<?, ?it/s]"
      ]
     },
     "metadata": {},
     "output_type": "display_data"
    }
   ],
   "source": [
    "evaluator = QAEvaluate(model=albert, tokenizer=albert_tokenizer, top_k=1, \n",
    "                       return_answer_only=True, metric='F1', evaluate_tokenized=True)\n",
    "albert_scores = evaluator.evaluate(texts=texts, questions=questions, \n",
    "                            reference_answers=reference_answers)"
   ]
  },
  {
   "cell_type": "code",
   "execution_count": null,
   "id": "2cb8ed6b-7b01-4400-9dd1-3cbf92210f97",
   "metadata": {},
   "outputs": [],
   "source": []
  },
  {
   "cell_type": "code",
   "execution_count": null,
   "id": "61807f9d-8108-475f-9757-30a80f522e07",
   "metadata": {},
   "outputs": [],
   "source": []
  },
  {
   "cell_type": "code",
   "execution_count": null,
   "id": "f48f164f-4bc0-403c-b6dd-a6ac83b10bff",
   "metadata": {},
   "outputs": [],
   "source": []
  },
  {
   "cell_type": "code",
   "execution_count": 429,
   "id": "3f7e60ef-e93c-41e4-9274-d6a14100fce8",
   "metadata": {},
   "outputs": [
    {
     "data": {
      "image/png": "[encoded data removed]",
      "text/plain": [
       "<Figure size 1296x288 with 3 Axes>"
      ]
     },
     "metadata": {},
     "output_type": "display_data"
    }
   ],
   "source": [
    "fig = plt.subplots(figsize=(18, 4))\n",
    "\n",
    "plt.subplot(1,3,1)\n",
    "p = sns.histplot(roberta_scores.flatten())\n",
    "p.set_title('ROBERTA')\n",
    "p.set_xlabel('F1')\n",
    "\n",
    "plt.subplot(1,3,2)\n",
    "sns.histplot(albert_scores.flatten())\n",
    "p.set_title('ALBERT')\n",
    "p.set_xlabel('F1')\n",
    "\n",
    "plt.subplot(1,3,3)\n",
    "sns.histplot(distilbert_scores.flatten())\n",
    "p.set_title('DISTILBERT')\n",
    "p.set_xlabel('F1')\n",
    "\n",
    "plt.show()"
   ]
  },
  {
   "cell_type": "code",
   "execution_count": 419,
   "id": "7a698e94-2683-44b0-bef4-693cb49f77c7",
   "metadata": {},
   "outputs": [
    {
     "data": {
      "text/plain": [
       "0.5944690012588693"
      ]
     },
     "execution_count": 419,
     "metadata": {},
     "output_type": "execute_result"
    }
   ],
   "source": [
    "np.mean(scores)"
   ]
  },
  {
   "cell_type": "code",
   "execution_count": null,
   "id": "e5336309-da9c-438c-b9d4-5e3ab38233c4",
   "metadata": {},
   "outputs": [],
   "source": []
  },
  {
   "cell_type": "code",
   "execution_count": null,
   "id": "97bddf2f-95cf-4d43-a8c9-714e01975c6e",
   "metadata": {},
   "outputs": [],
   "source": []
  },
  {
   "cell_type": "code",
   "execution_count": 450,
   "id": "8a23358d-43f6-42be-9cf8-90244d7f49e3",
   "metadata": {},
   "outputs": [
    {
     "data": {
      "text/html": [
       "<div>\n",
       "<style scoped>\n",
       "    .dataframe tbody tr th:only-of-type {\n",
       "        vertical-align: middle;\n",
       "    }\n",
       "\n",
       "    .dataframe tbody tr th {\n",
       "        vertical-align: top;\n",
       "    }\n",
       "\n",
       "    .dataframe thead th {\n",
       "        text-align: right;\n",
       "    }\n",
       "</style>\n",
       "<table border=\"1\" class=\"dataframe\">\n",
       "  <thead>\n",
       "    <tr style=\"text-align: right;\">\n",
       "      <th></th>\n",
       "      <th>id</th>\n",
       "      <th>topic</th>\n",
       "      <th>difficulty (1-3)</th>\n",
       "      <th>text</th>\n",
       "      <th>question 1</th>\n",
       "      <th>answer 1</th>\n",
       "      <th>question 2</th>\n",
       "      <th>answer 2</th>\n",
       "      <th>question 3</th>\n",
       "      <th>answer 3</th>\n",
       "    </tr>\n",
       "  </thead>\n",
       "  <tbody>\n",
       "    <tr>\n",
       "      <th>0</th>\n",
       "      <td>1.0</td>\n",
       "      <td>history</td>\n",
       "      <td>1.0</td>\n",
       "      <td>World War II or the Second World War, often ab...</td>\n",
       "      <td>When took the second World War place?</td>\n",
       "      <td>1939 to 1945</td>\n",
       "      <td>How many personnel was involved?</td>\n",
       "      <td>more than 100 million</td>\n",
       "      <td>Who were the majority of fatalities?</td>\n",
       "      <td>civilians</td>\n",
       "    </tr>\n",
       "    <tr>\n",
       "      <th>1</th>\n",
       "      <td>2.0</td>\n",
       "      <td>health</td>\n",
       "      <td>3.0</td>\n",
       "      <td>Occupational therapy (OT) is a profession with...</td>\n",
       "      <td>Occupational therapy is profession within whic...</td>\n",
       "      <td>healthcare</td>\n",
       "      <td>By who is it performed?</td>\n",
       "      <td>occupational therapists and occupational thera...</td>\n",
       "      <td>What are common occupational therapy inerventi...</td>\n",
       "      <td>helping children with disabilities, injury reh...</td>\n",
       "    </tr>\n",
       "    <tr>\n",
       "      <th>2</th>\n",
       "      <td>3.0</td>\n",
       "      <td>tech</td>\n",
       "      <td>2.0</td>\n",
       "      <td>In deep learning, each level learns to transfo...</td>\n",
       "      <td>What can a raw input may be?</td>\n",
       "      <td>a matrix of pixels</td>\n",
       "      <td>What does the second layer?</td>\n",
       "      <td>compose and encode arrangements</td>\n",
       "      <td>What network is it about?</td>\n",
       "      <td>None</td>\n",
       "    </tr>\n",
       "    <tr>\n",
       "      <th>3</th>\n",
       "      <td>4.0</td>\n",
       "      <td>offtopic</td>\n",
       "      <td>1.0</td>\n",
       "      <td>The series focuses on Monkey D. Luffy, a young...</td>\n",
       "      <td>On who focuses the series?</td>\n",
       "      <td>Monkey D. Ruffy</td>\n",
       "      <td>What is the name of the pirate crew?</td>\n",
       "      <td>Straw Hat Pirates</td>\n",
       "      <td>How is the mythical treasure called?</td>\n",
       "      <td>One Piece</td>\n",
       "    </tr>\n",
       "    <tr>\n",
       "      <th>4</th>\n",
       "      <td>5.0</td>\n",
       "      <td>news</td>\n",
       "      <td>2.0</td>\n",
       "      <td>He told a news conference Mr Putin would pay a...</td>\n",
       "      <td>What would Putin pay for invading?</td>\n",
       "      <td>serious and dear price</td>\n",
       "      <td>Who warned that the comments could further des...</td>\n",
       "      <td>The Kremlin</td>\n",
       "      <td>How many troops are near of the border?</td>\n",
       "      <td>100.0</td>\n",
       "    </tr>\n",
       "  </tbody>\n",
       "</table>\n",
       "</div>"
      ],
      "text/plain": [
       "    id     topic  difficulty (1-3)  \\\n",
       "0  1.0   history               1.0   \n",
       "1  2.0    health               3.0   \n",
       "2  3.0      tech               2.0   \n",
       "3  4.0  offtopic               1.0   \n",
       "4  5.0      news               2.0   \n",
       "\n",
       "                                                text  \\\n",
       "0  World War II or the Second World War, often ab...   \n",
       "1  Occupational therapy (OT) is a profession with...   \n",
       "2  In deep learning, each level learns to transfo...   \n",
       "3  The series focuses on Monkey D. Luffy, a young...   \n",
       "4  He told a news conference Mr Putin would pay a...   \n",
       "\n",
       "                                          question 1                answer 1  \\\n",
       "0              When took the second World War place?            1939 to 1945   \n",
       "1  Occupational therapy is profession within whic...              healthcare   \n",
       "2                       What can a raw input may be?      a matrix of pixels   \n",
       "3                         On who focuses the series?         Monkey D. Ruffy   \n",
       "4                 What would Putin pay for invading?  serious and dear price   \n",
       "\n",
       "                                          question 2  \\\n",
       "0                   How many personnel was involved?   \n",
       "1                            By who is it performed?   \n",
       "2                        What does the second layer?   \n",
       "3               What is the name of the pirate crew?   \n",
       "4  Who warned that the comments could further des...   \n",
       "\n",
       "                                            answer 2  \\\n",
       "0                              more than 100 million   \n",
       "1  occupational therapists and occupational thera...   \n",
       "2                    compose and encode arrangements   \n",
       "3                                  Straw Hat Pirates   \n",
       "4                                        The Kremlin   \n",
       "\n",
       "                                          question 3  \\\n",
       "0               Who were the majority of fatalities?   \n",
       "1  What are common occupational therapy inerventi...   \n",
       "2                          What network is it about?   \n",
       "3               How is the mythical treasure called?   \n",
       "4            How many troops are near of the border?   \n",
       "\n",
       "                                            answer 3  \n",
       "0                                          civilians  \n",
       "1  helping children with disabilities, injury reh...  \n",
       "2                                               None  \n",
       "3                                          One Piece  \n",
       "4                                              100.0  "
      ]
     },
     "execution_count": 450,
     "metadata": {},
     "output_type": "execute_result"
    }
   ],
   "source": [
    "data.head(5)"
   ]
  },
  {
   "cell_type": "code",
   "execution_count": 451,
   "id": "ba2e95a2-71f0-4e01-83ee-2656209f13a5",
   "metadata": {},
   "outputs": [],
   "source": [
    "texts = data.loc[2, 'text']\n",
    "questions = data.loc[2, ['question 1', 'question 2', 'question 3']].to_numpy()\n",
    "reference_answers = data.loc[2, ['answer 1', 'answer 2', 'answer 3']].to_numpy()"
   ]
  },
  {
   "cell_type": "code",
   "execution_count": 452,
   "id": "0e183d47-ec79-4c5b-b830-c6a7c099a522",
   "metadata": {},
   "outputs": [
    {
     "data": {
      "text/plain": [
       "'In deep learning, each level learns to transform its input data into a slightly more abstract and composite representation. In an image recognition application, the raw input may be a matrix of pixels; the first representational layer may abstract the pixels and encode edges; the second layer may compose and encode arrangements of edges; the third layer may encode a nose and eyes; and the fourth layer may recognize that the image contains a face. Importantly, a deep learning process can learn which features to optimally place in which level on its own. This does not completely eliminate the need for hand-tuning; for example, varying numbers of layers and layer sizes can provide different degrees of abstraction.'"
      ]
     },
     "execution_count": 452,
     "metadata": {},
     "output_type": "execute_result"
    }
   ],
   "source": [
    "texts"
   ]
  },
  {
   "cell_type": "code",
   "execution_count": 456,
   "id": "8830d360-c20c-4e76-b27a-d50c43d075e9",
   "metadata": {},
   "outputs": [],
   "source": [
    "evaluator_roberta = QAEvaluate(model=roberta, tokenizer=roberta_tokenizer, return_answer_only=False)\n",
    "evaluator_distilbet = QAEvaluate(model=distilbert, tokenizer=distilbert_tokenizer, return_answer_only=False)\n",
    "evaluator_albert = QAEvaluate(model=albert, tokenizer=albert_tokenizer, return_answer_only=False)"
   ]
  },
  {
   "cell_type": "code",
   "execution_count": 454,
   "id": "35860fcb-d6ba-4ee2-a986-9a64734e2dbf",
   "metadata": {},
   "outputs": [
    {
     "data": {
      "text/plain": [
       "'What can a raw input may be?'"
      ]
     },
     "execution_count": 454,
     "metadata": {},
     "output_type": "execute_result"
    }
   ],
   "source": [
    "questions[0]"
   ]
  },
  {
   "cell_type": "code",
   "execution_count": 457,
   "id": "36448b04-b06d-4255-912d-9853073e78f0",
   "metadata": {},
   "outputs": [
    {
     "data": {
      "text/plain": [
       "{'question': 'What network is it about?',\n",
       " 'answer': {'score': 0.058430835604667664,\n",
       "  'start': 3,\n",
       "  'end': 16,\n",
       "  'answer': 'deep learning'}}"
      ]
     },
     "execution_count": 457,
     "metadata": {},
     "output_type": "execute_result"
    }
   ],
   "source": [
    "evaluator_roberta.answer_question(questions[2], texts)"
   ]
  },
  {
   "cell_type": "code",
   "execution_count": 458,
   "id": "b6c211c4-e6b9-4662-8e9a-6aceb2d7336e",
   "metadata": {},
   "outputs": [
    {
     "data": {
      "text/plain": [
       "{'question': 'What network is it about?',\n",
       " 'answer': {'score': 0.011551029980182648,\n",
       "  'start': 3,\n",
       "  'end': 17,\n",
       "  'answer': 'deep learning,'}}"
      ]
     },
     "execution_count": 458,
     "metadata": {},
     "output_type": "execute_result"
    }
   ],
   "source": [
    "evaluator_albert.answer_question(questions[2], texts)"
   ]
  },
  {
   "cell_type": "code",
   "execution_count": 459,
   "id": "60aedb44-3714-457e-9831-f5a960067611",
   "metadata": {},
   "outputs": [
    {
     "data": {
      "text/plain": [
       "{'question': 'What network is it about?',\n",
       " 'answer': {'score': 0.18043021857738495,\n",
       "  'start': 130,\n",
       "  'end': 159,\n",
       "  'answer': 'image recognition application'}}"
      ]
     },
     "execution_count": 459,
     "metadata": {},
     "output_type": "execute_result"
    }
   ],
   "source": [
    "evaluator_distilbet.answer_question(questions[2], texts)"
   ]
  },
  {
   "cell_type": "code",
   "execution_count": null,
   "id": "d891c79c-d700-4749-99f9-0fd0bd99bf1d",
   "metadata": {},
   "outputs": [],
   "source": []
  }
 ],
 "metadata": {
  "kernelspec": {
   "display_name": "Python 3 (ipykernel)",
   "language": "python",
   "name": "python3"
  },
  "language_info": {
   "codemirror_mode": {
    "name": "ipython",
    "version": 3
   },
   "file_extension": ".py",
   "mimetype": "text/x-python",
   "name": "python",
   "nbconvert_exporter": "python",
   "pygments_lexer": "ipython3",
   "version": "3.9.7"
  }
 },
 "nbformat": 4,
 "nbformat_minor": 5
}
