{
 "cells": [
  {
   "cell_type": "markdown",
   "id": "91eda735-6c9a-473d-af6a-e7fb02a684e3",
   "metadata": {},
   "source": [
    "# Evaluation"
   ]
  },
  {
   "cell_type": "code",
   "execution_count": 1,
   "id": "536a8485-cc58-4264-8a74-574724df0493",
   "metadata": {},
   "outputs": [],
   "source": [
    "import pandas as pd\n",
    "import numpy as np\n",
    "import matplotlib.pyplot as plt\n",
    "import seaborn as sns\n",
    "from tqdm.notebook import tqdm\n",
    "\n",
    "import torch\n",
    "from transformers import AutoTokenizer, AutoModelForQuestionAnswering\n",
    "from transformers import QuestionAnsweringPipeline\n",
    "\n",
    "sns.set_palette(palette='Paired')\n",
    "sns.set_style('whitegrid')"
   ]
  },
  {
   "cell_type": "code",
   "execution_count": 2,
   "id": "64ce2cf0-6d35-4d50-8bcd-faa482f4b7e0",
   "metadata": {},
   "outputs": [],
   "source": [
    "# Albert\n",
    "albert_tokenizer = AutoTokenizer.from_pretrained(\"Firat/albert-base-v2-finetuned-squad\")\n",
    "albert = AutoModelForQuestionAnswering.from_pretrained(\"Firat/albert-base-v2-finetuned-squad\")"
   ]
  },
  {
   "cell_type": "code",
   "execution_count": 3,
   "id": "73b1f1b9-dd34-456a-b378-942e7fb7c833",
   "metadata": {},
   "outputs": [],
   "source": [
    "# Roberta\n",
    "roberta_tokenizer = AutoTokenizer.from_pretrained(\"Firat/roberta-base-finetuned-squad\")\n",
    "roberta = AutoModelForQuestionAnswering.from_pretrained(\"Firat/roberta-base-finetuned-squad\")"
   ]
  },
  {
   "cell_type": "code",
   "execution_count": 4,
   "id": "4d6330ac-8aa5-496e-ac7f-80efc8efc052",
   "metadata": {},
   "outputs": [],
   "source": [
    "# Distilbert\n",
    "distilbert_tokenizer = AutoTokenizer.from_pretrained(\"Firat/distilbert-base-uncased-finetuned-squad\")\n",
    "distilbert_tokenizer = AutoModelForQuestionAnswering.from_pretrained(\"Firat/distilbert-base-uncased-finetuned-squad\")"
   ]
  },
  {
   "cell_type": "code",
   "execution_count": 5,
   "id": "077bca82-f30c-4c12-a565-9b3ff30798ce",
   "metadata": {},
   "outputs": [
    {
     "data": {
      "text/html": [
       "<div>\n",
       "<style scoped>\n",
       "    .dataframe tbody tr th:only-of-type {\n",
       "        vertical-align: middle;\n",
       "    }\n",
       "\n",
       "    .dataframe tbody tr th {\n",
       "        vertical-align: top;\n",
       "    }\n",
       "\n",
       "    .dataframe thead th {\n",
       "        text-align: right;\n",
       "    }\n",
       "</style>\n",
       "<table border=\"1\" class=\"dataframe\">\n",
       "  <thead>\n",
       "    <tr style=\"text-align: right;\">\n",
       "      <th></th>\n",
       "      <th>id</th>\n",
       "      <th>topic</th>\n",
       "      <th>difficulty (1-3)</th>\n",
       "      <th>text</th>\n",
       "      <th>question 1</th>\n",
       "      <th>answer 1</th>\n",
       "      <th>question 2</th>\n",
       "      <th>answer 2</th>\n",
       "      <th>question 3</th>\n",
       "      <th>answer 3</th>\n",
       "    </tr>\n",
       "  </thead>\n",
       "  <tbody>\n",
       "    <tr>\n",
       "      <th>0</th>\n",
       "      <td>1.0</td>\n",
       "      <td>history</td>\n",
       "      <td>1.0</td>\n",
       "      <td>World War II or the Second World War, often ab...</td>\n",
       "      <td>When took the second World War place?</td>\n",
       "      <td>1939 to 1945</td>\n",
       "      <td>How many personnel was involved?</td>\n",
       "      <td>more than 100 million</td>\n",
       "      <td>Who were the majority of fatalities?</td>\n",
       "      <td>civilians</td>\n",
       "    </tr>\n",
       "    <tr>\n",
       "      <th>1</th>\n",
       "      <td>2.0</td>\n",
       "      <td>health</td>\n",
       "      <td>3.0</td>\n",
       "      <td>Occupational therapy (OT) is a profession with...</td>\n",
       "      <td>Occupational therapy is profession within whic...</td>\n",
       "      <td>healthcare</td>\n",
       "      <td>By who is it performed?</td>\n",
       "      <td>occupational therapists and occupational thera...</td>\n",
       "      <td>What are common occupational therapy inerventi...</td>\n",
       "      <td>helping children with disabilities, injury reh...</td>\n",
       "    </tr>\n",
       "  </tbody>\n",
       "</table>\n",
       "</div>"
      ],
      "text/plain": [
       "    id    topic  difficulty (1-3)  \\\n",
       "0  1.0  history               1.0   \n",
       "1  2.0   health               3.0   \n",
       "\n",
       "                                                text  \\\n",
       "0  World War II or the Second World War, often ab...   \n",
       "1  Occupational therapy (OT) is a profession with...   \n",
       "\n",
       "                                          question 1      answer 1  \\\n",
       "0              When took the second World War place?  1939 to 1945   \n",
       "1  Occupational therapy is profession within whic...    healthcare   \n",
       "\n",
       "                         question 2  \\\n",
       "0  How many personnel was involved?   \n",
       "1           By who is it performed?   \n",
       "\n",
       "                                            answer 2  \\\n",
       "0                              more than 100 million   \n",
       "1  occupational therapists and occupational thera...   \n",
       "\n",
       "                                          question 3  \\\n",
       "0               Who were the majority of fatalities?   \n",
       "1  What are common occupational therapy inerventi...   \n",
       "\n",
       "                                            answer 3  \n",
       "0                                          civilians  \n",
       "1  helping children with disabilities, injury reh...  "
      ]
     },
     "execution_count": 5,
     "metadata": {},
     "output_type": "execute_result"
    }
   ],
   "source": [
    "# Load Questions\n",
    "data = pd.read_excel('./questions_collection.xlsx')\n",
    "data.columns = [col.lower() for col in data.columns]\n",
    "data.head(2)"
   ]
  },
  {
   "cell_type": "code",
   "execution_count": null,
   "id": "2ffd3768-bed1-43a3-b2a4-c2ca2ab4752e",
   "metadata": {},
   "outputs": [],
   "source": []
  },
  {
   "cell_type": "code",
   "execution_count": 6,
   "id": "11060c9e-94df-417d-a4fc-71f12a4177bd",
   "metadata": {},
   "outputs": [
    {
     "data": {
      "image/png": "[encoded data removed]",
      "text/plain": [
       "<Figure size 432x288 with 1 Axes>"
      ]
     },
     "metadata": {},
     "output_type": "display_data"
    }
   ],
   "source": [
    "p = sns.countplot(x=data['topic'])\n",
    "p.set_xticklabels(labels=p.get_xticklabels() , rotation=45)\n",
    "p.set_xlabel('')\n",
    "p.set_title('Topics')\n",
    "plt.show()"
   ]
  },
  {
   "cell_type": "code",
   "execution_count": 7,
   "id": "1c960242-04b0-46a6-94dc-af6ad2cd3a7c",
   "metadata": {},
   "outputs": [
    {
     "data": {
      "image/png": "[encoded data removed]",
      "text/plain": [
       "<Figure size 432x288 with 1 Axes>"
      ]
     },
     "metadata": {},
     "output_type": "display_data"
    }
   ],
   "source": [
    "p = sns.countplot(x=data['difficulty (1-3)'])\n",
    "p.set_xticklabels(labels=p.get_xticklabels() , rotation=45)\n",
    "p.set_title('Level of Difficulty')\n",
    "plt.show()"
   ]
  },
  {
   "cell_type": "code",
   "execution_count": 8,
   "id": "9b019356-be73-41df-878b-39886bd2a42f",
   "metadata": {},
   "outputs": [
    {
     "name": "stdout",
     "output_type": "stream",
     "text": [
      "World War II or the Second World War, often abbreviated as WWII or WW2, was a global war that lasted from 1939 to 1945. It involved the vast majority of the world's countries—including all of the great powers—forming two opposing military alliances: the Allies and the Axis powers. In a total war directly involving more than 100 million personnel from more than 30 countries, the major participants threw their entire economic, industrial, and scientific capabilities behind the war effort, blurring the distinction between civilian and military resources. Aircraft played a major role in the conflict, enabling the strategic bombing of population centres and the only two uses of nuclear weapons in war. World War II was by far the deadliest conflict in human history; it resulted in 70 to 85 million fatalities, a majority being civilians. Tens of millions of people died due to genocides (including the Holocaust), starvation, massacres, and disease. In the wake of the Axis defeat, Germany and Japan were occupied, and war crimes tribunals were conducted against German and Japanese leaders.\n",
      "========================================\n",
      "When took the second World War place?\n",
      "========================================\n",
      "How many personnel was involved?\n",
      "========================================\n",
      "Who were the majority of fatalities?\n"
     ]
    }
   ],
   "source": [
    "text = data.loc[0, 'text']\n",
    "q1 = data.loc[0, 'question 1']\n",
    "q2 = data.loc[0, 'question 2']\n",
    "q3 = data.loc[0, 'question 3']\n",
    "print(text)\n",
    "print(40*'=')\n",
    "print(q1)\n",
    "print(40*'=')\n",
    "print(q2)\n",
    "print(40*'=')\n",
    "print(q3)"
   ]
  },
  {
   "cell_type": "code",
   "execution_count": 9,
   "id": "72bba40d-2e60-44a7-8a17-4cbf38c79e82",
   "metadata": {},
   "outputs": [
    {
     "name": "stdout",
     "output_type": "stream",
     "text": [
      "(10,)\n",
      "7\n"
     ]
    }
   ],
   "source": [
    "foo = np.array(roberta_tokenizer(q1, padding='max_length')['input_ids'])\n",
    "print(foo[foo != 1].shape)\n",
    "print(len(q1.split(' ')))"
   ]
  },
  {
   "cell_type": "markdown",
   "id": "078b11b7-a1c5-4c7d-8090-c1479edefa0f",
   "metadata": {},
   "source": [
    "Jedes Wort bildet ein Token mit Start und End-Token. Es werden auch Satzzeichen tokenisiert."
   ]
  },
  {
   "cell_type": "code",
   "execution_count": 10,
   "id": "8bec6367-fc8c-41ba-9d5c-ed818cf05ba3",
   "metadata": {},
   "outputs": [
    {
     "name": "stdout",
     "output_type": "stream",
     "text": [
      "{'input_ids': [0, 10988, 1771, 3082, 50, 5, 4665, 623, 1771, 6, 747, 40993, 1070, 25, 29001, 50, 15584, 176, 6, 21, 10, 720, 997, 14, 9200, 31, 28234, 7, 21123, 4, 85, 963, 5, 4714, 1647, 9, 5, 232, 18, 749, 578, 8529, 70, 9, 5, 372, 4361, 578, 11847, 80, 9375, 831, 22484, 35, 5, 37761, 8, 5, 34073, 4361, 4, 96, 10, 746, 997, 2024, 3329, 55, 87, 727, 153, 3775, 31, 55, 87, 389, 749, 6, 5, 538, 3597, 4021, 49, 1445, 776, 6, 2683, 6, 8, 6441, 5587, 639, 5, 997, 1351, 6, 3089, 16715, 5, 16192, 227, 8233, 8, 831, 1915, 4, 25221, 702, 10, 538, 774, 11, 5, 3050, 6, 10298, 5, 3461, 10183, 9, 1956, 7872, 8, 5, 129, 80, 2939, 9, 1748, 2398, 11, 997, 4, 623, 1771, 3082, 21, 30, 444, 5, 16751, 3050, 11, 1050, 750, 131, 24, 4596, 11, 1510, 7, 5663, 153, 16982, 6, 10, 1647, 145, 6321, 4, 29031, 9, 2535, 9, 82, 962, 528, 7, 12358, 1975, 4376, 36, 8529, 5, 13903, 238, 31536, 6, 39246, 6, 8, 2199, 4, 96, 5, 3874, 9, 5, 34073, 3002, 6, 1600, 8, 1429, 58, 9533, 6, 8, 997, 3474, 28406, 879, 1536, 58, 2964, 136, 1859, 8, 2898, 917, 4, 2, 1, 1, 1, 1, 1, 1, 1, 1, 1, 1, 1, 1, 1, 1, 1, 1, 1, 1, 1, 1, 1, 1, 1, 1, 1, 1, 1, 1, 1, 1, 1, 1, 1, 1, 1, 1, 1, 1, 1, 1, 1, 1, 1, 1, 1, 1, 1, 1, 1, 1, 1, 1, 1, 1, 1, 1, 1, 1, 1, 1, 1, 1, 1, 1, 1, 1, 1, 1, 1, 1, 1, 1, 1, 1, 1, 1, 1, 1, 1, 1, 1, 1, 1, 1, 1, 1, 1, 1, 1, 1, 1, 1, 1, 1, 1, 1, 1, 1, 1, 1, 1, 1, 1, 1, 1, 1, 1, 1, 1, 1, 1, 1, 1, 1, 1, 1, 1, 1, 1, 1, 1, 1, 1, 1, 1, 1, 1, 1, 1, 1, 1, 1, 1, 1, 1, 1, 1, 1, 1, 1, 1, 1, 1, 1, 1, 1, 1, 1, 1, 1, 1, 1, 1, 1, 1, 1, 1, 1, 1, 1, 1, 1, 1, 1, 1, 1, 1, 1, 1, 1, 1, 1, 1, 1, 1, 1, 1, 1, 1, 1, 1, 1, 1, 1, 1, 1, 1, 1, 1, 1, 1, 1, 1, 1, 1, 1, 1, 1, 1, 1, 1, 1, 1, 1, 1, 1, 1, 1, 1, 1, 1, 1, 1, 1, 1, 1, 1, 1, 1, 1, 1, 1, 1, 1, 1, 1, 1, 1, 1, 1, 1, 1, 1, 1, 1, 1, 1, 1, 1, 1, 1, 1, 1, 1, 1, 1, 1, 1, 1, 1, 1, 1, 1, 1, 1, 1, 1, 1, 1, 1, 1, 1, 1, 1, 1, 1, 1, 1, 1, 1, 1, 1, 1, 1, 1, 1, 1, 1, 1, 1, 1, 1, 1, 1, 1, 1, 1, 1, 1, 1, 1, 1, 1, 1, 1, 1, 1, 1, 1, 1], 'attention_mask': [1, 1, 1, 1, 1, 1, 1, 1, 1, 1, 1, 1, 1, 1, 1, 1, 1, 1, 1, 1, 1, 1, 1, 1, 1, 1, 1, 1, 1, 1, 1, 1, 1, 1, 1, 1, 1, 1, 1, 1, 1, 1, 1, 1, 1, 1, 1, 1, 1, 1, 1, 1, 1, 1, 1, 1, 1, 1, 1, 1, 1, 1, 1, 1, 1, 1, 1, 1, 1, 1, 1, 1, 1, 1, 1, 1, 1, 1, 1, 1, 1, 1, 1, 1, 1, 1, 1, 1, 1, 1, 1, 1, 1, 1, 1, 1, 1, 1, 1, 1, 1, 1, 1, 1, 1, 1, 1, 1, 1, 1, 1, 1, 1, 1, 1, 1, 1, 1, 1, 1, 1, 1, 1, 1, 1, 1, 1, 1, 1, 1, 1, 1, 1, 1, 1, 1, 1, 1, 1, 1, 1, 1, 1, 1, 1, 1, 1, 1, 1, 1, 1, 1, 1, 1, 1, 1, 1, 1, 1, 1, 1, 1, 1, 1, 1, 1, 1, 1, 1, 1, 1, 1, 1, 1, 1, 1, 1, 1, 1, 1, 1, 1, 1, 1, 1, 1, 1, 1, 1, 1, 1, 1, 1, 1, 1, 1, 1, 1, 1, 1, 1, 1, 1, 1, 1, 1, 1, 1, 1, 1, 1, 1, 0, 0, 0, 0, 0, 0, 0, 0, 0, 0, 0, 0, 0, 0, 0, 0, 0, 0, 0, 0, 0, 0, 0, 0, 0, 0, 0, 0, 0, 0, 0, 0, 0, 0, 0, 0, 0, 0, 0, 0, 0, 0, 0, 0, 0, 0, 0, 0, 0, 0, 0, 0, 0, 0, 0, 0, 0, 0, 0, 0, 0, 0, 0, 0, 0, 0, 0, 0, 0, 0, 0, 0, 0, 0, 0, 0, 0, 0, 0, 0, 0, 0, 0, 0, 0, 0, 0, 0, 0, 0, 0, 0, 0, 0, 0, 0, 0, 0, 0, 0, 0, 0, 0, 0, 0, 0, 0, 0, 0, 0, 0, 0, 0, 0, 0, 0, 0, 0, 0, 0, 0, 0, 0, 0, 0, 0, 0, 0, 0, 0, 0, 0, 0, 0, 0, 0, 0, 0, 0, 0, 0, 0, 0, 0, 0, 0, 0, 0, 0, 0, 0, 0, 0, 0, 0, 0, 0, 0, 0, 0, 0, 0, 0, 0, 0, 0, 0, 0, 0, 0, 0, 0, 0, 0, 0, 0, 0, 0, 0, 0, 0, 0, 0, 0, 0, 0, 0, 0, 0, 0, 0, 0, 0, 0, 0, 0, 0, 0, 0, 0, 0, 0, 0, 0, 0, 0, 0, 0, 0, 0, 0, 0, 0, 0, 0, 0, 0, 0, 0, 0, 0, 0, 0, 0, 0, 0, 0, 0, 0, 0, 0, 0, 0, 0, 0, 0, 0, 0, 0, 0, 0, 0, 0, 0, 0, 0, 0, 0, 0, 0, 0, 0, 0, 0, 0, 0, 0, 0, 0, 0, 0, 0, 0, 0, 0, 0, 0, 0, 0, 0, 0, 0, 0, 0, 0, 0, 0, 0, 0, 0, 0, 0, 0, 0, 0, 0, 0, 0, 0, 0, 0, 0, 0, 0, 0, 0, 0, 0, 0, 0]}\n"
     ]
    }
   ],
   "source": [
    "inputs = roberta_tokenizer(text, padding=\"max_length\", truncation=True)\n",
    "print(inputs)"
   ]
  },
  {
   "cell_type": "markdown",
   "id": "4ccfb0ed-9e98-4c97-9fae-afa88772e7dc",
   "metadata": {},
   "source": [
    "Das Dictionary besteht aus den encodeten ID's und aus den Attention Mask. Die Attention Mask bezieht sich eigentlich nur auf den Wortteil, welcher nicht gepadded wurde. Das Padding wurde beim Tokenizer  mit dem Token 1 implementiert.."
   ]
  },
  {
   "cell_type": "code",
   "execution_count": 11,
   "id": "c98fd703-0260-4f28-83d9-76949093e6da",
   "metadata": {},
   "outputs": [
    {
     "name": "stdout",
     "output_type": "stream",
     "text": [
      "[(0, '<s>'), (1, '<pad>'), (2, '</s>'), (3, '<unk>')]\n"
     ]
    }
   ],
   "source": [
    "print([(i, roberta_tokenizer.convert_ids_to_tokens(i)) for i in range(4)])"
   ]
  },
  {
   "cell_type": "markdown",
   "id": "37f52ca1-7cee-4460-953f-ac8140f2460f",
   "metadata": {},
   "source": [
    "Die oberen Token stellen besondere Token dar wie start_token als 1, pad_token als 1, 2 als end_token und einen unbekannten Token mit der ID 3."
   ]
  },
  {
   "cell_type": "code",
   "execution_count": 12,
   "id": "43e6831d-72fb-4c28-bef4-b5d1808f86a7",
   "metadata": {},
   "outputs": [
    {
     "data": {
      "text/plain": [
       "array([1, 1, 1, 1, 1, 1, 1, 1, 1, 1, 1, 1, 1, 1, 1, 1, 1, 1, 1, 1, 1, 1,\n",
       "       1, 1, 1, 1, 1, 1, 1, 1, 1, 1, 1, 1, 1, 1, 1, 1, 1, 1, 1, 1, 1, 1,\n",
       "       1, 1, 1, 1, 1, 1, 1, 1, 1, 1, 1, 1, 1, 1, 1, 1, 1, 1, 1, 1, 1, 1,\n",
       "       1, 1, 1, 1, 1, 1, 1, 1, 1, 1, 1, 1, 1, 1, 1, 1, 1, 1, 1, 1, 1, 1,\n",
       "       1, 1, 1, 1, 1, 1, 1, 1, 1, 1, 1, 1, 1, 1, 1, 1, 1, 1, 1, 1, 1, 1,\n",
       "       1, 1, 1, 1, 1, 1, 1, 1, 1, 1, 1, 1, 1, 1, 1, 1, 1, 1, 1, 1, 1, 1,\n",
       "       1, 1, 1, 1, 1, 1, 1, 1, 1, 1, 1, 1, 1, 1, 1, 1, 1, 1, 1, 1, 1, 1,\n",
       "       1, 1, 1, 1, 1, 1, 1, 1, 1, 1, 1, 1, 1, 1, 1, 1, 1, 1, 1, 1, 1, 1,\n",
       "       1, 1, 1, 1, 1, 1, 1, 1, 1, 1, 1, 1, 1, 1, 1, 1, 1, 1, 1, 1, 1, 1,\n",
       "       1, 1, 1, 1, 1, 1, 1, 1, 1, 1, 1, 1, 1, 1, 0, 0, 0, 0, 0, 0, 0, 0,\n",
       "       0, 0, 0, 0, 0, 0, 0, 0, 0, 0, 0, 0, 0, 0, 0, 0, 0, 0, 0, 0, 0, 0,\n",
       "       0, 0, 0, 0, 0, 0, 0, 0, 0, 0, 0, 0, 0, 0, 0, 0, 0, 0, 0, 0, 0, 0,\n",
       "       0, 0, 0, 0, 0, 0, 0, 0, 0, 0, 0, 0, 0, 0, 0, 0, 0, 0, 0, 0, 0, 0,\n",
       "       0, 0, 0, 0, 0, 0, 0, 0, 0, 0, 0, 0, 0, 0, 0, 0, 0, 0, 0, 0, 0, 0,\n",
       "       0, 0, 0, 0, 0, 0, 0, 0, 0, 0, 0, 0, 0, 0, 0, 0, 0, 0, 0, 0, 0, 0,\n",
       "       0, 0, 0, 0, 0, 0, 0, 0, 0, 0, 0, 0, 0, 0, 0, 0, 0, 0, 0, 0, 0, 0,\n",
       "       0, 0, 0, 0, 0, 0, 0, 0, 0, 0, 0, 0, 0, 0, 0, 0, 0, 0, 0, 0, 0, 0,\n",
       "       0, 0, 0, 0, 0, 0, 0, 0, 0, 0, 0, 0, 0, 0, 0, 0, 0, 0, 0, 0, 0, 0,\n",
       "       0, 0, 0, 0, 0, 0, 0, 0, 0, 0, 0, 0, 0, 0, 0, 0, 0, 0, 0, 0, 0, 0,\n",
       "       0, 0, 0, 0, 0, 0, 0, 0, 0, 0, 0, 0, 0, 0, 0, 0, 0, 0, 0, 0, 0, 0,\n",
       "       0, 0, 0, 0, 0, 0, 0, 0, 0, 0, 0, 0, 0, 0, 0, 0, 0, 0, 0, 0, 0, 0,\n",
       "       0, 0, 0, 0, 0, 0, 0, 0, 0, 0, 0, 0, 0, 0, 0, 0, 0, 0, 0, 0, 0, 0,\n",
       "       0, 0, 0, 0, 0, 0, 0, 0, 0, 0, 0, 0, 0, 0, 0, 0, 0, 0, 0, 0, 0, 0,\n",
       "       0, 0, 0, 0, 0, 0])"
      ]
     },
     "execution_count": 12,
     "metadata": {},
     "output_type": "execute_result"
    }
   ],
   "source": [
    "att = np.array(inputs['attention_mask'])\n",
    "att"
   ]
  },
  {
   "cell_type": "code",
   "execution_count": 13,
   "id": "d2e91481-f262-4f28-bc9c-58bbc1a57adf",
   "metadata": {},
   "outputs": [],
   "source": [
    "# Extraction of topk: topk=10\n",
    "roberta_pipeline = QuestionAnsweringPipeline(model=roberta, tokenizer=roberta_tokenizer)"
   ]
  },
  {
   "cell_type": "code",
   "execution_count": 14,
   "id": "1f3e7616-a549-4009-9e6f-54b66abd5696",
   "metadata": {},
   "outputs": [
    {
     "name": "stdout",
     "output_type": "stream",
     "text": [
      "On who focuses the series?\n",
      "{'score': 0.9776242971420288, 'start': 22, 'end': 37, 'answer': 'Monkey D. Luffy'}\n",
      "Monkey D. Ruffy\n"
     ]
    }
   ],
   "source": [
    "text_id = 3\n",
    "print(data.loc[text_id, 'question 1'])\n",
    "print(roberta_pipeline(question=data.loc[text_id, 'question 1'], context=data.loc[text_id, 'text']))\n",
    "print(data.loc[text_id, 'answer 1'])"
   ]
  },
  {
   "cell_type": "code",
   "execution_count": 15,
   "id": "f247b4ea-86cb-40b3-81ff-9374876b003f",
   "metadata": {},
   "outputs": [],
   "source": [
    "class QAEvaluate(object):\n",
    "    \"\"\"\n",
    "    To-DO:\n",
    "    --------\n",
    "    - Implement Exact Match w. Predictions and Answers\n",
    "    - Implement F1 Matching\n",
    "    - Custom Implementation for matching like Levenstein distance ...\n",
    "    \n",
    "    - Implement plotting functions to plot results\n",
    "    \n",
    "    - Make CrossEval class to evaluate between different models\n",
    "    \"\"\"\n",
    "    \n",
    "    \n",
    "    def __init__(self, model, tokenizer):\n",
    "        self.model = model\n",
    "        self.tokenizer = tokenizer\n",
    "        self.pipeline = QuestionAnsweringPipeline(model=model, \n",
    "                                                  tokenizer=tokenizer)\n",
    "        self.metric = None\n",
    "        \n",
    "    def evaluate(self, texts: list, questions: list, answers: list):\n",
    "        answers = {}\n",
    "        with tqdm(total=len(texts)*len(questions[0])) as pbar:\n",
    "            for i, text in enumerate(texts):\n",
    "                answers[i] = {}\n",
    "                for j, question in enumerate(questions[i]):\n",
    "                    answer = self.answer_question(question=question, text=text)\n",
    "                    answers[i][j] = answer\n",
    "                    pbar.update(1)\n",
    "\n",
    "        return answers\n",
    "    \n",
    "    def answer_question(self, question, text):\n",
    "        answer = self.pipeline(question=question, context=text)\n",
    "        \n",
    "        return dict(question=question, answer=answer['answer'])"
   ]
  },
  {
   "cell_type": "code",
   "execution_count": 16,
   "id": "3da1764d-3d0d-485d-890d-0484d4d941e1",
   "metadata": {},
   "outputs": [],
   "source": [
    "evaluator = QAEvaluate(model=roberta, tokenizer=roberta_tokenizer)"
   ]
  },
  {
   "cell_type": "code",
   "execution_count": 17,
   "id": "51dc27e4-e81e-4884-a64a-91c62abd7713",
   "metadata": {},
   "outputs": [
    {
     "data": {
      "text/plain": [
       "'When took the second World War place?'"
      ]
     },
     "execution_count": 17,
     "metadata": {},
     "output_type": "execute_result"
    }
   ],
   "source": [
    "data.loc[0, 'question 1']"
   ]
  },
  {
   "cell_type": "code",
   "execution_count": 18,
   "id": "877db1e8-eeef-4c33-bb2f-8ad04ca51875",
   "metadata": {},
   "outputs": [
    {
     "data": {
      "text/plain": [
       "{'question': 'When took the second World War place?', 'answer': '1945'}"
      ]
     },
     "execution_count": 18,
     "metadata": {},
     "output_type": "execute_result"
    }
   ],
   "source": [
    "evaluator.answer_question(question=data.loc[0, 'question 1'], text=data.loc[0, 'text'])"
   ]
  },
  {
   "cell_type": "code",
   "execution_count": 19,
   "id": "a023d2fc-33a1-4429-ba1d-118b9d560bdb",
   "metadata": {},
   "outputs": [],
   "source": [
    "texts = data.loc[:2, 'text'].to_list()\n",
    "questions = data.loc[:2, ['question 1', 'question 2', 'question 3']].to_numpy()\n",
    "answers = data.loc[:2, ['answer 1', 'answer 2', 'answer 3']].to_numpy()"
   ]
  },
  {
   "cell_type": "code",
   "execution_count": 20,
   "id": "220d2e19-1876-4bf1-befe-1720d1479434",
   "metadata": {},
   "outputs": [
    {
     "data": {
      "text/plain": [
       "array(['When took the second World War place?',\n",
       "       'How many personnel was involved?',\n",
       "       'Who were the majority of fatalities?'], dtype=object)"
      ]
     },
     "execution_count": 20,
     "metadata": {},
     "output_type": "execute_result"
    }
   ],
   "source": [
    "questions[0]"
   ]
  },
  {
   "cell_type": "code",
   "execution_count": 21,
   "id": "7e06f8b8-7942-454f-bda9-35a6ae2ed603",
   "metadata": {},
   "outputs": [
    {
     "data": {
      "text/plain": [
       "\"World War II or the Second World War, often abbreviated as WWII or WW2, was a global war that lasted from 1939 to 1945. It involved the vast majority of the world's countries—including all of the great powers—forming two opposing military alliances: the Allies and the Axis powers. In a total war directly involving more than 100 million personnel from more than 30 countries, the major participants threw their entire economic, industrial, and scientific capabilities behind the war effort, blurring the distinction between civilian and military resources. Aircraft played a major role in the conflict, enabling the strategic bombing of population centres and the only two uses of nuclear weapons in war. World War II was by far the deadliest conflict in human history; it resulted in 70 to 85 million fatalities, a majority being civilians. Tens of millions of people died due to genocides (including the Holocaust), starvation, massacres, and disease. In the wake of the Axis defeat, Germany and Japan were occupied, and war crimes tribunals were conducted against German and Japanese leaders.\""
      ]
     },
     "execution_count": 21,
     "metadata": {},
     "output_type": "execute_result"
    }
   ],
   "source": [
    "texts[0]"
   ]
  },
  {
   "cell_type": "code",
   "execution_count": 22,
   "id": "76809c6f-215b-4652-a7b2-aa0f6a1edc04",
   "metadata": {},
   "outputs": [
    {
     "data": {
      "application/vnd.jupyter.widget-view+json": {
       "model_id": "1a2b81e46cdf445f9b9b6ea880f393d7",
       "version_major": 2,
       "version_minor": 0
      },
      "text/plain": [
       "  0%|          | 0/9 [00:00<?, ?it/s]"
      ]
     },
     "metadata": {},
     "output_type": "display_data"
    },
    {
     "data": {
      "text/plain": [
       "{0: {0: {'question': 'When took the second World War place?',\n",
       "   'answer': '1945'},\n",
       "  1: {'question': 'How many personnel was involved?',\n",
       "   'answer': 'more than 100 million'},\n",
       "  2: {'question': 'Who were the majority of fatalities?',\n",
       "   'answer': 'civilians'}},\n",
       " 1: {0: {'question': 'Occupational therapy is profession within which field?',\n",
       "   'answer': 'healthcare'},\n",
       "  1: {'question': 'By who is it performed?',\n",
       "   'answer': 'occupational therapists and occupational therapy assistants (OTA).'},\n",
       "  2: {'question': 'What are common occupational therapy inerventions?',\n",
       "   'answer': 'helping children with disabilities to participate fully in school and social situations'}},\n",
       " 2: {0: {'question': 'What can a raw input may be?',\n",
       "   'answer': 'a matrix of pixels'},\n",
       "  1: {'question': 'What does the second layer?',\n",
       "   'answer': 'compose and encode arrangements of edges'},\n",
       "  2: {'question': 'What network is it about?', 'answer': 'deep learning'}}}"
      ]
     },
     "execution_count": 22,
     "metadata": {},
     "output_type": "execute_result"
    }
   ],
   "source": [
    "evaluator.evaluate(texts=texts, questions=questions,answers=answers)"
   ]
  },
  {
   "cell_type": "code",
   "execution_count": null,
   "id": "eb813979-748e-4661-bd1a-4d25bb12862d",
   "metadata": {},
   "outputs": [],
   "source": []
  }
 ],
 "metadata": {
  "kernelspec": {
   "display_name": "Python 3 (ipykernel)",
   "language": "python",
   "name": "python3"
  },
  "language_info": {
   "codemirror_mode": {
    "name": "ipython",
    "version": 3
   },
   "file_extension": ".py",
   "mimetype": "text/x-python",
   "name": "python",
   "nbconvert_exporter": "python",
   "pygments_lexer": "ipython3",
   "version": "3.9.7"
  }
 },
 "nbformat": 4,
 "nbformat_minor": 5
}
